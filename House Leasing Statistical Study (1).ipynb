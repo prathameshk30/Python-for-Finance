{
 "cells": [
  {
   "cell_type": "markdown",
   "id": "bed6d292",
   "metadata": {},
   "source": [
    "# Import the Dataset"
   ]
  },
  {
   "cell_type": "code",
   "execution_count": 793,
   "id": "f38d07aa",
   "metadata": {},
   "outputs": [
    {
     "name": "stdout",
     "output_type": "stream",
     "text": [
      "Requirement already satisfied: pip in c:\\users\\prath\\anaconda3\\lib\\site-packages (23.0.1)"
     ]
    },
    {
     "name": "stderr",
     "output_type": "stream",
     "text": [
      "ERROR: To modify pip, please run the following command:\n",
      "C:\\Users\\prath\\anaconda3\\python.exe -m pip install --upgrade pip\n",
      "\n",
      "[notice] A new release of pip is available: 23.0.1 -> 23.1\n",
      "[notice] To update, run: python.exe -m pip install --upgrade pip\n"
     ]
    },
    {
     "name": "stdout",
     "output_type": "stream",
     "text": [
      "\n",
      "Collecting pip\n",
      "  Downloading pip-23.1.1-py3-none-any.whl (2.1 MB)\n",
      "     ---------------------------------------- 2.1/2.1 MB 153.9 kB/s eta 0:00:00\n",
      "Requirement already satisfied: plotnine in c:\\users\\prath\\anaconda3\\lib\\site-packages (0.10.1)\n",
      "Requirement already satisfied: scipy>=1.5.0 in c:\\users\\prath\\anaconda3\\lib\\site-packages (from plotnine) (1.9.1)\n",
      "Requirement already satisfied: mizani>=0.8.1 in c:\\users\\prath\\anaconda3\\lib\\site-packages (from plotnine) (0.9.0)\n",
      "Requirement already satisfied: matplotlib>=3.5.0 in c:\\users\\prath\\anaconda3\\lib\\site-packages (from plotnine) (3.5.2)\n",
      "Requirement already satisfied: numpy>=1.19.0 in c:\\users\\prath\\anaconda3\\lib\\site-packages (from plotnine) (1.21.5)\n",
      "Requirement already satisfied: pandas>=1.3.5 in c:\\users\\prath\\anaconda3\\lib\\site-packages (from plotnine) (1.4.4)\n",
      "Requirement already satisfied: statsmodels>=0.13.2 in c:\\users\\prath\\anaconda3\\lib\\site-packages (from plotnine) (0.13.2)\n",
      "Requirement already satisfied: patsy>=0.5.1 in c:\\users\\prath\\anaconda3\\lib\\site-packages (from plotnine) (0.5.2)\n",
      "Requirement already satisfied: kiwisolver>=1.0.1 in c:\\users\\prath\\anaconda3\\lib\\site-packages (from matplotlib>=3.5.0->plotnine) (1.4.2)\n",
      "Requirement already satisfied: packaging>=20.0 in c:\\users\\prath\\anaconda3\\lib\\site-packages (from matplotlib>=3.5.0->plotnine) (21.3)\n",
      "Requirement already satisfied: python-dateutil>=2.7 in c:\\users\\prath\\anaconda3\\lib\\site-packages (from matplotlib>=3.5.0->plotnine) (2.8.2)\n",
      "Requirement already satisfied: fonttools>=4.22.0 in c:\\users\\prath\\anaconda3\\lib\\site-packages (from matplotlib>=3.5.0->plotnine) (4.25.0)\n",
      "Requirement already satisfied: pyparsing>=2.2.1 in c:\\users\\prath\\anaconda3\\lib\\site-packages (from matplotlib>=3.5.0->plotnine) (3.0.9)\n",
      "Requirement already satisfied: pillow>=6.2.0 in c:\\users\\prath\\anaconda3\\lib\\site-packages (from matplotlib>=3.5.0->plotnine) (9.3.0)\n",
      "Requirement already satisfied: cycler>=0.10 in c:\\users\\prath\\anaconda3\\lib\\site-packages (from matplotlib>=3.5.0->plotnine) (0.11.0)\n",
      "Requirement already satisfied: tzdata in c:\\users\\prath\\anaconda3\\lib\\site-packages (from mizani>=0.8.1->plotnine) (2022.7)\n",
      "Requirement already satisfied: pytz>=2020.1 in c:\\users\\prath\\anaconda3\\lib\\site-packages (from pandas>=1.3.5->plotnine) (2023.3)\n",
      "Requirement already satisfied: six in c:\\users\\prath\\anaconda3\\lib\\site-packages (from patsy>=0.5.1->plotnine) (1.16.0)\n"
     ]
    },
    {
     "name": "stderr",
     "output_type": "stream",
     "text": [
      "\n",
      "[notice] A new release of pip is available: 23.0.1 -> 23.1\n",
      "[notice] To update, run: python.exe -m pip install --upgrade pip\n"
     ]
    },
    {
     "name": "stdout",
     "output_type": "stream",
     "text": [
      "Collecting kmodes\n",
      "  Downloading kmodes-0.12.2-py2.py3-none-any.whl (20 kB)\n",
      "Requirement already satisfied: numpy>=1.10.4 in c:\\users\\prath\\anaconda3\\lib\\site-packages (from kmodes) (1.21.5)\n",
      "Requirement already satisfied: joblib>=0.11 in c:\\users\\prath\\anaconda3\\lib\\site-packages (from kmodes) (1.1.0)\n",
      "Requirement already satisfied: scipy>=0.13.3 in c:\\users\\prath\\anaconda3\\lib\\site-packages (from kmodes) (1.9.1)\n",
      "Requirement already satisfied: scikit-learn>=0.22.0 in c:\\users\\prath\\anaconda3\\lib\\site-packages (from kmodes) (1.0.2)\n",
      "Requirement already satisfied: threadpoolctl>=2.0.0 in c:\\users\\prath\\anaconda3\\lib\\site-packages (from scikit-learn>=0.22.0->kmodes) (2.2.0)\n",
      "Installing collected packages: kmodes\n",
      "Successfully installed kmodes-0.12.2\n"
     ]
    },
    {
     "name": "stderr",
     "output_type": "stream",
     "text": [
      "\n",
      "[notice] A new release of pip is available: 23.0.1 -> 23.1\n",
      "[notice] To update, run: python.exe -m pip install --upgrade pip\n"
     ]
    }
   ],
   "source": [
    "! pip install --upgrade pip\n",
    "! pip install plotnine\n",
    "!pip install kmodes\n",
    "# Installation"
   ]
  },
  {
   "cell_type": "code",
   "execution_count": 796,
   "id": "68eecef6",
   "metadata": {},
   "outputs": [],
   "source": [
    "## importing the libraries\n",
    "\n",
    "import pandas as pd\n",
    "import numpy as np\n",
    "import matplotlib.pyplot as plt\n",
    "plt.style.use('ggplot')\n",
    "from plotnine import *\n",
    "%matplotlib inline\n",
    "import plotnine as plotnine\n",
    "import seaborn as sns\n",
    "from IPython.display import display, Latex\n",
    "from scipy.stats import chi2\n",
    "from scipy.stats import chi2_contingency\n",
    "from scipy.stats import fisher_exact\n",
    "from kmodes.kmodes import KModes\n",
    "\n",
    "sns.set(rc={'figure.figsize':(4,4)})"
   ]
  },
  {
   "cell_type": "code",
   "execution_count": 797,
   "id": "96789ff7",
   "metadata": {},
   "outputs": [
    {
     "data": {
      "text/html": [
       "<div>\n",
       "<style scoped>\n",
       "    .dataframe tbody tr th:only-of-type {\n",
       "        vertical-align: middle;\n",
       "    }\n",
       "\n",
       "    .dataframe tbody tr th {\n",
       "        vertical-align: top;\n",
       "    }\n",
       "\n",
       "    .dataframe thead th {\n",
       "        text-align: right;\n",
       "    }\n",
       "</style>\n",
       "<table border=\"1\" class=\"dataframe\">\n",
       "  <thead>\n",
       "    <tr style=\"text-align: right;\">\n",
       "      <th></th>\n",
       "      <th>lease_id</th>\n",
       "      <th>no_rent_change</th>\n",
       "      <th>rent_change_10</th>\n",
       "      <th>rent_change_20</th>\n",
       "      <th>lease_length_2</th>\n",
       "      <th>lease_length_3</th>\n",
       "      <th>lease_length_1</th>\n",
       "      <th>age_range_under_24</th>\n",
       "      <th>age_range_24_29</th>\n",
       "      <th>age_range_30_39</th>\n",
       "      <th>age_range_40_49</th>\n",
       "      <th>age_range_50_59</th>\n",
       "      <th>age_range_60</th>\n",
       "      <th>NoFinesViolations</th>\n",
       "      <th>PositiveSurvey</th>\n",
       "      <th>LatePayments</th>\n",
       "      <th>HOA_mandatory</th>\n",
       "      <th>Renewed</th>\n",
       "    </tr>\n",
       "  </thead>\n",
       "  <tbody>\n",
       "    <tr>\n",
       "      <th>0</th>\n",
       "      <td>HPA0001</td>\n",
       "      <td>0</td>\n",
       "      <td>0</td>\n",
       "      <td>0</td>\n",
       "      <td>0</td>\n",
       "      <td>0</td>\n",
       "      <td>0</td>\n",
       "      <td>0</td>\n",
       "      <td>0</td>\n",
       "      <td>0</td>\n",
       "      <td>0</td>\n",
       "      <td>0</td>\n",
       "      <td>0</td>\n",
       "      <td>0</td>\n",
       "      <td>1</td>\n",
       "      <td>1</td>\n",
       "      <td>0</td>\n",
       "      <td>1</td>\n",
       "    </tr>\n",
       "    <tr>\n",
       "      <th>1</th>\n",
       "      <td>HPA0002</td>\n",
       "      <td>0</td>\n",
       "      <td>0</td>\n",
       "      <td>0</td>\n",
       "      <td>0</td>\n",
       "      <td>0</td>\n",
       "      <td>0</td>\n",
       "      <td>0</td>\n",
       "      <td>0</td>\n",
       "      <td>0</td>\n",
       "      <td>0</td>\n",
       "      <td>0</td>\n",
       "      <td>0</td>\n",
       "      <td>0</td>\n",
       "      <td>0</td>\n",
       "      <td>0</td>\n",
       "      <td>0</td>\n",
       "      <td>0</td>\n",
       "    </tr>\n",
       "    <tr>\n",
       "      <th>2</th>\n",
       "      <td>HPA0003</td>\n",
       "      <td>0</td>\n",
       "      <td>0</td>\n",
       "      <td>0</td>\n",
       "      <td>0</td>\n",
       "      <td>0</td>\n",
       "      <td>0</td>\n",
       "      <td>0</td>\n",
       "      <td>0</td>\n",
       "      <td>0</td>\n",
       "      <td>0</td>\n",
       "      <td>0</td>\n",
       "      <td>0</td>\n",
       "      <td>0</td>\n",
       "      <td>1</td>\n",
       "      <td>0</td>\n",
       "      <td>0</td>\n",
       "      <td>0</td>\n",
       "    </tr>\n",
       "    <tr>\n",
       "      <th>3</th>\n",
       "      <td>HPA0004</td>\n",
       "      <td>0</td>\n",
       "      <td>0</td>\n",
       "      <td>0</td>\n",
       "      <td>0</td>\n",
       "      <td>0</td>\n",
       "      <td>0</td>\n",
       "      <td>0</td>\n",
       "      <td>0</td>\n",
       "      <td>0</td>\n",
       "      <td>0</td>\n",
       "      <td>0</td>\n",
       "      <td>0</td>\n",
       "      <td>0</td>\n",
       "      <td>1</td>\n",
       "      <td>1</td>\n",
       "      <td>0</td>\n",
       "      <td>0</td>\n",
       "    </tr>\n",
       "    <tr>\n",
       "      <th>4</th>\n",
       "      <td>HPA0005</td>\n",
       "      <td>0</td>\n",
       "      <td>0</td>\n",
       "      <td>0</td>\n",
       "      <td>0</td>\n",
       "      <td>0</td>\n",
       "      <td>0</td>\n",
       "      <td>0</td>\n",
       "      <td>0</td>\n",
       "      <td>0</td>\n",
       "      <td>0</td>\n",
       "      <td>0</td>\n",
       "      <td>0</td>\n",
       "      <td>0</td>\n",
       "      <td>0</td>\n",
       "      <td>0</td>\n",
       "      <td>0</td>\n",
       "      <td>0</td>\n",
       "    </tr>\n",
       "  </tbody>\n",
       "</table>\n",
       "</div>"
      ],
      "text/plain": [
       "  lease_id  no_rent_change  rent_change_10  rent_change_20  lease_length_2  \\\n",
       "0  HPA0001               0               0               0               0   \n",
       "1  HPA0002               0               0               0               0   \n",
       "2  HPA0003               0               0               0               0   \n",
       "3  HPA0004               0               0               0               0   \n",
       "4  HPA0005               0               0               0               0   \n",
       "\n",
       "   lease_length_3  lease_length_1  age_range_under_24  age_range_24_29  \\\n",
       "0               0               0                   0                0   \n",
       "1               0               0                   0                0   \n",
       "2               0               0                   0                0   \n",
       "3               0               0                   0                0   \n",
       "4               0               0                   0                0   \n",
       "\n",
       "   age_range_30_39  age_range_40_49  age_range_50_59  age_range_60  \\\n",
       "0                0                0                0             0   \n",
       "1                0                0                0             0   \n",
       "2                0                0                0             0   \n",
       "3                0                0                0             0   \n",
       "4                0                0                0             0   \n",
       "\n",
       "   NoFinesViolations  PositiveSurvey  LatePayments  HOA_mandatory  Renewed  \n",
       "0                  0               1             1              0        1  \n",
       "1                  0               0             0              0        0  \n",
       "2                  0               1             0              0        0  \n",
       "3                  0               1             1              0        0  \n",
       "4                  0               0             0              0        0  "
      ]
     },
     "execution_count": 797,
     "metadata": {},
     "output_type": "execute_result"
    }
   ],
   "source": [
    "## Reading the dataset\n",
    "\n",
    "df=pd.read_csv(r\"C:\\Users\\prath\\Downloads\\xxxxx\")\n",
    "df.head(5)"
   ]
  },
  {
   "cell_type": "markdown",
   "id": "5ca22c07",
   "metadata": {},
   "source": [
    "# EDA & Analysis"
   ]
  },
  {
   "cell_type": "code",
   "execution_count": 798,
   "id": "d63799e6",
   "metadata": {},
   "outputs": [
    {
     "name": "stdout",
     "output_type": "stream",
     "text": [
      "The number of rows/values in dataframe are 79850\n",
      "The number of columns in dataframe are 18\n"
     ]
    }
   ],
   "source": [
    "## checking the  dataset size\n",
    "\n",
    "a=len(df)\n",
    "b=len(df.columns)\n",
    "\n",
    "print(\"The number of rows/values in dataframe are {}\".format(a))\n",
    "print(\"The number of columns in dataframe are {}\".format(b))"
   ]
  },
  {
   "cell_type": "code",
   "execution_count": 799,
   "id": "28a1d82f",
   "metadata": {},
   "outputs": [
    {
     "name": "stdout",
     "output_type": "stream",
     "text": [
      "<class 'pandas.core.frame.DataFrame'>\n",
      "RangeIndex: 79850 entries, 0 to 79849\n",
      "Data columns (total 18 columns):\n",
      " #   Column              Non-Null Count  Dtype \n",
      "---  ------              --------------  ----- \n",
      " 0   lease_id            79850 non-null  object\n",
      " 1   no_rent_change      79850 non-null  int64 \n",
      " 2   rent_change_10      79850 non-null  int64 \n",
      " 3   rent_change_20      79850 non-null  int64 \n",
      " 4   lease_length_2      79850 non-null  int64 \n",
      " 5   lease_length_3      79850 non-null  int64 \n",
      " 6   lease_length_1      79850 non-null  int64 \n",
      " 7   age_range_under_24  79850 non-null  int64 \n",
      " 8   age_range_24_29     79850 non-null  int64 \n",
      " 9   age_range_30_39     79850 non-null  int64 \n",
      " 10  age_range_40_49     79850 non-null  int64 \n",
      " 11  age_range_50_59     79850 non-null  int64 \n",
      " 12  age_range_60        79850 non-null  int64 \n",
      " 13  NoFinesViolations   79850 non-null  int64 \n",
      " 14  PositiveSurvey      79850 non-null  int64 \n",
      " 15  LatePayments        79850 non-null  int64 \n",
      " 16  HOA_mandatory       79850 non-null  int64 \n",
      " 17  Renewed             79850 non-null  int64 \n",
      "dtypes: int64(17), object(1)\n",
      "memory usage: 11.0+ MB\n"
     ]
    }
   ],
   "source": [
    "# Inspect the data type\n",
    "\n",
    "df.info()"
   ]
  },
  {
   "cell_type": "markdown",
   "id": "4d456be4",
   "metadata": {},
   "source": [
    "### As all the values are in binary format (1, 0), I will convert the data from int64 to object type as it will help me to better interpret the graphical representation and also Python assumes it to be integer data which is not true in our case."
   ]
  },
  {
   "cell_type": "code",
   "execution_count": 800,
   "id": "0e8efaff",
   "metadata": {},
   "outputs": [],
   "source": [
    "## Create a function to convert the data format from int64 to object type\n",
    "\n",
    "def convert_int64_to_obj(args):\n",
    "    return args.replace([0, 1], ['No', 'Yes'])"
   ]
  },
  {
   "cell_type": "code",
   "execution_count": 801,
   "id": "ebce11c1",
   "metadata": {},
   "outputs": [],
   "source": [
    "## Converting the data in dataframe\n",
    "\n",
    "columns=list(df.columns)\n",
    "\n",
    "for i in (columns):\n",
    "    df[i]=convert_int64_to_obj(df[i])"
   ]
  },
  {
   "cell_type": "code",
   "execution_count": 802,
   "id": "21011073",
   "metadata": {},
   "outputs": [
    {
     "name": "stdout",
     "output_type": "stream",
     "text": [
      "<class 'pandas.core.frame.DataFrame'>\n",
      "RangeIndex: 79850 entries, 0 to 79849\n",
      "Data columns (total 18 columns):\n",
      " #   Column              Non-Null Count  Dtype \n",
      "---  ------              --------------  ----- \n",
      " 0   lease_id            79850 non-null  object\n",
      " 1   no_rent_change      79850 non-null  object\n",
      " 2   rent_change_10      79850 non-null  object\n",
      " 3   rent_change_20      79850 non-null  object\n",
      " 4   lease_length_2      79850 non-null  object\n",
      " 5   lease_length_3      79850 non-null  object\n",
      " 6   lease_length_1      79850 non-null  object\n",
      " 7   age_range_under_24  79850 non-null  object\n",
      " 8   age_range_24_29     79850 non-null  object\n",
      " 9   age_range_30_39     79850 non-null  object\n",
      " 10  age_range_40_49     79850 non-null  object\n",
      " 11  age_range_50_59     79850 non-null  object\n",
      " 12  age_range_60        79850 non-null  object\n",
      " 13  NoFinesViolations   79850 non-null  object\n",
      " 14  PositiveSurvey      79850 non-null  object\n",
      " 15  LatePayments        79850 non-null  object\n",
      " 16  HOA_mandatory       79850 non-null  object\n",
      " 17  Renewed             79850 non-null  object\n",
      "dtypes: object(18)\n",
      "memory usage: 11.0+ MB\n"
     ]
    }
   ],
   "source": [
    "# Checking the data types\n",
    "\n",
    "df.info()"
   ]
  },
  {
   "cell_type": "code",
   "execution_count": 803,
   "id": "329f9db4",
   "metadata": {},
   "outputs": [
    {
     "data": {
      "text/plain": [
       "lease_id              79850\n",
       "no_rent_change            2\n",
       "rent_change_10            2\n",
       "rent_change_20            2\n",
       "lease_length_2            2\n",
       "lease_length_3            2\n",
       "lease_length_1            2\n",
       "age_range_under_24        2\n",
       "age_range_24_29           2\n",
       "age_range_30_39           2\n",
       "age_range_40_49           2\n",
       "age_range_50_59           2\n",
       "age_range_60              2\n",
       "NoFinesViolations         2\n",
       "PositiveSurvey            2\n",
       "LatePayments              2\n",
       "HOA_mandatory             2\n",
       "Renewed                   2\n",
       "dtype: int64"
      ]
     },
     "execution_count": 803,
     "metadata": {},
     "output_type": "execute_result"
    }
   ],
   "source": [
    "# Check the unique value each categorical columns\n",
    "df.select_dtypes('object').nunique()"
   ]
  },
  {
   "cell_type": "code",
   "execution_count": 804,
   "id": "53027406",
   "metadata": {},
   "outputs": [
    {
     "data": {
      "text/plain": [
       "lease_id              0\n",
       "no_rent_change        0\n",
       "rent_change_10        0\n",
       "rent_change_20        0\n",
       "lease_length_2        0\n",
       "lease_length_3        0\n",
       "lease_length_1        0\n",
       "age_range_under_24    0\n",
       "age_range_24_29       0\n",
       "age_range_30_39       0\n",
       "age_range_40_49       0\n",
       "age_range_50_59       0\n",
       "age_range_60          0\n",
       "NoFinesViolations     0\n",
       "PositiveSurvey        0\n",
       "LatePayments          0\n",
       "HOA_mandatory         0\n",
       "Renewed               0\n",
       "dtype: int64"
      ]
     },
     "execution_count": 804,
     "metadata": {},
     "output_type": "execute_result"
    }
   ],
   "source": [
    "# Check missing value\n",
    "\n",
    "df.isna().sum()"
   ]
  },
  {
   "cell_type": "code",
   "execution_count": 634,
   "id": "eba9d147",
   "metadata": {},
   "outputs": [],
   "source": [
    "# Create A custom function to calculate the percenatge and value of yes/ no for each variable \n",
    "\n",
    "def calculate_percentage_yes_no(column,variable):\n",
    "    df_renewal = pd.DataFrame(column.value_counts()).reset_index()\n",
    "    df_renewal['Percentage'] = round(df_renewal[variable] / column.value_counts().sum()*100, 2)\n",
    "    df_renewal.rename(columns = {'index':variable, variable:'Total'}, inplace = True)\n",
    "    df_renewal = df_renewal.sort_values('Total', ascending = True).reset_index(drop =True)\n",
    "    return df_renewal"
   ]
  },
  {
   "cell_type": "code",
   "execution_count": 635,
   "id": "a6202d1d",
   "metadata": {},
   "outputs": [
    {
     "data": {
      "text/html": [
       "<div>\n",
       "<style scoped>\n",
       "    .dataframe tbody tr th:only-of-type {\n",
       "        vertical-align: middle;\n",
       "    }\n",
       "\n",
       "    .dataframe tbody tr th {\n",
       "        vertical-align: top;\n",
       "    }\n",
       "\n",
       "    .dataframe thead th {\n",
       "        text-align: right;\n",
       "    }\n",
       "</style>\n",
       "<table border=\"1\" class=\"dataframe\">\n",
       "  <thead>\n",
       "    <tr style=\"text-align: right;\">\n",
       "      <th></th>\n",
       "      <th>Renewed</th>\n",
       "      <th>Total</th>\n",
       "      <th>Percentage</th>\n",
       "    </tr>\n",
       "  </thead>\n",
       "  <tbody>\n",
       "    <tr>\n",
       "      <th>0</th>\n",
       "      <td>Yes</td>\n",
       "      <td>15642</td>\n",
       "      <td>19.59</td>\n",
       "    </tr>\n",
       "    <tr>\n",
       "      <th>1</th>\n",
       "      <td>No</td>\n",
       "      <td>64208</td>\n",
       "      <td>80.41</td>\n",
       "    </tr>\n",
       "  </tbody>\n",
       "</table>\n",
       "</div>"
      ],
      "text/plain": [
       "  Renewed  Total  Percentage\n",
       "0     Yes  15642       19.59\n",
       "1      No  64208       80.41"
      ]
     },
     "execution_count": 635,
     "metadata": {},
     "output_type": "execute_result"
    }
   ],
   "source": [
    "df_renewal=calculate_percentage(df['Renewed'], 'Renewed')\n",
    "df_renewal"
   ]
  },
  {
   "cell_type": "markdown",
   "id": "87bf1437",
   "metadata": {},
   "source": [
    "### The ratio of customer who renewed the lease to who did not was 1:4. So, we can deduce that 4 in 5 person will leave the lease. Generally,  in marketing the cost required to acquire a new customer is greater than to retain the existing new customer. So we can look further into the main causes of such a high drop out of customer."
   ]
  },
  {
   "cell_type": "code",
   "execution_count": 636,
   "id": "53040ce7",
   "metadata": {},
   "outputs": [
    {
     "data": {
      "image/png": "[encoded data removed]",
      "text/plain": [
       "<Figure size 400x400 with 1 Axes>"
      ]
     },
     "metadata": {},
     "output_type": "display_data"
    }
   ],
   "source": [
    "# Customize colors and other settings\n",
    "colors = ['#80797c', '#981220']\n",
    "explode = (0.1,0) # Explode 1st slice\n",
    "# Create a pie chart\n",
    "plt.pie(df_renewal['Total'], explode = explode, labels = df_renewal['Renewed'], \n",
    "        colors = colors, autopct = '%1.1f%%', shadow = False, startangle = 140)\n",
    "# Add title\n",
    "plt.title('Pie Chart of lease Renewal Status')\n",
    "plt.axis('equal')\n",
    "plt.show()"
   ]
  },
  {
   "cell_type": "markdown",
   "id": "64e73c27",
   "metadata": {},
   "source": [
    "### What we will do now is to check the charateristic of each of the given column how they actually contribute to the lease renewal process.  "
   ]
  },
  {
   "cell_type": "markdown",
   "id": "e6c5434f",
   "metadata": {},
   "source": [
    "### 1) Checking for No Rent Change feature"
   ]
  },
  {
   "cell_type": "code",
   "execution_count": 637,
   "id": "c3017216",
   "metadata": {},
   "outputs": [
    {
     "data": {
      "text/html": [
       "<div>\n",
       "<style scoped>\n",
       "    .dataframe tbody tr th:only-of-type {\n",
       "        vertical-align: middle;\n",
       "    }\n",
       "\n",
       "    .dataframe tbody tr th {\n",
       "        vertical-align: top;\n",
       "    }\n",
       "\n",
       "    .dataframe thead th {\n",
       "        text-align: right;\n",
       "    }\n",
       "</style>\n",
       "<table border=\"1\" class=\"dataframe\">\n",
       "  <thead>\n",
       "    <tr style=\"text-align: right;\">\n",
       "      <th></th>\n",
       "      <th>no_rent_change</th>\n",
       "      <th>Total</th>\n",
       "      <th>Percentage</th>\n",
       "    </tr>\n",
       "  </thead>\n",
       "  <tbody>\n",
       "    <tr>\n",
       "      <th>0</th>\n",
       "      <td>Yes</td>\n",
       "      <td>17681</td>\n",
       "      <td>22.14</td>\n",
       "    </tr>\n",
       "    <tr>\n",
       "      <th>1</th>\n",
       "      <td>No</td>\n",
       "      <td>62169</td>\n",
       "      <td>77.86</td>\n",
       "    </tr>\n",
       "  </tbody>\n",
       "</table>\n",
       "</div>"
      ],
      "text/plain": [
       "  no_rent_change  Total  Percentage\n",
       "0            Yes  17681       22.14\n",
       "1             No  62169       77.86"
      ]
     },
     "execution_count": 637,
     "metadata": {},
     "output_type": "execute_result"
    }
   ],
   "source": [
    "# The composition of Renewal\n",
    "\n",
    "calculate_percentage_yes_no(df['no_rent_change'], 'no_rent_change')"
   ]
  },
  {
   "cell_type": "markdown",
   "id": "d96c14b9",
   "metadata": {},
   "source": [
    "### 22 % of all customer  had no rent change."
   ]
  },
  {
   "cell_type": "code",
   "execution_count": 638,
   "id": "4a10110a",
   "metadata": {},
   "outputs": [
    {
     "data": {
      "text/plain": [
       "<AxesSubplot:xlabel='no_rent_change', ylabel='count'>"
      ]
     },
     "execution_count": 638,
     "metadata": {},
     "output_type": "execute_result"
    },
    {
     "data": {
      "image/png": "[encoded data removed]",
      "text/plain": [
       "<Figure size 400x400 with 1 Axes>"
      ]
     },
     "metadata": {},
     "output_type": "display_data"
    }
   ],
   "source": [
    "sns.countplot(data=df, x='no_rent_change', hue='Renewed')"
   ]
  },
  {
   "cell_type": "markdown",
   "id": "227617b8",
   "metadata": {},
   "source": [
    "### Calculating the conditional probability for each event:- "
   ]
  },
  {
   "cell_type": "code",
   "execution_count": 707,
   "id": "28c08026",
   "metadata": {},
   "outputs": [],
   "source": [
    "def calculate_conditional_prob(df_column, column_value_yes, column_value_no):\n",
    "    df_no_rent_change_cross_tab=pd.crosstab(df_column, df.Renewed, margins=True)\n",
    "    print(\"The 2x2 contigency table is :-\")\n",
    "    print(df_no_rent_change_cross_tab)\n",
    "    percentage_df=round((df_no_rent_change_cross_tab/79850)*100,2)\n",
    "    a=int(df_no_rent_change_cross_tab.iloc[0,0])\n",
    "    b=int(df_no_rent_change_cross_tab.iloc[1,0])\n",
    "    c=int(df_no_rent_change_cross_tab.iloc[0,1])\n",
    "    d=int(df_no_rent_change_cross_tab.iloc[1,1])\n",
    "    \n",
    "    p=int(df_no_rent_change_cross_tab.iloc[2,0])\n",
    "    q=int(df_no_rent_change_cross_tab.iloc[2,1])\n",
    "    \n",
    "    u=round((a/p)*100,2)\n",
    "    v=round((b/p)*100,2)\n",
    "    w=round((c/q)*100,2)\n",
    "    x=round((d/q)*100,2)\n",
    "    print(\"\\n\")\n",
    "    print(\"The 2x2 percentage table is :-\")\n",
    "    print(percentage_df)\n",
    "    print(\"\\n\")\n",
    "#     print(u)\n",
    "    print(\"The prob values for Non Renewal:- \")\n",
    "    print(\"The P(Non-Renewal / {}) is {} %\".format(column_value_no,u))\n",
    "#     print(v)\n",
    "    print(\"The P(Non-Renewal / {}) is {} %\".format(column_value_yes,v))\n",
    "#     print(w)\n",
    "    print(\"\\n\")\n",
    "    print(\"The prob values for Renewal:- \")\n",
    "    print(\"The P(Renewal / {}) is {} %\".format(column_value_no,w))\n",
    "#     print(x)\n",
    "    print(\"The P(Renewal / {}) is {} %\".format(column_value_yes,x))"
   ]
  },
  {
   "cell_type": "code",
   "execution_count": 708,
   "id": "d451976f",
   "metadata": {},
   "outputs": [
    {
     "name": "stdout",
     "output_type": "stream",
     "text": [
      "The 2x2 contigency table is :-\n",
      "Renewed            No    Yes    All\n",
      "no_rent_change                     \n",
      "No              51797  10372  62169\n",
      "Yes             12411   5270  17681\n",
      "All             64208  15642  79850\n",
      "\n",
      "\n",
      "The 2x2 percentage table is :-\n",
      "Renewed            No    Yes     All\n",
      "no_rent_change                      \n",
      "No              64.87  12.99   77.86\n",
      "Yes             15.54   6.60   22.14\n",
      "All             80.41  19.59  100.00\n",
      "\n",
      "\n",
      "The prob values for Non Renewal:- \n",
      "The P(Non-Renewal / rent_change) is 80.67 %\n",
      "The P(Non-Renewal / no_rent_change) is 19.33 %\n",
      "\n",
      "\n",
      "The prob values for Renewal:- \n",
      "The P(Renewal / rent_change) is 66.31 %\n",
      "The P(Renewal / no_rent_change) is 33.69 %\n"
     ]
    }
   ],
   "source": [
    "calculate_conditional_prob(df.no_rent_change, \"no_rent_change\" ,\"rent_change\")"
   ]
  },
  {
   "cell_type": "markdown",
   "id": "e7f89861",
   "metadata": {},
   "source": [
    "### Using, above graphs & conditional probability we can say that a customer who had not renewed the lease has 20 % chance of having no rent change while a customer who has renewed the lease has 34 % chance of having no rent change. Therefore, we can say that no rent change is not causing a major non-renewal or renewal.\n",
    "\n",
    "### Similiarly, if we take complete population there is 15.54 % chance of the customer non likley to renew lease given no rent change. \n",
    "### Therefore, we can say that a customer will likely not renew the lease given no rent change. Therefore, we can infer that no rent change is a decractor."
   ]
  },
  {
   "cell_type": "markdown",
   "id": "c3612941",
   "metadata": {},
   "source": [
    "### Now performing statistical test to check the if the given variable at all makes any significance to renewal or non renewal process.\n",
    "### We perform the three test of independence to check if the two variable are independent of each other or not :-\n",
    "#### 1) Chi squared test (approximate p value, better to perform using  monte caro simulation in R)\n",
    "#### 2) Fisher's Exact test:-\n",
    "\n",
    "### The Hypothesis for Chi squareed & Fisher's  test is as below:-\n",
    "\n",
    "Ho=the variables are independent, there is no relationship between the two categorical variables\n",
    "\n",
    "Ha=the variables are dependent\n",
    "\n",
    "### Similiarly, we use G test for goodness of fit to check if given proportion of values hold true to main population or not. Basically, to say that our probability values will always hold true or not. \n",
    "\n",
    "### The Hypothesis for all three  test is as below:-\n",
    "\n",
    "Ho=the given ratios (probability values) always hold true\n",
    "\n",
    "Ha=the given ratios (probability values) will not hold true"
   ]
  },
  {
   "cell_type": "code",
   "execution_count": 641,
   "id": "584792fa",
   "metadata": {},
   "outputs": [],
   "source": [
    "def contigency_table_test(a):\n",
    "    df_no_rent_change_cross_tab=pd.crosstab(a, df.Renewed, margins=True)\n",
    "    print(\"The 2x2 contigency table is :-\")\n",
    "    print(df_no_rent_change_cross_tab)\n",
    "    df_no_rent_change_cross_tab.columns=['No', 'Yes','row_totals']\n",
    "    df_no_rent_change_cross_tab.index=['No', 'Yes','col_totals']\n",
    "    observed=df_no_rent_change_cross_tab.iloc[0:2,0:2]\n",
    "    expected=np.outer(df_no_rent_change_cross_tab['row_totals'][0:2],\n",
    "                     df_no_rent_change_cross_tab.loc['col_totals'][0:2])/79850\n",
    "    expected=pd.DataFrame(expected)\n",
    "    expected.columns=['No', 'Yes']\n",
    "    expected.index=['No', 'Yes']\n",
    "    chi_squared_stat=(((observed-expected)**2)/expected).sum().sum()\n",
    "    dof=(len(expected)-1)*(len(expected.columns)-1)\n",
    "    crit=chi2.ppf(q=0.95,df=dof)\n",
    "    p_value=1- chi2.cdf(x=chi_squared_stat, df=dof)\n",
    "    res = chi2_contingency(observed, lambda_=\"log-likelihood\")\n",
    "    rest = fisher_exact(observed, alternative='two-sided')\n",
    "    \n",
    "    print(\"\\n\")\n",
    "    print(\"The chi squared test stat:- \")\n",
    "    print(\"The chi squared stat is = {}\".format(chi_squared_stat))\n",
    "    print(\"The critical Value is = {}\".format(crit))\n",
    "    print(\"The P-value is = {}\".format(p_value))\n",
    "    print(\"\\n\")\n",
    "    print(\"The Fisher test stat:- \")\n",
    "    p_valx=rest[1]\n",
    "    print(\"The P-value for Fisher test is = {}\".format(p_valx))\n",
    "    \n",
    "    print(\"\\n\")\n",
    "    print(\"The G-test stat for goodness of fit:- \")\n",
    "    p_val=res[1]\n",
    "    print(\"The P-value for G test is = {}\".format(p_val))"
   ]
  },
  {
   "cell_type": "code",
   "execution_count": 642,
   "id": "f0daeb44",
   "metadata": {},
   "outputs": [
    {
     "name": "stdout",
     "output_type": "stream",
     "text": [
      "The 2x2 contigency table is :-\n",
      "Renewed            No    Yes    All\n",
      "no_rent_change                     \n",
      "No              51797  10372  62169\n",
      "Yes             12411   5270  17681\n",
      "All             64208  15642  79850\n",
      "\n",
      "\n",
      "The chi squared test stat:- \n",
      "The chi squared stat is = 1504.8876490872015\n",
      "The critical Value is = 3.841458820694124\n",
      "The P-value is = 0.0\n",
      "\n",
      "\n",
      "The Fisher test stat:- \n",
      "The P-value for Fisher test is = 7.72757431573355e-306\n",
      "\n",
      "\n",
      "The G-test stat for goodness of fit:- \n",
      "The P-value for G test is = 9.261319724516306e-306\n"
     ]
    }
   ],
   "source": [
    "contigency_table_test(df.no_rent_change)"
   ]
  },
  {
   "cell_type": "markdown",
   "id": "27da6e6f",
   "metadata": {},
   "source": [
    "### We can see that chi squared stat is higher than critical value but the p value is 0.0. Therefore, we cannot use Chi sqaured test and shift to fisher's exact test.\n",
    "### The p value for fisher's test is less than 0.05 therefore we can say that there is significant relationship between the  variable no rent changed and Lease renewal.\n",
    "\n",
    "### The p value for G test is less than 0.05, therefore we can say that this calculated ratios will not always be true. Therefore, we cannot be certain that a customer who did not renew lease also had no rent change."
   ]
  },
  {
   "cell_type": "markdown",
   "id": "28eb7e54",
   "metadata": {},
   "source": [
    "### 2) Checking for rent_change_10"
   ]
  },
  {
   "cell_type": "code",
   "execution_count": 709,
   "id": "63408881",
   "metadata": {},
   "outputs": [
    {
     "data": {
      "text/html": [
       "<div>\n",
       "<style scoped>\n",
       "    .dataframe tbody tr th:only-of-type {\n",
       "        vertical-align: middle;\n",
       "    }\n",
       "\n",
       "    .dataframe tbody tr th {\n",
       "        vertical-align: top;\n",
       "    }\n",
       "\n",
       "    .dataframe thead th {\n",
       "        text-align: right;\n",
       "    }\n",
       "</style>\n",
       "<table border=\"1\" class=\"dataframe\">\n",
       "  <thead>\n",
       "    <tr style=\"text-align: right;\">\n",
       "      <th></th>\n",
       "      <th>rent_change_10</th>\n",
       "      <th>Total</th>\n",
       "      <th>Percentage</th>\n",
       "    </tr>\n",
       "  </thead>\n",
       "  <tbody>\n",
       "    <tr>\n",
       "      <th>0</th>\n",
       "      <td>Yes</td>\n",
       "      <td>1879</td>\n",
       "      <td>2.35</td>\n",
       "    </tr>\n",
       "    <tr>\n",
       "      <th>1</th>\n",
       "      <td>No</td>\n",
       "      <td>77971</td>\n",
       "      <td>97.65</td>\n",
       "    </tr>\n",
       "  </tbody>\n",
       "</table>\n",
       "</div>"
      ],
      "text/plain": [
       "  rent_change_10  Total  Percentage\n",
       "0            Yes   1879        2.35\n",
       "1             No  77971       97.65"
      ]
     },
     "execution_count": 709,
     "metadata": {},
     "output_type": "execute_result"
    }
   ],
   "source": [
    "# The composition of Renewal\n",
    "\n",
    "calculate_percentage_yes_no(df['rent_change_10'], 'rent_change_10')"
   ]
  },
  {
   "cell_type": "code",
   "execution_count": 710,
   "id": "83871fe4",
   "metadata": {},
   "outputs": [
    {
     "data": {
      "text/plain": [
       "<AxesSubplot:xlabel='rent_change_10', ylabel='count'>"
      ]
     },
     "execution_count": 710,
     "metadata": {},
     "output_type": "execute_result"
    },
    {
     "data": {
      "image/png": "[encoded data removed]",
      "text/plain": [
       "<Figure size 400x400 with 1 Axes>"
      ]
     },
     "metadata": {},
     "output_type": "display_data"
    }
   ],
   "source": [
    "sns.countplot(data=df, x='rent_change_10', hue='Renewed')"
   ]
  },
  {
   "cell_type": "code",
   "execution_count": 711,
   "id": "ab1193c5",
   "metadata": {},
   "outputs": [
    {
     "name": "stdout",
     "output_type": "stream",
     "text": [
      "The 2x2 contigency table is :-\n",
      "Renewed            No    Yes    All\n",
      "rent_change_10                     \n",
      "No              62816  15155  77971\n",
      "Yes              1392    487   1879\n",
      "All             64208  15642  79850\n",
      "\n",
      "\n",
      "The 2x2 percentage table is :-\n",
      "Renewed            No    Yes     All\n",
      "rent_change_10                      \n",
      "No              78.67  18.98   97.65\n",
      "Yes              1.74   0.61    2.35\n",
      "All             80.41  19.59  100.00\n",
      "\n",
      "\n",
      "The prob values for Non Renewal:- \n",
      "The P(Non-Renewal / no_rent_change) is 97.83 %\n",
      "The P(Non-Renewal / rent_change_10) is 2.17 %\n",
      "\n",
      "\n",
      "The prob values for Renewal:- \n",
      "The P(Renewal / no_rent_change) is 96.89 %\n",
      "The P(Renewal / rent_change_10) is 3.11 %\n"
     ]
    }
   ],
   "source": [
    "calculate_conditional_prob(df.rent_change_10, 'rent_change_10' ,'no_rent_change')"
   ]
  },
  {
   "cell_type": "markdown",
   "id": "d6227071",
   "metadata": {},
   "source": [
    "### Using, above graphs & conditional probability we can say that a customer who had not renewed the lease has 2 % chance of having rent increased by 10 % while a customer who has renewed the lease has 3 % chance of having rent increased by 10 %. Therefore, we can say that rent increased by 10 % is not causing a major non-renewal or renewal.\n",
    "\n",
    "### Similiarly, if we take complete population there is 1.74 % chance of the customer non likley to renew lease given rent increased by 10 %. \n",
    "### Therefore, we can say that a customer will likely not renew the lease given rent increased by 10 %. Therefore, we can infer that rent increased by 10 % is a decractor."
   ]
  },
  {
   "cell_type": "code",
   "execution_count": 712,
   "id": "0529e6fc",
   "metadata": {},
   "outputs": [
    {
     "name": "stdout",
     "output_type": "stream",
     "text": [
      "The 2x2 contigency table is :-\n",
      "Renewed            No    Yes    All\n",
      "rent_change_10                     \n",
      "No              62816  15155  77971\n",
      "Yes              1392    487   1879\n",
      "All             64208  15642  79850\n",
      "\n",
      "\n",
      "The chi squared test stat:- \n",
      "The chi squared stat is = 48.930692575598414\n",
      "The critical Value is = 3.841458820694124\n",
      "The P-value is = 2.651656672014724e-12\n",
      "\n",
      "\n",
      "The Fisher test stat:- \n",
      "The P-value for Fisher test is = 1.4395992043863767e-11\n",
      "\n",
      "\n",
      "The G-test stat for goodness of fit:- \n",
      "The P-value for G test is = 1.7415260943653265e-11\n"
     ]
    }
   ],
   "source": [
    "contigency_table_test(df.rent_change_10)"
   ]
  },
  {
   "cell_type": "markdown",
   "id": "0d2567a4",
   "metadata": {},
   "source": [
    "### We can see that chi squared stat is higher than critical value  and the p value is less than 0.05. Therefore test is significant.\n",
    "\n",
    "### The p value for fisher's test is less than 0.05 therefore we can say that there is significant relationship between the  variable rent increased by 10% and Lease renewal.\n",
    "\n",
    "### The p value for G test is less than 0.05, therefore we can say that this calculated ratios will not always be true. Therefore, we cannot be certain that a customer who did not renew lease also had rent increased by 10%."
   ]
  },
  {
   "cell_type": "markdown",
   "id": "14110c71",
   "metadata": {},
   "source": [
    "### 3) Checking for rent_change_20"
   ]
  },
  {
   "cell_type": "code",
   "execution_count": 713,
   "id": "a9e6c4f9",
   "metadata": {},
   "outputs": [
    {
     "data": {
      "text/html": [
       "<div>\n",
       "<style scoped>\n",
       "    .dataframe tbody tr th:only-of-type {\n",
       "        vertical-align: middle;\n",
       "    }\n",
       "\n",
       "    .dataframe tbody tr th {\n",
       "        vertical-align: top;\n",
       "    }\n",
       "\n",
       "    .dataframe thead th {\n",
       "        text-align: right;\n",
       "    }\n",
       "</style>\n",
       "<table border=\"1\" class=\"dataframe\">\n",
       "  <thead>\n",
       "    <tr style=\"text-align: right;\">\n",
       "      <th></th>\n",
       "      <th>rent_change_20</th>\n",
       "      <th>Total</th>\n",
       "      <th>Percentage</th>\n",
       "    </tr>\n",
       "  </thead>\n",
       "  <tbody>\n",
       "    <tr>\n",
       "      <th>0</th>\n",
       "      <td>No</td>\n",
       "      <td>33388</td>\n",
       "      <td>41.81</td>\n",
       "    </tr>\n",
       "    <tr>\n",
       "      <th>1</th>\n",
       "      <td>Yes</td>\n",
       "      <td>46462</td>\n",
       "      <td>58.19</td>\n",
       "    </tr>\n",
       "  </tbody>\n",
       "</table>\n",
       "</div>"
      ],
      "text/plain": [
       "  rent_change_20  Total  Percentage\n",
       "0             No  33388       41.81\n",
       "1            Yes  46462       58.19"
      ]
     },
     "execution_count": 713,
     "metadata": {},
     "output_type": "execute_result"
    }
   ],
   "source": [
    "# The composition of Renewal\n",
    "\n",
    "calculate_percentage_yes_no(df['rent_change_20'], 'rent_change_20')"
   ]
  },
  {
   "cell_type": "code",
   "execution_count": 714,
   "id": "e6a66909",
   "metadata": {},
   "outputs": [
    {
     "data": {
      "text/plain": [
       "<AxesSubplot:xlabel='rent_change_20', ylabel='count'>"
      ]
     },
     "execution_count": 714,
     "metadata": {},
     "output_type": "execute_result"
    },
    {
     "data": {
      "image/png": "[encoded data removed]",
      "text/plain": [
       "<Figure size 400x400 with 1 Axes>"
      ]
     },
     "metadata": {},
     "output_type": "display_data"
    }
   ],
   "source": [
    "sns.countplot(data=df, x='rent_change_20', hue='Renewed')"
   ]
  },
  {
   "cell_type": "code",
   "execution_count": 716,
   "id": "2b131e1d",
   "metadata": {},
   "outputs": [
    {
     "name": "stdout",
     "output_type": "stream",
     "text": [
      "The 2x2 contigency table is :-\n",
      "Renewed            No    Yes    All\n",
      "rent_change_20                     \n",
      "No              24848   8540  33388\n",
      "Yes             39360   7102  46462\n",
      "All             64208  15642  79850\n",
      "\n",
      "\n",
      "The 2x2 percentage table is :-\n",
      "Renewed            No    Yes     All\n",
      "rent_change_20                      \n",
      "No              31.12  10.70   41.81\n",
      "Yes             49.29   8.89   58.19\n",
      "All             80.41  19.59  100.00\n",
      "\n",
      "\n",
      "The prob values for Non Renewal:- \n",
      "The P(Non-Renewal / no_rent_change) is 38.7 %\n",
      "The P(Non-Renewal / rent_change_20) is 61.3 %\n",
      "\n",
      "\n",
      "The prob values for Renewal:- \n",
      "The P(Renewal / no_rent_change) is 54.6 %\n",
      "The P(Renewal / rent_change_20) is 45.4 %\n"
     ]
    }
   ],
   "source": [
    "calculate_conditional_prob(df.rent_change_20, 'rent_change_20' ,'no_rent_change')"
   ]
  },
  {
   "cell_type": "markdown",
   "id": "96725eae",
   "metadata": {},
   "source": [
    "### Using, above graphs & conditional probability we can say that a customer who had not renewed the lease has 61.3 % chance of having rent increased by 20 % while a customer who has renewed the lease has 45 % chance of having no rent increased by 20 %. Therefore, we can say that rent increased by 20 % is causing a major non-renewal.¶\n",
    "### Similiarly, if we take complete population there is 49.29 % chance of the customer non likley to renew lease given rent increased by 20 %.\n",
    "### Therefore, we can say that a customer will likely not renew the lease given rent increased by 20 %. Therefore, we can infer that rent increased by 20 % is a decractor."
   ]
  },
  {
   "cell_type": "code",
   "execution_count": 718,
   "id": "ed31b628",
   "metadata": {},
   "outputs": [
    {
     "name": "stdout",
     "output_type": "stream",
     "text": [
      "The 2x2 contigency table is :-\n",
      "Renewed            No    Yes    All\n",
      "rent_change_20                     \n",
      "No              24848   8540  33388\n",
      "Yes             39360   7102  46462\n",
      "All             64208  15642  79850\n",
      "\n",
      "\n",
      "The chi squared test stat:- \n",
      "The chi squared stat is = 1306.5278738862546\n",
      "The critical Value is = 3.841458820694124\n",
      "The P-value is = 0.0\n",
      "\n",
      "\n",
      "The Fisher test stat:- \n",
      "The P-value for Fisher test is = 1.577707373331742e-282\n",
      "\n",
      "\n",
      "The G-test stat for goodness of fit:- \n",
      "The P-value for G test is = 1.7812648642943506e-282\n"
     ]
    }
   ],
   "source": [
    "contigency_table_test(df.rent_change_20)"
   ]
  },
  {
   "cell_type": "markdown",
   "id": "241a7c08",
   "metadata": {},
   "source": [
    "### We can see that chi squared stat is higher than critical value  but the p value is greater than 0.\n",
    "\n",
    "### The p value for fisher's test is less than 0.05 therefore we can say that there is significant relationship between the  variable rent increased by 20% and Lease renewal.\n",
    "\n",
    "### The p value for G test is less than 0.05, therefore we can say that this calculated ratios will not always be true. Therefore, we cannot be certain that a customer who did not renew lease also had rent increased by 20%."
   ]
  },
  {
   "cell_type": "markdown",
   "id": "fc429bdc",
   "metadata": {},
   "source": [
    "### 4) lease_length_1"
   ]
  },
  {
   "cell_type": "code",
   "execution_count": 719,
   "id": "8745a68b",
   "metadata": {},
   "outputs": [
    {
     "data": {
      "text/html": [
       "<div>\n",
       "<style scoped>\n",
       "    .dataframe tbody tr th:only-of-type {\n",
       "        vertical-align: middle;\n",
       "    }\n",
       "\n",
       "    .dataframe tbody tr th {\n",
       "        vertical-align: top;\n",
       "    }\n",
       "\n",
       "    .dataframe thead th {\n",
       "        text-align: right;\n",
       "    }\n",
       "</style>\n",
       "<table border=\"1\" class=\"dataframe\">\n",
       "  <thead>\n",
       "    <tr style=\"text-align: right;\">\n",
       "      <th></th>\n",
       "      <th>lease_length_1</th>\n",
       "      <th>Total</th>\n",
       "      <th>Percentage</th>\n",
       "    </tr>\n",
       "  </thead>\n",
       "  <tbody>\n",
       "    <tr>\n",
       "      <th>0</th>\n",
       "      <td>No</td>\n",
       "      <td>37940</td>\n",
       "      <td>47.51</td>\n",
       "    </tr>\n",
       "    <tr>\n",
       "      <th>1</th>\n",
       "      <td>Yes</td>\n",
       "      <td>41910</td>\n",
       "      <td>52.49</td>\n",
       "    </tr>\n",
       "  </tbody>\n",
       "</table>\n",
       "</div>"
      ],
      "text/plain": [
       "  lease_length_1  Total  Percentage\n",
       "0             No  37940       47.51\n",
       "1            Yes  41910       52.49"
      ]
     },
     "execution_count": 719,
     "metadata": {},
     "output_type": "execute_result"
    }
   ],
   "source": [
    "# The composition of Renewal\n",
    "\n",
    "calculate_percentage_yes_no(df['lease_length_1'], 'lease_length_1')"
   ]
  },
  {
   "cell_type": "code",
   "execution_count": 720,
   "id": "e7784ae8",
   "metadata": {},
   "outputs": [
    {
     "data": {
      "text/plain": [
       "<AxesSubplot:xlabel='lease_length_1', ylabel='count'>"
      ]
     },
     "execution_count": 720,
     "metadata": {},
     "output_type": "execute_result"
    },
    {
     "data": {
      "image/png": "[encoded data removed]",
      "text/plain": [
       "<Figure size 400x400 with 1 Axes>"
      ]
     },
     "metadata": {},
     "output_type": "display_data"
    }
   ],
   "source": [
    "sns.countplot(data=df, x='lease_length_1', hue='Renewed')"
   ]
  },
  {
   "cell_type": "code",
   "execution_count": 721,
   "id": "99164c6c",
   "metadata": {},
   "outputs": [
    {
     "name": "stdout",
     "output_type": "stream",
     "text": [
      "The 2x2 contigency table is :-\n",
      "Renewed            No    Yes    All\n",
      "lease_length_1                     \n",
      "No              29088   8852  37940\n",
      "Yes             35120   6790  41910\n",
      "All             64208  15642  79850\n",
      "\n",
      "\n",
      "The 2x2 percentage table is :-\n",
      "Renewed            No    Yes     All\n",
      "lease_length_1                      \n",
      "No              36.43  11.09   47.51\n",
      "Yes             43.98   8.50   52.49\n",
      "All             80.41  19.59  100.00\n",
      "\n",
      "\n",
      "The prob values for Non Renewal:- \n",
      "The P(Non-Renewal / Not first lease) is 45.3 %\n",
      "The P(Non-Renewal / lease_length_1) is 54.7 %\n",
      "\n",
      "\n",
      "The prob values for Renewal:- \n",
      "The P(Renewal / Not first lease) is 56.59 %\n",
      "The P(Renewal / lease_length_1) is 43.41 %\n"
     ]
    }
   ],
   "source": [
    "calculate_conditional_prob(df.lease_length_1, 'lease_length_1' ,'Not first lease')"
   ]
  },
  {
   "cell_type": "markdown",
   "id": "9fa0778d",
   "metadata": {},
   "source": [
    "### Using, above graphs & conditional probability we can say that a customer who had not renewed the lease has 54.7 % chance of having first term on lease while a customer who has renewed the lease has 43 % chance of having  first term on lease . Therefore, we can say that  first term on lease  is causing a major non-renewal.¶\n",
    "### Similiarly, if we take complete population there is 44 % chance of the customer non likley to renew lease given  first term on lease.\n",
    "### Therefore, we can say that a customer will likely not renew the lease given  first term on lease. Therefore, we can infer that first term on lease is a decractor."
   ]
  },
  {
   "cell_type": "code",
   "execution_count": 654,
   "id": "badcd21c",
   "metadata": {},
   "outputs": [
    {
     "name": "stdout",
     "output_type": "stream",
     "text": [
      "The 2x2 contigency table is :-\n",
      "Renewed            No    Yes    All\n",
      "lease_length_1                     \n",
      "No              29088   8852  37940\n",
      "Yes             35120   6790  41910\n",
      "All             64208  15642  79850\n",
      "\n",
      "\n",
      "The chi squared test stat:- \n",
      "The chi squared stat is = 642.7039427336928\n",
      "The critical Value is = 3.841458820694124\n",
      "The P-value is = 0.0\n",
      "\n",
      "\n",
      "The Fisher test stat:- \n",
      "The P-value for Fisher test is = 9.318331164391831e-142\n",
      "\n",
      "\n",
      "The G-test stat for goodness of fit:- \n",
      "The P-value for G test is = 1.1050680426766444e-141\n"
     ]
    }
   ],
   "source": [
    "contigency_table_test(df.lease_length_1)"
   ]
  },
  {
   "cell_type": "markdown",
   "id": "a5d29f5e",
   "metadata": {},
   "source": [
    "### We can see that chi squared stat is higher than critical value  but the p value is greater than 0.\n",
    "\n",
    "### The p value for fisher's test is less than 0.05 therefore we can say that there is significant relationship between the  variable first term on lease and Lease renewal.\n",
    "\n",
    "### The p value for G test is less than 0.05, therefore we can say that this calculated ratios will not always be true. Therefore, we cannot be certain that a customer who did not renew lease also had first term on lease."
   ]
  },
  {
   "cell_type": "markdown",
   "id": "38817105",
   "metadata": {},
   "source": [
    "### 5) lease_lenth_2"
   ]
  },
  {
   "cell_type": "code",
   "execution_count": 722,
   "id": "ed737754",
   "metadata": {},
   "outputs": [
    {
     "data": {
      "text/html": [
       "<div>\n",
       "<style scoped>\n",
       "    .dataframe tbody tr th:only-of-type {\n",
       "        vertical-align: middle;\n",
       "    }\n",
       "\n",
       "    .dataframe tbody tr th {\n",
       "        vertical-align: top;\n",
       "    }\n",
       "\n",
       "    .dataframe thead th {\n",
       "        text-align: right;\n",
       "    }\n",
       "</style>\n",
       "<table border=\"1\" class=\"dataframe\">\n",
       "  <thead>\n",
       "    <tr style=\"text-align: right;\">\n",
       "      <th></th>\n",
       "      <th>lease_length_2</th>\n",
       "      <th>Total</th>\n",
       "      <th>Percentage</th>\n",
       "    </tr>\n",
       "  </thead>\n",
       "  <tbody>\n",
       "    <tr>\n",
       "      <th>0</th>\n",
       "      <td>Yes</td>\n",
       "      <td>19577</td>\n",
       "      <td>24.52</td>\n",
       "    </tr>\n",
       "    <tr>\n",
       "      <th>1</th>\n",
       "      <td>No</td>\n",
       "      <td>60273</td>\n",
       "      <td>75.48</td>\n",
       "    </tr>\n",
       "  </tbody>\n",
       "</table>\n",
       "</div>"
      ],
      "text/plain": [
       "  lease_length_2  Total  Percentage\n",
       "0            Yes  19577       24.52\n",
       "1             No  60273       75.48"
      ]
     },
     "execution_count": 722,
     "metadata": {},
     "output_type": "execute_result"
    }
   ],
   "source": [
    "# The composition of Renewal\n",
    "\n",
    "calculate_percentage_yes_no(df['lease_length_2'], 'lease_length_2')"
   ]
  },
  {
   "cell_type": "code",
   "execution_count": 723,
   "id": "45081019",
   "metadata": {},
   "outputs": [
    {
     "data": {
      "text/plain": [
       "<AxesSubplot:xlabel='lease_length_2', ylabel='count'>"
      ]
     },
     "execution_count": 723,
     "metadata": {},
     "output_type": "execute_result"
    },
    {
     "data": {
      "image/png": "[encoded data removed]",
      "text/plain": [
       "<Figure size 400x400 with 1 Axes>"
      ]
     },
     "metadata": {},
     "output_type": "display_data"
    }
   ],
   "source": [
    "sns.countplot(data=df, x='lease_length_2', hue='Renewed')"
   ]
  },
  {
   "cell_type": "code",
   "execution_count": 724,
   "id": "4c76e012",
   "metadata": {},
   "outputs": [
    {
     "name": "stdout",
     "output_type": "stream",
     "text": [
      "The 2x2 contigency table is :-\n",
      "Renewed            No    Yes    All\n",
      "lease_length_2                     \n",
      "No              49636  10637  60273\n",
      "Yes             14572   5005  19577\n",
      "All             64208  15642  79850\n",
      "\n",
      "\n",
      "The 2x2 percentage table is :-\n",
      "Renewed            No    Yes     All\n",
      "lease_length_2                      \n",
      "No              62.16  13.32   75.48\n",
      "Yes             18.25   6.27   24.52\n",
      "All             80.41  19.59  100.00\n",
      "\n",
      "\n",
      "The prob values for Non Renewal:- \n",
      "The P(Non-Renewal / Not second lease) is 77.31 %\n",
      "The P(Non-Renewal / lease_length_2) is 22.69 %\n",
      "\n",
      "\n",
      "The prob values for Renewal:- \n",
      "The P(Renewal / Not second lease) is 68.0 %\n",
      "The P(Renewal / lease_length_2) is 32.0 %\n"
     ]
    }
   ],
   "source": [
    "calculate_conditional_prob(df.lease_length_2, 'lease_length_2' ,'Not second lease')"
   ]
  },
  {
   "cell_type": "markdown",
   "id": "11dce14a",
   "metadata": {},
   "source": [
    "### Using, above graphs & conditional probability we can say that a customer who had not renewed the lease has 22.69 % chance of having seccond term on lease while a customer who has renewed the lease has 32 % chance of having  second term on lease . Therefore, we cannot say that  second term on lease  is causing a major non-renewal or renewal.¶\n",
    "### Similiarly, if we take complete population there is 18 % chance of the customer non likley to renew lease given  second term on lease.\n",
    "### Therefore, we can say that a customer will likely not renew the lease given second term on lease. Therefore, we can infer that second term on lease is a decractor."
   ]
  },
  {
   "cell_type": "code",
   "execution_count": 725,
   "id": "7666b545",
   "metadata": {},
   "outputs": [
    {
     "name": "stdout",
     "output_type": "stream",
     "text": [
      "The 2x2 contigency table is :-\n",
      "Renewed            No    Yes    All\n",
      "lease_length_2                     \n",
      "No              49636  10637  60273\n",
      "Yes             14572   5005  19577\n",
      "All             64208  15642  79850\n",
      "\n",
      "\n",
      "The chi squared test stat:- \n",
      "The chi squared stat is = 588.109705870307\n",
      "The critical Value is = 3.841458820694124\n",
      "The P-value is = 0.0\n",
      "\n",
      "\n",
      "The Fisher test stat:- \n",
      "The P-value for Fisher test is = 2.6179910480023598e-124\n",
      "\n",
      "\n",
      "The G-test stat for goodness of fit:- \n",
      "The P-value for G test is = 2.973059188083517e-124\n"
     ]
    }
   ],
   "source": [
    "contigency_table_test(df.lease_length_2)"
   ]
  },
  {
   "cell_type": "markdown",
   "id": "8bf418c5",
   "metadata": {},
   "source": [
    "### We can see that chi squared stat is higher than critical value  but the p value is not greater than 0.05\n",
    "\n",
    "### The p value for fisher's test is less than 0.05 therefore we can say that there is significant relationship between the  variable second term on lease and Lease renewal.\n",
    "\n",
    "### The p value for G test is less than 0.05, therefore we can say that this calculated ratios will not always be true. Therefore, we cannot be certain that a customer who did not renew lease also had second term on lease."
   ]
  },
  {
   "cell_type": "markdown",
   "id": "159e0c51",
   "metadata": {},
   "source": [
    "### 5) lease_lenth_3"
   ]
  },
  {
   "cell_type": "code",
   "execution_count": 726,
   "id": "c3d87b24",
   "metadata": {},
   "outputs": [
    {
     "data": {
      "text/html": [
       "<div>\n",
       "<style scoped>\n",
       "    .dataframe tbody tr th:only-of-type {\n",
       "        vertical-align: middle;\n",
       "    }\n",
       "\n",
       "    .dataframe tbody tr th {\n",
       "        vertical-align: top;\n",
       "    }\n",
       "\n",
       "    .dataframe thead th {\n",
       "        text-align: right;\n",
       "    }\n",
       "</style>\n",
       "<table border=\"1\" class=\"dataframe\">\n",
       "  <thead>\n",
       "    <tr style=\"text-align: right;\">\n",
       "      <th></th>\n",
       "      <th>lease_length_3</th>\n",
       "      <th>Total</th>\n",
       "      <th>Percentage</th>\n",
       "    </tr>\n",
       "  </thead>\n",
       "  <tbody>\n",
       "    <tr>\n",
       "      <th>0</th>\n",
       "      <td>Yes</td>\n",
       "      <td>4591</td>\n",
       "      <td>5.75</td>\n",
       "    </tr>\n",
       "    <tr>\n",
       "      <th>1</th>\n",
       "      <td>No</td>\n",
       "      <td>75259</td>\n",
       "      <td>94.25</td>\n",
       "    </tr>\n",
       "  </tbody>\n",
       "</table>\n",
       "</div>"
      ],
      "text/plain": [
       "  lease_length_3  Total  Percentage\n",
       "0            Yes   4591        5.75\n",
       "1             No  75259       94.25"
      ]
     },
     "execution_count": 726,
     "metadata": {},
     "output_type": "execute_result"
    }
   ],
   "source": [
    "# The composition of Renewal\n",
    "\n",
    "calculate_percentage_yes_no(df['lease_length_3'], 'lease_length_3')"
   ]
  },
  {
   "cell_type": "code",
   "execution_count": 727,
   "id": "86eb258c",
   "metadata": {},
   "outputs": [
    {
     "data": {
      "text/plain": [
       "<AxesSubplot:xlabel='lease_length_3', ylabel='count'>"
      ]
     },
     "execution_count": 727,
     "metadata": {},
     "output_type": "execute_result"
    },
    {
     "data": {
      "image/png": "[encoded data removed]",
      "text/plain": [
       "<Figure size 400x400 with 1 Axes>"
      ]
     },
     "metadata": {},
     "output_type": "display_data"
    }
   ],
   "source": [
    "sns.countplot(data=df, x='lease_length_3', hue='Renewed')"
   ]
  },
  {
   "cell_type": "code",
   "execution_count": 728,
   "id": "e2eb8662",
   "metadata": {},
   "outputs": [
    {
     "name": "stdout",
     "output_type": "stream",
     "text": [
      "The 2x2 contigency table is :-\n",
      "Renewed            No    Yes    All\n",
      "lease_length_3                     \n",
      "No              60655  14604  75259\n",
      "Yes              3553   1038   4591\n",
      "All             64208  15642  79850\n",
      "\n",
      "\n",
      "The 2x2 percentage table is :-\n",
      "Renewed            No    Yes     All\n",
      "lease_length_3                      \n",
      "No              75.96  18.29   94.25\n",
      "Yes              4.45   1.30    5.75\n",
      "All             80.41  19.59  100.00\n",
      "\n",
      "\n",
      "The prob values for Non Renewal:- \n",
      "The P(Non-Renewal / Not third lease) is 94.47 %\n",
      "The P(Non-Renewal / lease_length_3) is 5.53 %\n",
      "\n",
      "\n",
      "The prob values for Renewal:- \n",
      "The P(Renewal / Not third lease) is 93.36 %\n",
      "The P(Renewal / lease_length_3) is 6.64 %\n"
     ]
    }
   ],
   "source": [
    "calculate_conditional_prob(df.lease_length_3, 'lease_length_3' ,'Not third lease')"
   ]
  },
  {
   "cell_type": "markdown",
   "id": "2e73ab3e",
   "metadata": {},
   "source": [
    "### Using, above graphs & conditional probability we can say that a customer who had not renewed the lease has 5.53 % chance of having third term on lease while a customer who has renewed the lease has 6.64 % chance of having  third term on lease . Therefore, we cannot say that third term on lease  is causing a major non-renewal or renewal.¶\n",
    "### Similiarly, if we take complete population there is 4.45 % chance of the customer non likley to renew lease given  third term on lease.\n",
    "### Therefore, we can say that a customer will likely not renew the lease given third term on lease. Therefore, we can infer that third term on lease is a detractor."
   ]
  },
  {
   "cell_type": "code",
   "execution_count": 730,
   "id": "7eaab6a1",
   "metadata": {},
   "outputs": [
    {
     "name": "stdout",
     "output_type": "stream",
     "text": [
      "The 2x2 contigency table is :-\n",
      "Renewed            No    Yes    All\n",
      "lease_length_3                     \n",
      "No              60655  14604  75259\n",
      "Yes              3553   1038   4591\n",
      "All             64208  15642  79850\n",
      "\n",
      "\n",
      "The chi squared test stat:- \n",
      "The chi squared stat is = 28.207873269281187\n",
      "The critical Value is = 3.841458820694124\n",
      "The P-value is = 1.089604451109949e-07\n",
      "\n",
      "\n",
      "The Fisher test stat:- \n",
      "The P-value for Fisher test is = 1.8596861724394292e-07\n",
      "\n",
      "\n",
      "The G-test stat for goodness of fit:- \n",
      "The P-value for G test is = 1.9682635475700711e-07\n"
     ]
    }
   ],
   "source": [
    "contigency_table_test(df.lease_length_3)"
   ]
  },
  {
   "cell_type": "markdown",
   "id": "51a3115b",
   "metadata": {},
   "source": [
    "### We can see that chi squared stat is higher than critical value  but the p value is greater than 0.05\n",
    "\n",
    "### The p value for fisher's test is less than 0.05 therefore we can say that there is significant relationship between the  variable third term on lease and Lease renewal.\n",
    "\n",
    "### The p value for G test is less than 0.05, therefore we can say that this calculated ratios will not always be true. Therefore, we cannot be certain that a customer who did not renew lease also had third term on lease."
   ]
  },
  {
   "cell_type": "markdown",
   "id": "3bb4abb3",
   "metadata": {},
   "source": [
    "### 6) age_range_under_24 "
   ]
  },
  {
   "cell_type": "code",
   "execution_count": 731,
   "id": "4b813b92",
   "metadata": {},
   "outputs": [
    {
     "data": {
      "text/html": [
       "<div>\n",
       "<style scoped>\n",
       "    .dataframe tbody tr th:only-of-type {\n",
       "        vertical-align: middle;\n",
       "    }\n",
       "\n",
       "    .dataframe tbody tr th {\n",
       "        vertical-align: top;\n",
       "    }\n",
       "\n",
       "    .dataframe thead th {\n",
       "        text-align: right;\n",
       "    }\n",
       "</style>\n",
       "<table border=\"1\" class=\"dataframe\">\n",
       "  <thead>\n",
       "    <tr style=\"text-align: right;\">\n",
       "      <th></th>\n",
       "      <th>age_range_under_24</th>\n",
       "      <th>Total</th>\n",
       "      <th>Percentage</th>\n",
       "    </tr>\n",
       "  </thead>\n",
       "  <tbody>\n",
       "    <tr>\n",
       "      <th>0</th>\n",
       "      <td>Yes</td>\n",
       "      <td>3059</td>\n",
       "      <td>3.83</td>\n",
       "    </tr>\n",
       "    <tr>\n",
       "      <th>1</th>\n",
       "      <td>No</td>\n",
       "      <td>76791</td>\n",
       "      <td>96.17</td>\n",
       "    </tr>\n",
       "  </tbody>\n",
       "</table>\n",
       "</div>"
      ],
      "text/plain": [
       "  age_range_under_24  Total  Percentage\n",
       "0                Yes   3059        3.83\n",
       "1                 No  76791       96.17"
      ]
     },
     "execution_count": 731,
     "metadata": {},
     "output_type": "execute_result"
    }
   ],
   "source": [
    "# The composition of Renewal\n",
    "\n",
    "calculate_percentage_yes_no(df['age_range_under_24'], 'age_range_under_24')"
   ]
  },
  {
   "cell_type": "code",
   "execution_count": 732,
   "id": "2319c3d6",
   "metadata": {},
   "outputs": [
    {
     "data": {
      "text/plain": [
       "<AxesSubplot:xlabel='age_range_under_24', ylabel='count'>"
      ]
     },
     "execution_count": 732,
     "metadata": {},
     "output_type": "execute_result"
    },
    {
     "data": {
      "image/png": "[encoded data removed]",
      "text/plain": [
       "<Figure size 400x400 with 1 Axes>"
      ]
     },
     "metadata": {},
     "output_type": "display_data"
    }
   ],
   "source": [
    "sns.countplot(data=df, x='age_range_under_24', hue='Renewed')"
   ]
  },
  {
   "cell_type": "code",
   "execution_count": 733,
   "id": "38619e15",
   "metadata": {},
   "outputs": [
    {
     "name": "stdout",
     "output_type": "stream",
     "text": [
      "The 2x2 contigency table is :-\n",
      "Renewed                No    Yes    All\n",
      "age_range_under_24                     \n",
      "No                  61435  15356  76791\n",
      "Yes                  2773    286   3059\n",
      "All                 64208  15642  79850\n",
      "\n",
      "\n",
      "The 2x2 percentage table is :-\n",
      "Renewed                No    Yes     All\n",
      "age_range_under_24                      \n",
      "No                  76.94  19.23   96.17\n",
      "Yes                  3.47   0.36    3.83\n",
      "All                 80.41  19.59  100.00\n",
      "\n",
      "\n",
      "The prob values for Non Renewal:- \n",
      "The P(Non-Renewal / Age not under 24) is 95.68 %\n",
      "The P(Non-Renewal / age_range_under_24) is 4.32 %\n",
      "\n",
      "\n",
      "The prob values for Renewal:- \n",
      "The P(Renewal / Age not under 24) is 98.17 %\n",
      "The P(Renewal / age_range_under_24) is 1.83 %\n"
     ]
    }
   ],
   "source": [
    "calculate_conditional_prob(df.age_range_under_24, 'age_range_under_24' ,'Age not under 24')"
   ]
  },
  {
   "cell_type": "markdown",
   "id": "3a6ba265",
   "metadata": {},
   "source": [
    "### Using, above graphs & conditional probability we can say that a customer who had not renewed the lease has 4.32 % chance of having age under 24 while a customer who has renewed the lease has 1.83 % chance of having  having age under 24. Therefore, we cannot say that third term on lease  is causing a major non-renewal or renewal.¶\n",
    "### Similiarly, if we take complete population there is 3.47 % chance of the customer non likley to renew lease given having age under 24 .\n",
    "### Therefore, we can say that a customer will likely not renew the lease given having age under 24 . Therefore, we can infer that having age under 24  is a detractor."
   ]
  },
  {
   "cell_type": "code",
   "execution_count": 735,
   "id": "4990e3cc",
   "metadata": {},
   "outputs": [
    {
     "name": "stdout",
     "output_type": "stream",
     "text": [
      "The 2x2 contigency table is :-\n",
      "Renewed                No    Yes    All\n",
      "age_range_under_24                     \n",
      "No                  61435  15356  76791\n",
      "Yes                  2773    286   3059\n",
      "All                 64208  15642  79850\n",
      "\n",
      "\n",
      "The chi squared test stat:- \n",
      "The chi squared stat is = 211.73508470787507\n",
      "The critical Value is = 3.841458820694124\n",
      "The P-value is = 0.0\n",
      "\n",
      "\n",
      "The Fisher test stat:- \n",
      "The P-value for Fisher test is = 4.32451125183028e-56\n",
      "\n",
      "\n",
      "The G-test stat for goodness of fit:- \n",
      "The P-value for G test is = 4.594732829449638e-56\n"
     ]
    }
   ],
   "source": [
    "contigency_table_test(df.age_range_under_24)"
   ]
  },
  {
   "cell_type": "markdown",
   "id": "a0a4b8a4",
   "metadata": {},
   "source": [
    "### We can see that chi squared stat is higher than critical value  but the p value is greater than 0.05\n",
    "\n",
    "### The p value for fisher's test is less than 0.05 therefore we can say that there is significant relationship between the  variable having age under 24 and Lease renewal.\n",
    "\n",
    "### The p value for G test is less than 0.05, therefore we can say that this calculated ratios will not always be true. Therefore, we cannot be certain that a customer who did not renew lease also having age under 24."
   ]
  },
  {
   "cell_type": "markdown",
   "id": "999ffb42",
   "metadata": {},
   "source": [
    "### 7) age_range_24_29 "
   ]
  },
  {
   "cell_type": "code",
   "execution_count": 736,
   "id": "18c03f85",
   "metadata": {},
   "outputs": [
    {
     "data": {
      "text/html": [
       "<div>\n",
       "<style scoped>\n",
       "    .dataframe tbody tr th:only-of-type {\n",
       "        vertical-align: middle;\n",
       "    }\n",
       "\n",
       "    .dataframe tbody tr th {\n",
       "        vertical-align: top;\n",
       "    }\n",
       "\n",
       "    .dataframe thead th {\n",
       "        text-align: right;\n",
       "    }\n",
       "</style>\n",
       "<table border=\"1\" class=\"dataframe\">\n",
       "  <thead>\n",
       "    <tr style=\"text-align: right;\">\n",
       "      <th></th>\n",
       "      <th>age_range_24_29</th>\n",
       "      <th>Total</th>\n",
       "      <th>Percentage</th>\n",
       "    </tr>\n",
       "  </thead>\n",
       "  <tbody>\n",
       "    <tr>\n",
       "      <th>0</th>\n",
       "      <td>Yes</td>\n",
       "      <td>7342</td>\n",
       "      <td>9.19</td>\n",
       "    </tr>\n",
       "    <tr>\n",
       "      <th>1</th>\n",
       "      <td>No</td>\n",
       "      <td>72508</td>\n",
       "      <td>90.81</td>\n",
       "    </tr>\n",
       "  </tbody>\n",
       "</table>\n",
       "</div>"
      ],
      "text/plain": [
       "  age_range_24_29  Total  Percentage\n",
       "0             Yes   7342        9.19\n",
       "1              No  72508       90.81"
      ]
     },
     "execution_count": 736,
     "metadata": {},
     "output_type": "execute_result"
    }
   ],
   "source": [
    "# The composition of Renewal\n",
    "\n",
    "calculate_percentage_yes_no(df['age_range_24_29'], 'age_range_24_29')"
   ]
  },
  {
   "cell_type": "code",
   "execution_count": 737,
   "id": "e953a9c2",
   "metadata": {},
   "outputs": [
    {
     "data": {
      "text/plain": [
       "<AxesSubplot:xlabel='age_range_24_29', ylabel='count'>"
      ]
     },
     "execution_count": 737,
     "metadata": {},
     "output_type": "execute_result"
    },
    {
     "data": {
      "image/png": "[encoded data removed]",
      "text/plain": [
       "<Figure size 400x400 with 1 Axes>"
      ]
     },
     "metadata": {},
     "output_type": "display_data"
    }
   ],
   "source": [
    "sns.countplot(data=df, x='age_range_24_29', hue='Renewed')"
   ]
  },
  {
   "cell_type": "code",
   "execution_count": 738,
   "id": "459c6e3c",
   "metadata": {},
   "outputs": [
    {
     "name": "stdout",
     "output_type": "stream",
     "text": [
      "The 2x2 contigency table is :-\n",
      "Renewed             No    Yes    All\n",
      "age_range_24_29                     \n",
      "No               58371  14137  72508\n",
      "Yes               5837   1505   7342\n",
      "All              64208  15642  79850\n",
      "\n",
      "\n",
      "The 2x2 percentage table is :-\n",
      "Renewed             No    Yes     All\n",
      "age_range_24_29                      \n",
      "No               73.10  17.70   90.81\n",
      "Yes               7.31   1.88    9.19\n",
      "All              80.41  19.59  100.00\n",
      "\n",
      "\n",
      "The prob values for Non Renewal:- \n",
      "The P(Non-Renewal / Age not between 24 and 29) is 90.91 %\n",
      "The P(Non-Renewal / age_range_24_29) is 9.09 %\n",
      "\n",
      "\n",
      "The prob values for Renewal:- \n",
      "The P(Renewal / Age not between 24 and 29) is 90.38 %\n",
      "The P(Renewal / age_range_24_29) is 9.62 %\n"
     ]
    }
   ],
   "source": [
    "calculate_conditional_prob(df.age_range_24_29, 'age_range_24_29' ,'Age not between 24 and 29')"
   ]
  },
  {
   "cell_type": "markdown",
   "id": "bd860c4d",
   "metadata": {},
   "source": [
    "### Using, above graphs & conditional probability we can say that a customer who had not renewed the lease has 9 % chance of having age between 24 and 29 while a customer who has renewed the lease has 9.96 % chance of having  having age between 24 and 29. Therefore, we cannot say that age between 24 and 29  is not causing a major non-renewal or renewal.¶\n",
    "### Similiarly, if we take complete population there is 7.31 % chance of customer non likley to renew lease given having age between 24 and 29 .\n",
    "### Therefore, we can say that a customer will likely not renew the lease given having age between 24 and 29 . Therefore, we can infer that having age between 24 and 29  is a detractor."
   ]
  },
  {
   "cell_type": "code",
   "execution_count": 739,
   "id": "fd8e547b",
   "metadata": {},
   "outputs": [
    {
     "name": "stdout",
     "output_type": "stream",
     "text": [
      "The 2x2 contigency table is :-\n",
      "Renewed             No    Yes    All\n",
      "age_range_24_29                     \n",
      "No               58371  14137  72508\n",
      "Yes               5837   1505   7342\n",
      "All              64208  15642  79850\n",
      "\n",
      "\n",
      "The chi squared test stat:- \n",
      "The chi squared stat is = 4.2438438244620205\n",
      "The critical Value is = 3.841458820694124\n",
      "The P-value is = 0.039392883620772645\n",
      "\n",
      "\n",
      "The Fisher test stat:- \n",
      "The P-value for Fisher test is = 0.0401592701243967\n",
      "\n",
      "\n",
      "The G-test stat for goodness of fit:- \n",
      "The P-value for G test is = 0.041932209703278586\n"
     ]
    }
   ],
   "source": [
    "contigency_table_test(df.age_range_24_29)"
   ]
  },
  {
   "cell_type": "markdown",
   "id": "40ca1d35",
   "metadata": {},
   "source": [
    "### We can see that chi squared stat is higher than critical value  but the p value is greater than 0.05\n",
    "\n",
    "### The p value for fisher's test is less than 0.05 therefore we can say that there is significant relationship between the  variable having age between 24 and 29 and Lease renewal.\n",
    "\n",
    "### The p value for G test is less than 0.05, therefore we can say that this calculated ratios will not always be true. Therefore, we cannot be certain that a customer who did not renew lease also having age between 24 and 29."
   ]
  },
  {
   "cell_type": "markdown",
   "id": "2f01aba6",
   "metadata": {},
   "source": [
    "### 8) age_range_30_39"
   ]
  },
  {
   "cell_type": "code",
   "execution_count": 740,
   "id": "e8f3bc9d",
   "metadata": {},
   "outputs": [
    {
     "data": {
      "text/html": [
       "<div>\n",
       "<style scoped>\n",
       "    .dataframe tbody tr th:only-of-type {\n",
       "        vertical-align: middle;\n",
       "    }\n",
       "\n",
       "    .dataframe tbody tr th {\n",
       "        vertical-align: top;\n",
       "    }\n",
       "\n",
       "    .dataframe thead th {\n",
       "        text-align: right;\n",
       "    }\n",
       "</style>\n",
       "<table border=\"1\" class=\"dataframe\">\n",
       "  <thead>\n",
       "    <tr style=\"text-align: right;\">\n",
       "      <th></th>\n",
       "      <th>age_range_30_39</th>\n",
       "      <th>Total</th>\n",
       "      <th>Percentage</th>\n",
       "    </tr>\n",
       "  </thead>\n",
       "  <tbody>\n",
       "    <tr>\n",
       "      <th>0</th>\n",
       "      <td>Yes</td>\n",
       "      <td>11913</td>\n",
       "      <td>14.92</td>\n",
       "    </tr>\n",
       "    <tr>\n",
       "      <th>1</th>\n",
       "      <td>No</td>\n",
       "      <td>67937</td>\n",
       "      <td>85.08</td>\n",
       "    </tr>\n",
       "  </tbody>\n",
       "</table>\n",
       "</div>"
      ],
      "text/plain": [
       "  age_range_30_39  Total  Percentage\n",
       "0             Yes  11913       14.92\n",
       "1              No  67937       85.08"
      ]
     },
     "execution_count": 740,
     "metadata": {},
     "output_type": "execute_result"
    }
   ],
   "source": [
    "# The composition of Renewal\n",
    "\n",
    "calculate_percentage_yes_no(df['age_range_30_39'], 'age_range_30_39')"
   ]
  },
  {
   "cell_type": "code",
   "execution_count": 741,
   "id": "ee01d354",
   "metadata": {},
   "outputs": [
    {
     "data": {
      "text/plain": [
       "<AxesSubplot:xlabel='age_range_30_39', ylabel='count'>"
      ]
     },
     "execution_count": 741,
     "metadata": {},
     "output_type": "execute_result"
    },
    {
     "data": {
      "image/png": "[encoded data removed]",
      "text/plain": [
       "<Figure size 400x400 with 1 Axes>"
      ]
     },
     "metadata": {},
     "output_type": "display_data"
    }
   ],
   "source": [
    "sns.countplot(data=df, x='age_range_30_39', hue='Renewed')"
   ]
  },
  {
   "cell_type": "code",
   "execution_count": 742,
   "id": "90e4f0eb",
   "metadata": {},
   "outputs": [
    {
     "name": "stdout",
     "output_type": "stream",
     "text": [
      "The 2x2 contigency table is :-\n",
      "Renewed             No    Yes    All\n",
      "age_range_30_39                     \n",
      "No               55366  12571  67937\n",
      "Yes               8842   3071  11913\n",
      "All              64208  15642  79850\n",
      "\n",
      "\n",
      "The 2x2 percentage table is :-\n",
      "Renewed             No    Yes     All\n",
      "age_range_30_39                      \n",
      "No               69.34  15.74   85.08\n",
      "Yes              11.07   3.85   14.92\n",
      "All              80.41  19.59  100.00\n",
      "\n",
      "\n",
      "The prob values for Non Renewal:- \n",
      "The P(Non-Renewal / Age not between 30 and 39) is 86.23 %\n",
      "The P(Non-Renewal / age_range_30_39) is 13.77 %\n",
      "\n",
      "\n",
      "The prob values for Renewal:- \n",
      "The P(Renewal / Age not between 30 and 39) is 80.37 %\n",
      "The P(Renewal / age_range_30_39) is 19.63 %\n"
     ]
    }
   ],
   "source": [
    "calculate_conditional_prob(df.age_range_30_39, 'age_range_30_39' ,'Age not between 30 and 39')"
   ]
  },
  {
   "cell_type": "markdown",
   "id": "b110ef8c",
   "metadata": {},
   "source": [
    "### Using, above graphs & conditional probability we can say that a customer who had not renewed the lease has 14 % chance of having age between 30 and 39 while a customer who has renewed the lease has 20 % chance of having  having age between 30 and 39. Therefore, we cannot say that age between 30 and 39  is not causing a major non-renewal or renewal.¶\n",
    "### Similiarly, if we take complete population there is 11.07 % chance of customer non likley to renew lease given having age between 30 and 39 .\n",
    "### Therefore, we can say that a customer will likely not renew the lease given having age between 30 and 39 . Therefore, we can infer that having age between 30 and 39  is a detractor."
   ]
  },
  {
   "cell_type": "code",
   "execution_count": 743,
   "id": "4587d2d8",
   "metadata": {},
   "outputs": [
    {
     "name": "stdout",
     "output_type": "stream",
     "text": [
      "The 2x2 contigency table is :-\n",
      "Renewed             No    Yes    All\n",
      "age_range_30_39                     \n",
      "No               55366  12571  67937\n",
      "Yes               8842   3071  11913\n",
      "All              64208  15642  79850\n",
      "\n",
      "\n",
      "The chi squared test stat:- \n",
      "The chi squared stat is = 340.52232692570897\n",
      "The critical Value is = 3.841458820694124\n",
      "The P-value is = 0.0\n",
      "\n",
      "\n",
      "The Fisher test stat:- \n",
      "The P-value for Fisher test is = 6.443970037096112e-72\n",
      "\n",
      "\n",
      "The G-test stat for goodness of fit:- \n",
      "The P-value for G test is = 8.443205772703889e-72\n"
     ]
    }
   ],
   "source": [
    "contigency_table_test(df.age_range_30_39)"
   ]
  },
  {
   "cell_type": "markdown",
   "id": "4cad303a",
   "metadata": {},
   "source": [
    "### We can see that chi squared stat is higher than critical value  but the p value is greater than 0.05\n",
    "\n",
    "### The p value for fisher's test is less than 0.05 therefore we can say that there is significant relationship between the  variable having age between 30 and 39 and Lease renewal.\n",
    "\n",
    "### The p value for G test is less than 0.05, therefore we can say that this calculated ratios will not always be true. Therefore, we cannot be certain that a customer who did not renew lease also having age between 30 and 39."
   ]
  },
  {
   "cell_type": "markdown",
   "id": "2422bb1c",
   "metadata": {},
   "source": [
    "### 9) age_range_40_49"
   ]
  },
  {
   "cell_type": "code",
   "execution_count": 744,
   "id": "82591676",
   "metadata": {},
   "outputs": [
    {
     "data": {
      "text/html": [
       "<div>\n",
       "<style scoped>\n",
       "    .dataframe tbody tr th:only-of-type {\n",
       "        vertical-align: middle;\n",
       "    }\n",
       "\n",
       "    .dataframe tbody tr th {\n",
       "        vertical-align: top;\n",
       "    }\n",
       "\n",
       "    .dataframe thead th {\n",
       "        text-align: right;\n",
       "    }\n",
       "</style>\n",
       "<table border=\"1\" class=\"dataframe\">\n",
       "  <thead>\n",
       "    <tr style=\"text-align: right;\">\n",
       "      <th></th>\n",
       "      <th>age_range_40_49</th>\n",
       "      <th>Total</th>\n",
       "      <th>Percentage</th>\n",
       "    </tr>\n",
       "  </thead>\n",
       "  <tbody>\n",
       "    <tr>\n",
       "      <th>0</th>\n",
       "      <td>Yes</td>\n",
       "      <td>8672</td>\n",
       "      <td>10.86</td>\n",
       "    </tr>\n",
       "    <tr>\n",
       "      <th>1</th>\n",
       "      <td>No</td>\n",
       "      <td>71178</td>\n",
       "      <td>89.14</td>\n",
       "    </tr>\n",
       "  </tbody>\n",
       "</table>\n",
       "</div>"
      ],
      "text/plain": [
       "  age_range_40_49  Total  Percentage\n",
       "0             Yes   8672       10.86\n",
       "1              No  71178       89.14"
      ]
     },
     "execution_count": 744,
     "metadata": {},
     "output_type": "execute_result"
    }
   ],
   "source": [
    "# The composition of Renewal\n",
    "\n",
    "calculate_percentage_yes_no(df['age_range_40_49'], 'age_range_40_49')"
   ]
  },
  {
   "cell_type": "code",
   "execution_count": 745,
   "id": "43617494",
   "metadata": {},
   "outputs": [
    {
     "data": {
      "text/plain": [
       "<AxesSubplot:xlabel='age_range_40_49', ylabel='count'>"
      ]
     },
     "execution_count": 745,
     "metadata": {},
     "output_type": "execute_result"
    },
    {
     "data": {
      "image/png": "[encoded data removed]",
      "text/plain": [
       "<Figure size 400x400 with 1 Axes>"
      ]
     },
     "metadata": {},
     "output_type": "display_data"
    }
   ],
   "source": [
    "sns.countplot(data=df, x='age_range_40_49', hue='Renewed')"
   ]
  },
  {
   "cell_type": "code",
   "execution_count": 746,
   "id": "912a0964",
   "metadata": {},
   "outputs": [
    {
     "name": "stdout",
     "output_type": "stream",
     "text": [
      "The 2x2 contigency table is :-\n",
      "Renewed             No    Yes    All\n",
      "age_range_40_49                     \n",
      "No               57491  13687  71178\n",
      "Yes               6717   1955   8672\n",
      "All              64208  15642  79850\n",
      "\n",
      "\n",
      "The 2x2 percentage table is :-\n",
      "Renewed             No    Yes     All\n",
      "age_range_40_49                      \n",
      "No               72.00  17.14   89.14\n",
      "Yes               8.41   2.45   10.86\n",
      "All              80.41  19.59  100.00\n",
      "\n",
      "\n",
      "The prob values for Non Renewal:- \n",
      "The P(Non-Renewal / Age not between 40 and 49) is 89.54 %\n",
      "The P(Non-Renewal / age_range_40_49) is 10.46 %\n",
      "\n",
      "\n",
      "The prob values for Renewal:- \n",
      "The P(Renewal / Age not between 40 and 49) is 87.5 %\n",
      "The P(Renewal / age_range_40_49) is 12.5 %\n"
     ]
    }
   ],
   "source": [
    "calculate_conditional_prob(df.age_range_40_49, 'age_range_40_49' ,'Age not between 40 and 49')"
   ]
  },
  {
   "cell_type": "markdown",
   "id": "113615a2",
   "metadata": {},
   "source": [
    "### Using, above graphs & conditional probability we can say that a customer who had not renewed the lease has 11 % chance of having age between 40 and 49 while a customer who has renewed the lease has 12.5 % chance of having  having age between 40 and 49. Therefore, we cannot say that age between 40 and 49  is not causing a major non-renewal or renewal.¶\n",
    "### Similiarly, if we take complete population there is 8.41 % chance of customer non likley to renew lease given having age between 40 and 49 .\n",
    "### Therefore, we can say that a customer will likely not renew the lease given having age between 40 and 49 . Therefore, we can infer that having age between 40 and 49  is a detractor."
   ]
  },
  {
   "cell_type": "code",
   "execution_count": 747,
   "id": "8d266b9f",
   "metadata": {},
   "outputs": [
    {
     "name": "stdout",
     "output_type": "stream",
     "text": [
      "The 2x2 contigency table is :-\n",
      "Renewed             No    Yes    All\n",
      "age_range_40_49                     \n",
      "No               57491  13687  71178\n",
      "Yes               6717   1955   8672\n",
      "All              64208  15642  79850\n",
      "\n",
      "\n",
      "The chi squared test stat:- \n",
      "The chi squared stat is = 53.91518397498539\n",
      "The critical Value is = 3.841458820694124\n",
      "The P-value is = 2.0938806244430452e-13\n",
      "\n",
      "\n",
      "The Fisher test stat:- \n",
      "The P-value for Fisher test is = 4.958418764216942e-13\n",
      "\n",
      "\n",
      "The G-test stat for goodness of fit:- \n",
      "The P-value for G test is = 5.408141402997058e-13\n"
     ]
    }
   ],
   "source": [
    "contigency_table_test(df.age_range_40_49)"
   ]
  },
  {
   "cell_type": "markdown",
   "id": "5c764f74",
   "metadata": {},
   "source": [
    "### We can see that chi squared stat is higher than critical value  but the p value is greater than 0.05\n",
    "\n",
    "### The p value for fisher's test is less than 0.05 therefore we can say that there is significant relationship between the  variable having age between 40 and 49 and Lease renewal.\n",
    "\n",
    "### The p value for G test is less than 0.05, therefore we can say that this calculated ratios will not always be true. Therefore, we cannot be certain that a customer who did not renew lease also having age between 40 and 49."
   ]
  },
  {
   "cell_type": "markdown",
   "id": "b90e7d85",
   "metadata": {},
   "source": [
    "### 9) age_range_50_59"
   ]
  },
  {
   "cell_type": "code",
   "execution_count": 748,
   "id": "09b4bca8",
   "metadata": {},
   "outputs": [
    {
     "data": {
      "text/html": [
       "<div>\n",
       "<style scoped>\n",
       "    .dataframe tbody tr th:only-of-type {\n",
       "        vertical-align: middle;\n",
       "    }\n",
       "\n",
       "    .dataframe tbody tr th {\n",
       "        vertical-align: top;\n",
       "    }\n",
       "\n",
       "    .dataframe thead th {\n",
       "        text-align: right;\n",
       "    }\n",
       "</style>\n",
       "<table border=\"1\" class=\"dataframe\">\n",
       "  <thead>\n",
       "    <tr style=\"text-align: right;\">\n",
       "      <th></th>\n",
       "      <th>age_range_50_59</th>\n",
       "      <th>Total</th>\n",
       "      <th>Percentage</th>\n",
       "    </tr>\n",
       "  </thead>\n",
       "  <tbody>\n",
       "    <tr>\n",
       "      <th>0</th>\n",
       "      <td>Yes</td>\n",
       "      <td>4722</td>\n",
       "      <td>5.91</td>\n",
       "    </tr>\n",
       "    <tr>\n",
       "      <th>1</th>\n",
       "      <td>No</td>\n",
       "      <td>75128</td>\n",
       "      <td>94.09</td>\n",
       "    </tr>\n",
       "  </tbody>\n",
       "</table>\n",
       "</div>"
      ],
      "text/plain": [
       "  age_range_50_59  Total  Percentage\n",
       "0             Yes   4722        5.91\n",
       "1              No  75128       94.09"
      ]
     },
     "execution_count": 748,
     "metadata": {},
     "output_type": "execute_result"
    }
   ],
   "source": [
    "# The composition of Renewal\n",
    "\n",
    "calculate_percentage_yes_no(df['age_range_50_59'], 'age_range_50_59')"
   ]
  },
  {
   "cell_type": "code",
   "execution_count": 749,
   "id": "a1fc2a21",
   "metadata": {},
   "outputs": [
    {
     "data": {
      "text/plain": [
       "<AxesSubplot:xlabel='age_range_50_59', ylabel='count'>"
      ]
     },
     "execution_count": 749,
     "metadata": {},
     "output_type": "execute_result"
    },
    {
     "data": {
      "image/png": "[encoded data removed]",
      "text/plain": [
       "<Figure size 400x400 with 1 Axes>"
      ]
     },
     "metadata": {},
     "output_type": "display_data"
    }
   ],
   "source": [
    "sns.countplot(data=df, x='age_range_50_59', hue='Renewed')"
   ]
  },
  {
   "cell_type": "code",
   "execution_count": 750,
   "id": "c157b0ac",
   "metadata": {},
   "outputs": [
    {
     "name": "stdout",
     "output_type": "stream",
     "text": [
      "The 2x2 contigency table is :-\n",
      "Renewed             No    Yes    All\n",
      "age_range_50_59                     \n",
      "No               60311  14817  75128\n",
      "Yes               3897    825   4722\n",
      "All              64208  15642  79850\n",
      "\n",
      "\n",
      "The 2x2 percentage table is :-\n",
      "Renewed             No    Yes     All\n",
      "age_range_50_59                      \n",
      "No               75.53  18.56   94.09\n",
      "Yes               4.88   1.03    5.91\n",
      "All              80.41  19.59  100.00\n",
      "\n",
      "\n",
      "The prob values for Non Renewal:- \n",
      "The P(Non-Renewal / Age not between 50 and 59) is 93.93 %\n",
      "The P(Non-Renewal / age_range_50_59) is 6.07 %\n",
      "\n",
      "\n",
      "The prob values for Renewal:- \n",
      "The P(Renewal / Age not between 50 and 59) is 94.73 %\n",
      "The P(Renewal / age_range_50_59) is 5.27 %\n"
     ]
    }
   ],
   "source": [
    "calculate_conditional_prob(df.age_range_50_59, 'age_range_50_59' ,'Age not between 50 and 59')"
   ]
  },
  {
   "cell_type": "markdown",
   "id": "3664ed61",
   "metadata": {},
   "source": [
    "### Using, above graphs & conditional probability we can say that a customer who had not renewed the lease has 6.07 % chance of having age between 50 and 59 while a customer who has renewed the lease has  5.27 % chance of having  having age between 50 and 59. Therefore, we cannot say that age between 50 and 59  is not causing a major non-renewal or renewal.¶\n",
    "### Similiarly, if we take complete population there is 5 % chance of customer non likley to renew lease given having age between 40 and 49 .\n",
    "### Therefore, we can say that a customer will likely not renew the lease given having age between 50 and 59 . Therefore, we can infer that having age between 50 and 59  is a detractor."
   ]
  },
  {
   "cell_type": "code",
   "execution_count": 751,
   "id": "716b0976",
   "metadata": {},
   "outputs": [
    {
     "name": "stdout",
     "output_type": "stream",
     "text": [
      "The 2x2 contigency table is :-\n",
      "Renewed             No    Yes    All\n",
      "age_range_50_59                     \n",
      "No               60311  14817  75128\n",
      "Yes               3897    825   4722\n",
      "All              64208  15642  79850\n",
      "\n",
      "\n",
      "The chi squared test stat:- \n",
      "The chi squared stat is = 14.29043114533602\n",
      "The critical Value is = 3.841458820694124\n",
      "The P-value is = 0.00015665922252106057\n",
      "\n",
      "\n",
      "The Fisher test stat:- \n",
      "The P-value for Fisher test is = 0.00013413015859267094\n",
      "\n",
      "\n",
      "The G-test stat for goodness of fit:- \n",
      "The P-value for G test is = 0.00013795521745182327\n"
     ]
    }
   ],
   "source": [
    "contigency_table_test(df.age_range_50_59)"
   ]
  },
  {
   "cell_type": "markdown",
   "id": "7f6b7c3e",
   "metadata": {},
   "source": [
    "### We can see that chi squared stat is higher than critical value  but the p value is greater than 0.05\n",
    "\n",
    "### The p value for fisher's test is less than 0.05 therefore we can say that there is significant relationship between the  variable having age between 50 and 59 and Lease renewal.\n",
    "\n",
    "### The p value for G test is less than 0.05, therefore we can say that this calculated ratios will not always be true. Therefore, we cannot be certain that a customer who did not renew lease also having age between 50 and 59."
   ]
  },
  {
   "cell_type": "markdown",
   "id": "f76c8980",
   "metadata": {},
   "source": [
    "### 10) age_range_60"
   ]
  },
  {
   "cell_type": "code",
   "execution_count": 752,
   "id": "9753d38a",
   "metadata": {},
   "outputs": [
    {
     "data": {
      "text/html": [
       "<div>\n",
       "<style scoped>\n",
       "    .dataframe tbody tr th:only-of-type {\n",
       "        vertical-align: middle;\n",
       "    }\n",
       "\n",
       "    .dataframe tbody tr th {\n",
       "        vertical-align: top;\n",
       "    }\n",
       "\n",
       "    .dataframe thead th {\n",
       "        text-align: right;\n",
       "    }\n",
       "</style>\n",
       "<table border=\"1\" class=\"dataframe\">\n",
       "  <thead>\n",
       "    <tr style=\"text-align: right;\">\n",
       "      <th></th>\n",
       "      <th>age_range_60</th>\n",
       "      <th>Total</th>\n",
       "      <th>Percentage</th>\n",
       "    </tr>\n",
       "  </thead>\n",
       "  <tbody>\n",
       "    <tr>\n",
       "      <th>0</th>\n",
       "      <td>Yes</td>\n",
       "      <td>1675</td>\n",
       "      <td>2.1</td>\n",
       "    </tr>\n",
       "    <tr>\n",
       "      <th>1</th>\n",
       "      <td>No</td>\n",
       "      <td>78175</td>\n",
       "      <td>97.9</td>\n",
       "    </tr>\n",
       "  </tbody>\n",
       "</table>\n",
       "</div>"
      ],
      "text/plain": [
       "  age_range_60  Total  Percentage\n",
       "0          Yes   1675         2.1\n",
       "1           No  78175        97.9"
      ]
     },
     "execution_count": 752,
     "metadata": {},
     "output_type": "execute_result"
    }
   ],
   "source": [
    "# The composition of Renewal\n",
    "\n",
    "calculate_percentage_yes_no(df['age_range_60'], 'age_range_60')"
   ]
  },
  {
   "cell_type": "code",
   "execution_count": 753,
   "id": "5223ba27",
   "metadata": {},
   "outputs": [
    {
     "data": {
      "text/plain": [
       "<AxesSubplot:xlabel='age_range_60', ylabel='count'>"
      ]
     },
     "execution_count": 753,
     "metadata": {},
     "output_type": "execute_result"
    },
    {
     "data": {
      "image/png": "[encoded data removed]",
      "text/plain": [
       "<Figure size 400x400 with 1 Axes>"
      ]
     },
     "metadata": {},
     "output_type": "display_data"
    }
   ],
   "source": [
    "sns.countplot(data=df, x='age_range_60', hue='Renewed')"
   ]
  },
  {
   "cell_type": "code",
   "execution_count": 754,
   "id": "290f94e8",
   "metadata": {},
   "outputs": [
    {
     "name": "stdout",
     "output_type": "stream",
     "text": [
      "The 2x2 contigency table is :-\n",
      "Renewed          No    Yes    All\n",
      "age_range_60                     \n",
      "No            62752  15423  78175\n",
      "Yes            1456    219   1675\n",
      "All           64208  15642  79850\n",
      "\n",
      "\n",
      "The 2x2 percentage table is :-\n",
      "Renewed          No    Yes    All\n",
      "age_range_60                     \n",
      "No            78.59  19.31   97.9\n",
      "Yes            1.82   0.27    2.1\n",
      "All           80.41  19.59  100.0\n",
      "\n",
      "\n",
      "The prob values for Non Renewal:- \n",
      "The P(Non-Renewal / age not above 60) is 97.73 %\n",
      "The P(Non-Renewal / age_range_60) is 2.27 %\n",
      "\n",
      "\n",
      "The prob values for Renewal:- \n",
      "The P(Renewal / age not above 60) is 98.6 %\n",
      "The P(Renewal / age_range_60) is 1.4 %\n"
     ]
    }
   ],
   "source": [
    "calculate_conditional_prob(df.age_range_60, 'age_range_60' ,'age not above 60')"
   ]
  },
  {
   "cell_type": "markdown",
   "id": "b15a67c0",
   "metadata": {},
   "source": [
    "### Using, above graphs & conditional probability we can say that a customer who had not renewed the lease has 3 % chance of having age above 60 while a customer who has renewed the lease has  2 % chance of having  having age between 50 and 59. Therefore, we cannot say that having age above 60  is not causing a major non-renewal or renewal.¶\n",
    "### Similiarly, if we take complete population there is 2 % chance of customer non likley to renew lease given having age above 60.\n",
    "### Therefore, we can say that a customer will likely not renew the lease given having age between 50 and 59 . Therefore, we can infer that having age above 60  is a detractor."
   ]
  },
  {
   "cell_type": "code",
   "execution_count": 755,
   "id": "c706f934",
   "metadata": {},
   "outputs": [
    {
     "name": "stdout",
     "output_type": "stream",
     "text": [
      "The 2x2 contigency table is :-\n",
      "Renewed          No    Yes    All\n",
      "age_range_60                     \n",
      "No            62752  15423  78175\n",
      "Yes            1456    219   1675\n",
      "All           64208  15642  79850\n",
      "\n",
      "\n",
      "The chi squared test stat:- \n",
      "The chi squared stat is = 46.0963099210536\n",
      "The critical Value is = 3.841458820694124\n",
      "The P-value is = 1.1257994536606475e-11\n",
      "\n",
      "\n",
      "The Fisher test stat:- \n",
      "The P-value for Fisher test is = 1.3809432015796813e-12\n",
      "\n",
      "\n",
      "The G-test stat for goodness of fit:- \n",
      "The P-value for G test is = 1.3608347883815523e-12\n"
     ]
    }
   ],
   "source": [
    "contigency_table_test(df.age_range_60)"
   ]
  },
  {
   "cell_type": "markdown",
   "id": "ab21dcde",
   "metadata": {},
   "source": [
    "### We can see that chi squared stat is higher than critical value  but the p value is greater than 0.05\n",
    "\n",
    "### The p value for fisher's test is less than 0.05 therefore we can say that there is significant relationship between the  variable having age above 60 and Lease renewal.\n",
    "\n",
    "### The p value for G test is less than 0.05, therefore we can say that this calculated ratios will not always be true. Therefore, we cannot be certain that a customer who did not renew lease also having age above 60."
   ]
  },
  {
   "cell_type": "markdown",
   "id": "b1e14dae",
   "metadata": {},
   "source": [
    "### 12) NoFinesViolations"
   ]
  },
  {
   "cell_type": "code",
   "execution_count": 756,
   "id": "cb14c77e",
   "metadata": {},
   "outputs": [
    {
     "data": {
      "text/html": [
       "<div>\n",
       "<style scoped>\n",
       "    .dataframe tbody tr th:only-of-type {\n",
       "        vertical-align: middle;\n",
       "    }\n",
       "\n",
       "    .dataframe tbody tr th {\n",
       "        vertical-align: top;\n",
       "    }\n",
       "\n",
       "    .dataframe thead th {\n",
       "        text-align: right;\n",
       "    }\n",
       "</style>\n",
       "<table border=\"1\" class=\"dataframe\">\n",
       "  <thead>\n",
       "    <tr style=\"text-align: right;\">\n",
       "      <th></th>\n",
       "      <th>NoFinesViolations</th>\n",
       "      <th>Total</th>\n",
       "      <th>Percentage</th>\n",
       "    </tr>\n",
       "  </thead>\n",
       "  <tbody>\n",
       "    <tr>\n",
       "      <th>0</th>\n",
       "      <td>Yes</td>\n",
       "      <td>11119</td>\n",
       "      <td>13.92</td>\n",
       "    </tr>\n",
       "    <tr>\n",
       "      <th>1</th>\n",
       "      <td>No</td>\n",
       "      <td>68731</td>\n",
       "      <td>86.08</td>\n",
       "    </tr>\n",
       "  </tbody>\n",
       "</table>\n",
       "</div>"
      ],
      "text/plain": [
       "  NoFinesViolations  Total  Percentage\n",
       "0               Yes  11119       13.92\n",
       "1                No  68731       86.08"
      ]
     },
     "execution_count": 756,
     "metadata": {},
     "output_type": "execute_result"
    }
   ],
   "source": [
    "# The composition of Renewal\n",
    "\n",
    "calculate_percentage_yes_no(df['NoFinesViolations'], 'NoFinesViolations')"
   ]
  },
  {
   "cell_type": "code",
   "execution_count": 757,
   "id": "e41226f9",
   "metadata": {},
   "outputs": [
    {
     "data": {
      "text/plain": [
       "<AxesSubplot:xlabel='NoFinesViolations', ylabel='count'>"
      ]
     },
     "execution_count": 757,
     "metadata": {},
     "output_type": "execute_result"
    },
    {
     "data": {
      "image/png": "[encoded data removed]",
      "text/plain": [
       "<Figure size 400x400 with 1 Axes>"
      ]
     },
     "metadata": {},
     "output_type": "display_data"
    }
   ],
   "source": [
    "sns.countplot(data=df, x='NoFinesViolations', hue='Renewed')"
   ]
  },
  {
   "cell_type": "code",
   "execution_count": 758,
   "id": "8ef5ba70",
   "metadata": {},
   "outputs": [
    {
     "name": "stdout",
     "output_type": "stream",
     "text": [
      "The 2x2 contigency table is :-\n",
      "Renewed               No    Yes    All\n",
      "NoFinesViolations                     \n",
      "No                 56681  12050  68731\n",
      "Yes                 7527   3592  11119\n",
      "All                64208  15642  79850\n",
      "\n",
      "\n",
      "The 2x2 percentage table is :-\n",
      "Renewed               No    Yes     All\n",
      "NoFinesViolations                      \n",
      "No                 70.98  15.09   86.08\n",
      "Yes                 9.43   4.50   13.92\n",
      "All                80.41  19.59  100.00\n",
      "\n",
      "\n",
      "The prob values for Non Renewal:- \n",
      "The P(Non-Renewal / Fines Violations) is 88.28 %\n",
      "The P(Non-Renewal / NoFinesViolations) is 11.72 %\n",
      "\n",
      "\n",
      "The prob values for Renewal:- \n",
      "The P(Renewal / Fines Violations) is 77.04 %\n",
      "The P(Renewal / NoFinesViolations) is 22.96 %\n"
     ]
    }
   ],
   "source": [
    "calculate_conditional_prob(df.NoFinesViolations, 'NoFinesViolations' ,'Fines Violations')"
   ]
  },
  {
   "cell_type": "markdown",
   "id": "c243b66b",
   "metadata": {},
   "source": [
    "### Using, above graphs & conditional probability we can say that a customer who had not renewed the lease has 12 % chance of having no fines violated while a customer who has renewed the lease has  23 % chance of having  having no fines violated. Therefore, we cannot say that having no fines violated  is not causing a major non-renewal or renewal.¶\n",
    "### Similiarly, if we take complete population there is 9 % chance of customer non likley to renew lease given having no fines violated.\n",
    "### Therefore, we can say that a customer will likely not renew the lease given having no fines violated . Therefore, we can infer that having no fines violated  is a detractor."
   ]
  },
  {
   "cell_type": "code",
   "execution_count": 760,
   "id": "416e6e9c",
   "metadata": {},
   "outputs": [
    {
     "name": "stdout",
     "output_type": "stream",
     "text": [
      "The 2x2 contigency table is :-\n",
      "Renewed               No    Yes    All\n",
      "NoFinesViolations                     \n",
      "No                 56681  12050  68731\n",
      "Yes                 7527   3592  11119\n",
      "All                64208  15642  79850\n",
      "\n",
      "\n",
      "The chi squared test stat:- \n",
      "The chi squared stat is = 1326.007795016176\n",
      "The critical Value is = 3.841458820694124\n",
      "The P-value is = 0.0\n",
      "\n",
      "\n",
      "The Fisher test stat:- \n",
      "The P-value for Fisher test is = 2.9534892666304953e-261\n",
      "\n",
      "\n",
      "The G-test stat for goodness of fit:- \n",
      "The P-value for G test is = 4.450605765766287e-261\n"
     ]
    }
   ],
   "source": [
    "contigency_table_test(df.NoFinesViolations)"
   ]
  },
  {
   "cell_type": "markdown",
   "id": "86e09399",
   "metadata": {},
   "source": [
    "### We can see that chi squared stat is higher than critical value  but the p value is greater than 0.05\n",
    "\n",
    "### The p value for fisher's test is less than 0.05 therefore we can say that there is significant relationship between the  variable having no fines violated and Lease renewal.\n",
    "\n",
    "### The p value for G test is less than 0.05, therefore we can say that this calculated ratios will not always be true. Therefore, we cannot be certain that a customer who did not renew lease also having no fines violated."
   ]
  },
  {
   "cell_type": "markdown",
   "id": "adae5aae",
   "metadata": {},
   "source": [
    "### 13) PositiveSurvey"
   ]
  },
  {
   "cell_type": "code",
   "execution_count": 761,
   "id": "87c25fc3",
   "metadata": {},
   "outputs": [
    {
     "data": {
      "text/html": [
       "<div>\n",
       "<style scoped>\n",
       "    .dataframe tbody tr th:only-of-type {\n",
       "        vertical-align: middle;\n",
       "    }\n",
       "\n",
       "    .dataframe tbody tr th {\n",
       "        vertical-align: top;\n",
       "    }\n",
       "\n",
       "    .dataframe thead th {\n",
       "        text-align: right;\n",
       "    }\n",
       "</style>\n",
       "<table border=\"1\" class=\"dataframe\">\n",
       "  <thead>\n",
       "    <tr style=\"text-align: right;\">\n",
       "      <th></th>\n",
       "      <th>PositiveSurvey</th>\n",
       "      <th>Total</th>\n",
       "      <th>Percentage</th>\n",
       "    </tr>\n",
       "  </thead>\n",
       "  <tbody>\n",
       "    <tr>\n",
       "      <th>0</th>\n",
       "      <td>Yes</td>\n",
       "      <td>21491</td>\n",
       "      <td>26.91</td>\n",
       "    </tr>\n",
       "    <tr>\n",
       "      <th>1</th>\n",
       "      <td>No</td>\n",
       "      <td>58359</td>\n",
       "      <td>73.09</td>\n",
       "    </tr>\n",
       "  </tbody>\n",
       "</table>\n",
       "</div>"
      ],
      "text/plain": [
       "  PositiveSurvey  Total  Percentage\n",
       "0            Yes  21491       26.91\n",
       "1             No  58359       73.09"
      ]
     },
     "execution_count": 761,
     "metadata": {},
     "output_type": "execute_result"
    }
   ],
   "source": [
    "# The composition of Renewal\n",
    "\n",
    "calculate_percentage_yes_no(df['PositiveSurvey'], 'PositiveSurvey')"
   ]
  },
  {
   "cell_type": "code",
   "execution_count": 762,
   "id": "b320a2c9",
   "metadata": {},
   "outputs": [
    {
     "data": {
      "text/plain": [
       "<AxesSubplot:xlabel='PositiveSurvey', ylabel='count'>"
      ]
     },
     "execution_count": 762,
     "metadata": {},
     "output_type": "execute_result"
    },
    {
     "data": {
      "image/png": "[encoded data removed]",
      "text/plain": [
       "<Figure size 400x400 with 1 Axes>"
      ]
     },
     "metadata": {},
     "output_type": "display_data"
    }
   ],
   "source": [
    "sns.countplot(data=df, x='PositiveSurvey', hue='Renewed')"
   ]
  },
  {
   "cell_type": "code",
   "execution_count": 763,
   "id": "59f0f96e",
   "metadata": {},
   "outputs": [
    {
     "name": "stdout",
     "output_type": "stream",
     "text": [
      "The 2x2 contigency table is :-\n",
      "Renewed            No    Yes    All\n",
      "PositiveSurvey                     \n",
      "No              46592  11767  58359\n",
      "Yes             17616   3875  21491\n",
      "All             64208  15642  79850\n",
      "\n",
      "\n",
      "The 2x2 percentage table is :-\n",
      "Renewed            No    Yes     All\n",
      "PositiveSurvey                      \n",
      "No              58.35  14.74   73.09\n",
      "Yes             22.06   4.85   26.91\n",
      "All             80.41  19.59  100.00\n",
      "\n",
      "\n",
      "The prob values for Non Renewal:- \n",
      "The P(Non-Renewal / No Positive Survey) is 72.56 %\n",
      "The P(Non-Renewal / PositiveSurvey) is 27.44 %\n",
      "\n",
      "\n",
      "The prob values for Renewal:- \n",
      "The P(Renewal / No Positive Survey) is 75.23 %\n",
      "The P(Renewal / PositiveSurvey) is 24.77 %\n"
     ]
    }
   ],
   "source": [
    "calculate_conditional_prob(df.PositiveSurvey, 'PositiveSurvey' ,'No Positive Survey')"
   ]
  },
  {
   "cell_type": "markdown",
   "id": "418920a7",
   "metadata": {},
   "source": [
    "### Using, above graphs & conditional probability we can say that a customer who had not renewed the lease has 27 % chance of having provided positive feedback on survey while a customer who has renewed the lease has  25% chance of having  provided positive feedback on survey. Therefore, we cannot say that having provided positive feedback on survey  is not causing a major non-renewal or renewal.¶\n",
    "### Similiarly, if we take complete population there is 22 % chance of customer non likley to renew lease given having provided positive feedback on survey.\n",
    "### Therefore, we can say that a customer will likely not renew the lease given having provided positive feedback on survey. Therefore, we can infer that provided positive feedback on survey violated  is a detractor."
   ]
  },
  {
   "cell_type": "code",
   "execution_count": 765,
   "id": "db42cc1e",
   "metadata": {},
   "outputs": [
    {
     "name": "stdout",
     "output_type": "stream",
     "text": [
      "The 2x2 contigency table is :-\n",
      "Renewed            No    Yes    All\n",
      "PositiveSurvey                     \n",
      "No              46592  11767  58359\n",
      "Yes             17616   3875  21491\n",
      "All             64208  15642  79850\n",
      "\n",
      "\n",
      "The chi squared test stat:- \n",
      "The chi squared stat is = 45.33823503369563\n",
      "The critical Value is = 3.841458820694124\n",
      "The P-value is = 1.6578072248307762e-11\n",
      "\n",
      "\n",
      "The Fisher test stat:- \n",
      "The P-value for Fisher test is = 1.3179405809452632e-11\n",
      "\n",
      "\n",
      "The G-test stat for goodness of fit:- \n",
      "The P-value for G test is = 1.3056021390097887e-11\n"
     ]
    }
   ],
   "source": [
    "contigency_table_test(df.PositiveSurvey)"
   ]
  },
  {
   "cell_type": "markdown",
   "id": "21f3bb4f",
   "metadata": {},
   "source": [
    "### We can see that chi squared stat is higher than critical value  but the p value is less than 0.05\n",
    "\n",
    "### The p value for fisher's test is less than 0.05 therefore we can say that there is significant relationship between the  variable having provided positive feedback on survey and Lease renewal.\n",
    "\n",
    "### The p value for G test is less than 0.05, therefore we can say that this calculated ratios will not always be true. Therefore, we cannot be certain that a customer who did not renew lease also having provided positive feedback on survey."
   ]
  },
  {
   "cell_type": "markdown",
   "id": "9427351f",
   "metadata": {},
   "source": [
    "### 13) LatePayments"
   ]
  },
  {
   "cell_type": "code",
   "execution_count": 766,
   "id": "2d46d020",
   "metadata": {},
   "outputs": [
    {
     "data": {
      "text/html": [
       "<div>\n",
       "<style scoped>\n",
       "    .dataframe tbody tr th:only-of-type {\n",
       "        vertical-align: middle;\n",
       "    }\n",
       "\n",
       "    .dataframe tbody tr th {\n",
       "        vertical-align: top;\n",
       "    }\n",
       "\n",
       "    .dataframe thead th {\n",
       "        text-align: right;\n",
       "    }\n",
       "</style>\n",
       "<table border=\"1\" class=\"dataframe\">\n",
       "  <thead>\n",
       "    <tr style=\"text-align: right;\">\n",
       "      <th></th>\n",
       "      <th>LatePayments</th>\n",
       "      <th>Total</th>\n",
       "      <th>Percentage</th>\n",
       "    </tr>\n",
       "  </thead>\n",
       "  <tbody>\n",
       "    <tr>\n",
       "      <th>0</th>\n",
       "      <td>No</td>\n",
       "      <td>34623</td>\n",
       "      <td>43.36</td>\n",
       "    </tr>\n",
       "    <tr>\n",
       "      <th>1</th>\n",
       "      <td>Yes</td>\n",
       "      <td>45227</td>\n",
       "      <td>56.64</td>\n",
       "    </tr>\n",
       "  </tbody>\n",
       "</table>\n",
       "</div>"
      ],
      "text/plain": [
       "  LatePayments  Total  Percentage\n",
       "0           No  34623       43.36\n",
       "1          Yes  45227       56.64"
      ]
     },
     "execution_count": 766,
     "metadata": {},
     "output_type": "execute_result"
    }
   ],
   "source": [
    "# The composition of Renewal\n",
    "\n",
    "calculate_percentage_yes_no(df['LatePayments'], 'LatePayments')"
   ]
  },
  {
   "cell_type": "code",
   "execution_count": 767,
   "id": "583c989b",
   "metadata": {},
   "outputs": [
    {
     "data": {
      "text/plain": [
       "<AxesSubplot:xlabel='LatePayments', ylabel='count'>"
      ]
     },
     "execution_count": 767,
     "metadata": {},
     "output_type": "execute_result"
    },
    {
     "data": {
      "image/png": "[encoded data removed]",
      "text/plain": [
       "<Figure size 400x400 with 1 Axes>"
      ]
     },
     "metadata": {},
     "output_type": "display_data"
    }
   ],
   "source": [
    "sns.countplot(data=df, x='LatePayments', hue='Renewed')"
   ]
  },
  {
   "cell_type": "code",
   "execution_count": 768,
   "id": "ab7db12b",
   "metadata": {},
   "outputs": [
    {
     "name": "stdout",
     "output_type": "stream",
     "text": [
      "The 2x2 contigency table is :-\n",
      "Renewed          No    Yes    All\n",
      "LatePayments                     \n",
      "No            28802   5821  34623\n",
      "Yes           35406   9821  45227\n",
      "All           64208  15642  79850\n",
      "\n",
      "\n",
      "The 2x2 percentage table is :-\n",
      "Renewed          No    Yes     All\n",
      "LatePayments                      \n",
      "No            36.07   7.29   43.36\n",
      "Yes           44.34  12.30   56.64\n",
      "All           80.41  19.59  100.00\n",
      "\n",
      "\n",
      "The prob values for Non Renewal:- \n",
      "The P(Non-Renewal / No Late Payments) is 44.86 %\n",
      "The P(Non-Renewal / LatePayments) is 55.14 %\n",
      "\n",
      "\n",
      "The prob values for Renewal:- \n",
      "The P(Renewal / No Late Payments) is 37.21 %\n",
      "The P(Renewal / LatePayments) is 62.79 %\n"
     ]
    }
   ],
   "source": [
    "calculate_conditional_prob(df.LatePayments, 'LatePayments' ,'No Late Payments')"
   ]
  },
  {
   "cell_type": "markdown",
   "id": "1a44bb40",
   "metadata": {},
   "source": [
    "### Using, above graphs & conditional probability we can say that a customer who had not renewed the lease has 55 % chance of never been late on making payments while a customer who has renewed the lease has  62 % chance of never been late on making payments. Therefore, we cannot say that never been late on making payments  is not causing a major non-renewal or renewal.¶\n",
    "### Similiarly, if we take complete population there is 44 % chance of customer non likley to renew lease given never been late on making payments.\n",
    "### Therefore, we can say that a customer will likely not renew the lease given having never been late on making payments. Therefore, we can infer that never been late on making payments  is a detractor."
   ]
  },
  {
   "cell_type": "code",
   "execution_count": 770,
   "id": "aa4c0a8d",
   "metadata": {},
   "outputs": [
    {
     "name": "stdout",
     "output_type": "stream",
     "text": [
      "The 2x2 contigency table is :-\n",
      "Renewed          No    Yes    All\n",
      "LatePayments                     \n",
      "No            28802   5821  34623\n",
      "Yes           35406   9821  45227\n",
      "All           64208  15642  79850\n",
      "\n",
      "\n",
      "The chi squared test stat:- \n",
      "The chi squared stat is = 299.20590173696974\n",
      "The critical Value is = 3.841458820694124\n",
      "The P-value is = 0.0\n",
      "\n",
      "\n",
      "The Fisher test stat:- \n",
      "The P-value for Fisher test is = 1.1375683928036668e-67\n",
      "\n",
      "\n",
      "The G-test stat for goodness of fit:- \n",
      "The P-value for G test is = 1.1502796033647747e-67\n"
     ]
    }
   ],
   "source": [
    "contigency_table_test(df.LatePayments)"
   ]
  },
  {
   "cell_type": "markdown",
   "id": "518f90c0",
   "metadata": {},
   "source": [
    "### We can see that chi squared stat is higher than critical value  but the p value is less than 0.05\n",
    "\n",
    "### The p value for fisher's test is less than 0.05 therefore we can say that there is significant relationship between the  variable having never been late on making payments and Lease renewal.\n",
    "\n",
    "### The p value for G test is less than 0.05, therefore we can say that this calculated ratios will not always be true. Therefore, we cannot be certain that a customer who did not renew lease also never been late on making payments."
   ]
  },
  {
   "cell_type": "markdown",
   "id": "846b32c3",
   "metadata": {},
   "source": [
    "### 14) HOA_mandatory"
   ]
  },
  {
   "cell_type": "code",
   "execution_count": 771,
   "id": "186cf4e0",
   "metadata": {},
   "outputs": [
    {
     "data": {
      "text/html": [
       "<div>\n",
       "<style scoped>\n",
       "    .dataframe tbody tr th:only-of-type {\n",
       "        vertical-align: middle;\n",
       "    }\n",
       "\n",
       "    .dataframe tbody tr th {\n",
       "        vertical-align: top;\n",
       "    }\n",
       "\n",
       "    .dataframe thead th {\n",
       "        text-align: right;\n",
       "    }\n",
       "</style>\n",
       "<table border=\"1\" class=\"dataframe\">\n",
       "  <thead>\n",
       "    <tr style=\"text-align: right;\">\n",
       "      <th></th>\n",
       "      <th>HOA_mandatory</th>\n",
       "      <th>Total</th>\n",
       "      <th>Percentage</th>\n",
       "    </tr>\n",
       "  </thead>\n",
       "  <tbody>\n",
       "    <tr>\n",
       "      <th>0</th>\n",
       "      <td>Yes</td>\n",
       "      <td>13106</td>\n",
       "      <td>16.41</td>\n",
       "    </tr>\n",
       "    <tr>\n",
       "      <th>1</th>\n",
       "      <td>No</td>\n",
       "      <td>66744</td>\n",
       "      <td>83.59</td>\n",
       "    </tr>\n",
       "  </tbody>\n",
       "</table>\n",
       "</div>"
      ],
      "text/plain": [
       "  HOA_mandatory  Total  Percentage\n",
       "0           Yes  13106       16.41\n",
       "1            No  66744       83.59"
      ]
     },
     "execution_count": 771,
     "metadata": {},
     "output_type": "execute_result"
    }
   ],
   "source": [
    "# The composition of Renewal\n",
    "\n",
    "calculate_percentage_yes_no(df['HOA_mandatory'], 'HOA_mandatory')"
   ]
  },
  {
   "cell_type": "code",
   "execution_count": 772,
   "id": "5b93df75",
   "metadata": {},
   "outputs": [
    {
     "data": {
      "text/plain": [
       "<AxesSubplot:xlabel='HOA_mandatory', ylabel='count'>"
      ]
     },
     "execution_count": 772,
     "metadata": {},
     "output_type": "execute_result"
    },
    {
     "data": {
      "image/png": "[encoded data removed]",
      "text/plain": [
       "<Figure size 400x400 with 1 Axes>"
      ]
     },
     "metadata": {},
     "output_type": "display_data"
    }
   ],
   "source": [
    "sns.countplot(data=df, x='HOA_mandatory', hue='Renewed')"
   ]
  },
  {
   "cell_type": "code",
   "execution_count": 773,
   "id": "7fbdc913",
   "metadata": {},
   "outputs": [
    {
     "name": "stdout",
     "output_type": "stream",
     "text": [
      "The 2x2 contigency table is :-\n",
      "Renewed           No    Yes    All\n",
      "HOA_mandatory                     \n",
      "No             52654  14090  66744\n",
      "Yes            11554   1552  13106\n",
      "All            64208  15642  79850\n",
      "\n",
      "\n",
      "The 2x2 percentage table is :-\n",
      "Renewed           No    Yes     All\n",
      "HOA_mandatory                      \n",
      "No             65.94  17.65   83.59\n",
      "Yes            14.47   1.94   16.41\n",
      "All            80.41  19.59  100.00\n",
      "\n",
      "\n",
      "The prob values for Non Renewal:- \n",
      "The P(Non-Renewal / No HOA mandatory) is 82.01 %\n",
      "The P(Non-Renewal / HOA_mandatory) is 17.99 %\n",
      "\n",
      "\n",
      "The prob values for Renewal:- \n",
      "The P(Renewal / No HOA mandatory) is 90.08 %\n",
      "The P(Renewal / HOA_mandatory) is 9.92 %\n"
     ]
    }
   ],
   "source": [
    "calculate_conditional_prob(df.HOA_mandatory, 'HOA_mandatory' ,'No HOA mandatory')"
   ]
  },
  {
   "cell_type": "markdown",
   "id": "b47e323a",
   "metadata": {},
   "source": [
    "### Using, above graphs & conditional probability we can say that a customer who had not renewed the lease has 18 % chance of having mandatory HOA fees on lease while a customer who has renewed the lease has  10 % chance of having mandatory HOA fees on lease. Therefore, we cannot say that never been late on making payments  is not causing a major non-renewal or renewal.¶\n",
    "### Similiarly, if we take complete population there is 15 % chance of customer non likley to renew lease given mandatory HOA fees on lease.\n",
    "### Therefore, we can say that a customer will likely not renew the lease given mandatory HOA fees on lease. Therefore, we can infer that mandatory HOA fees on lease  is a detractor."
   ]
  },
  {
   "cell_type": "code",
   "execution_count": 774,
   "id": "ec4b341f",
   "metadata": {},
   "outputs": [
    {
     "name": "stdout",
     "output_type": "stream",
     "text": [
      "The 2x2 contigency table is :-\n",
      "Renewed           No    Yes    All\n",
      "HOA_mandatory                     \n",
      "No             52654  14090  66744\n",
      "Yes            11554   1552  13106\n",
      "All            64208  15642  79850\n",
      "\n",
      "\n",
      "The chi squared test stat:- \n",
      "The chi squared stat is = 597.4545295152955\n",
      "The critical Value is = 3.841458820694124\n",
      "The P-value is = 0.0\n",
      "\n",
      "\n",
      "The Fisher test stat:- \n",
      "The P-value for Fisher test is = 2.5166067004741373e-145\n",
      "\n",
      "\n",
      "The G-test stat for goodness of fit:- \n",
      "The P-value for G test is = 2.8162928716221965e-145\n"
     ]
    }
   ],
   "source": [
    "contigency_table_test(df.HOA_mandatory)"
   ]
  },
  {
   "cell_type": "markdown",
   "id": "44098093",
   "metadata": {},
   "source": [
    "### We can see that chi squared stat is higher than critical value  but the p value is less than 0.05\n",
    "\n",
    "### The p value for fisher's test is less than 0.05 therefore we can say that there is significant relationship between the  variable mandatory HOA fees on lease and Lease renewal.\n",
    "\n",
    "### The p value for G test is less than 0.05, therefore we can say that this calculated ratios will not always be true. Therefore, we cannot be certain that a customer who did not renew lease also had mandatory HOA fees on lease."
   ]
  },
  {
   "cell_type": "markdown",
   "id": "3201c7f8",
   "metadata": {},
   "source": [
    "## Analysis of Detractors:-"
   ]
  },
  {
   "cell_type": "markdown",
   "id": "112d45b3",
   "metadata": {},
   "source": [
    "### Given all of the variables will act as detractor (although will not always hold true !!) or not be conducive in renewal process based on given sample of data. We can further check the proportion of the detractor in comparison and how likely some of the detractor will occur as compared to other. This, can significantly help us to take key decision regarding customer behavior."
   ]
  },
  {
   "cell_type": "code",
   "execution_count": 788,
   "id": "0d002ed2",
   "metadata": {},
   "outputs": [
    {
     "data": {
      "text/plain": [
       "<AxesSubplot:xlabel='Variable', ylabel='Population Percenatge'>"
      ]
     },
     "execution_count": 788,
     "metadata": {},
     "output_type": "execute_result"
    },
    {
     "data": {
      "image/png": "[encoded data removed]",
      "text/plain": [
       "<Figure size 2800x500 with 1 Axes>"
      ]
     },
     "metadata": {},
     "output_type": "display_data"
    }
   ],
   "source": [
    "Variable_name= ['no_rent_change', 'rent_change_10', 'rent_change_20',\n",
    "       'lease_length_2', 'lease_length_3', 'lease_length_1',\n",
    "       'age_range_under_24', 'age_range_24_29', 'age_range_30_39',\n",
    "       'age_range_40_49', 'age_range_50_59', 'age_range_60',\n",
    "       'NoFinesViolations', 'PositiveSurvey', 'LatePayments', 'HOA_mandatory']\n",
    "values=[15.54,1.74, 50, 44, 18, 5, 4, 7, 11, 8, 5, 2, 9, 22, 44, 15]\n",
    "df=pd.DataFrame({'Variable': Variable_name,\n",
    "     'Population Percenatge': values\n",
    "    })\n",
    "\n",
    "sns.set(rc={'figure.figsize':(28,5)})\n",
    "sns.barplot(data=df, x=\"Variable\", y=\"Population Percenatge\")"
   ]
  },
  {
   "cell_type": "markdown",
   "id": "97fe1d94",
   "metadata": {},
   "source": [
    "### As, we can see the detractor variable such as :-\n",
    "### lease rent was increased by 20% for the next term\n",
    "### resident’s second term (they’ve renewed once before)\n",
    "### resident has never been late on making payment\n",
    "### the resident provided a positive feedback on the survey   \n",
    "### are traits that are common in more than 25 % of population who did not renew the lease agreement. Therefore, certainly they can be explored further specifically."
   ]
  },
  {
   "cell_type": "markdown",
   "id": "c5f8bcd4",
   "metadata": {},
   "source": [
    "## Analysis of variables causing lease renewal:- "
   ]
  },
  {
   "cell_type": "code",
   "execution_count": 790,
   "id": "e6871acd",
   "metadata": {},
   "outputs": [
    {
     "data": {
      "text/plain": [
       "<AxesSubplot:xlabel='Variable', ylabel='Population Percenatge'>"
      ]
     },
     "execution_count": 790,
     "metadata": {},
     "output_type": "execute_result"
    },
    {
     "data": {
      "image/png": "[encoded data removed]",
      "text/plain": [
       "<Figure size 2800x500 with 1 Axes>"
      ]
     },
     "metadata": {},
     "output_type": "display_data"
    }
   ],
   "source": [
    "Variable_name= ['no_rent_change', 'rent_change_10', 'rent_change_20',\n",
    "       'lease_length_2', 'lease_length_3', 'lease_length_1',\n",
    "       'age_range_under_24', 'age_range_24_29', 'age_range_30_39',\n",
    "       'age_range_40_49', 'age_range_50_59', 'age_range_60',\n",
    "       'NoFinesViolations', 'PositiveSurvey', 'LatePayments', 'HOA_mandatory']\n",
    "values=[6.6, 0.6, 9, 8.5, 6.27, 1.3, 0.36, 2, 4, 2.45, 1, 0.27, 4.5, 5, 12.3, 2]\n",
    "df=pd.DataFrame({'Variable': Variable_name,\n",
    "     'Population Percenatge': values\n",
    "    })\n",
    "\n",
    "sns.set(rc={'figure.figsize':(28,5)})\n",
    "sns.barplot(data=df, x=\"Variable\", y=\"Population Percenatge\")"
   ]
  },
  {
   "cell_type": "markdown",
   "id": "6a006bb2",
   "metadata": {},
   "source": [
    "### If we check the given variable all of the above distribution we can infer that variables:- \n",
    "### lease rent was increased by 20% for the next term\n",
    "### resident’s second term (they’ve renewed once before)\n",
    "### the resident has never been late on making payments\n",
    "### resident’s third term (they’ve renewed twice before)\n",
    "### lease rent was not changed for the next term\n",
    "\n",
    "### are found in more than 4 % of given population who renewed the lease. Therefore, we can asses this variables more."
   ]
  },
  {
   "cell_type": "markdown",
   "id": "e84f45d4",
   "metadata": {},
   "source": [
    "## Using a ML Algorithm to see the common patterns in customer who renwed and not renewed the lease."
   ]
  },
  {
   "cell_type": "markdown",
   "id": "f2a83f6c",
   "metadata": {},
   "source": [
    "### I will be using KModes for creating clusters."
   ]
  },
  {
   "cell_type": "code",
   "execution_count": 805,
   "id": "3d1e1d74",
   "metadata": {},
   "outputs": [
    {
     "data": {
      "text/plain": [
       "Index(['lease_id', 'no_rent_change', 'rent_change_10', 'rent_change_20',\n",
       "       'lease_length_2', 'lease_length_3', 'lease_length_1',\n",
       "       'age_range_under_24', 'age_range_24_29', 'age_range_30_39',\n",
       "       'age_range_40_49', 'age_range_50_59', 'age_range_60',\n",
       "       'NoFinesViolations', 'PositiveSurvey', 'LatePayments', 'HOA_mandatory',\n",
       "       'Renewed'],\n",
       "      dtype='object')"
      ]
     },
     "execution_count": 805,
     "metadata": {},
     "output_type": "execute_result"
    }
   ],
   "source": [
    "df.columns"
   ]
  },
  {
   "cell_type": "code",
   "execution_count": 809,
   "id": "0766f3e9",
   "metadata": {},
   "outputs": [],
   "source": [
    "## splitting the dataset in lease renewal or non renewal\n",
    "\n",
    "df_renew=df[df[\"Renewed\"]=='Yes']\n",
    "df_not_renew=df[df[\"Renewed\"]=='No']\n",
    "\n",
    "df_renew=df_renew.drop(columns=['lease_id', 'Renewed'])\n",
    "df_not_renew=df_not_renew.drop(columns=['lease_id', 'Renewed'])"
   ]
  },
  {
   "cell_type": "code",
   "execution_count": 810,
   "id": "1c3064fb",
   "metadata": {},
   "outputs": [
    {
     "name": "stdout",
     "output_type": "stream",
     "text": [
      "Init: initializing centroids\n",
      "Init: initializing clusters\n",
      "Starting iterations...\n",
      "Run 1, iteration: 1/100, moves: 0, cost: 48393.0\n",
      "Init: initializing centroids\n",
      "Init: initializing clusters\n",
      "Starting iterations...\n",
      "Run 2, iteration: 1/100, moves: 0, cost: 48393.0\n",
      "Init: initializing centroids\n",
      "Init: initializing clusters\n",
      "Starting iterations...\n",
      "Run 3, iteration: 1/100, moves: 0, cost: 48393.0\n",
      "Init: initializing centroids\n",
      "Init: initializing clusters\n",
      "Starting iterations...\n",
      "Run 4, iteration: 1/100, moves: 0, cost: 48393.0\n",
      "Init: initializing centroids\n",
      "Init: initializing clusters\n",
      "Starting iterations...\n",
      "Run 5, iteration: 1/100, moves: 0, cost: 48393.0\n",
      "Best run was number 1\n",
      "Init: initializing centroids\n",
      "Init: initializing clusters\n",
      "Starting iterations...\n",
      "Run 1, iteration: 1/100, moves: 5403, cost: 35635.0\n",
      "Run 1, iteration: 2/100, moves: 1670, cost: 35635.0\n",
      "Init: initializing centroids\n",
      "Init: initializing clusters\n",
      "Starting iterations...\n",
      "Run 2, iteration: 1/100, moves: 4978, cost: 38236.0\n",
      "Run 2, iteration: 2/100, moves: 2337, cost: 35635.0\n",
      "Run 2, iteration: 3/100, moves: 266, cost: 35635.0\n",
      "Init: initializing centroids\n",
      "Init: initializing clusters\n",
      "Starting iterations...\n",
      "Run 3, iteration: 1/100, moves: 5653, cost: 37343.0\n",
      "Init: initializing centroids\n",
      "Init: initializing clusters\n",
      "Starting iterations...\n",
      "Run 4, iteration: 1/100, moves: 3495, cost: 36987.0\n",
      "Run 4, iteration: 2/100, moves: 909, cost: 35635.0\n",
      "Run 4, iteration: 3/100, moves: 566, cost: 35635.0\n",
      "Init: initializing centroids\n",
      "Init: initializing clusters\n",
      "Starting iterations...\n",
      "Run 5, iteration: 1/100, moves: 2509, cost: 35145.0\n",
      "Best run was number 5\n",
      "Init: initializing centroids\n",
      "Init: initializing clusters\n",
      "Starting iterations...\n",
      "Run 1, iteration: 1/100, moves: 2060, cost: 32974.0\n",
      "Init: initializing centroids\n",
      "Init: initializing clusters\n",
      "Starting iterations...\n",
      "Run 2, iteration: 1/100, moves: 3215, cost: 29126.0\n",
      "Run 2, iteration: 2/100, moves: 749, cost: 29126.0\n",
      "Init: initializing centroids\n",
      "Init: initializing clusters\n",
      "Starting iterations...\n",
      "Run 3, iteration: 1/100, moves: 3606, cost: 29126.0\n",
      "Init: initializing centroids\n",
      "Init: initializing clusters\n",
      "Starting iterations...\n",
      "Run 4, iteration: 1/100, moves: 2095, cost: 34581.0\n",
      "Run 4, iteration: 2/100, moves: 205, cost: 34581.0\n",
      "Init: initializing centroids\n",
      "Init: initializing clusters\n",
      "Starting iterations...\n",
      "Run 5, iteration: 1/100, moves: 3799, cost: 29126.0\n",
      "Run 5, iteration: 2/100, moves: 337, cost: 29126.0\n",
      "Best run was number 2\n",
      "Init: initializing centroids\n",
      "Init: initializing clusters\n",
      "Starting iterations...\n",
      "Run 1, iteration: 1/100, moves: 2393, cost: 27750.0\n",
      "Init: initializing centroids\n",
      "Init: initializing clusters\n",
      "Starting iterations...\n",
      "Run 2, iteration: 1/100, moves: 210, cost: 33725.0\n",
      "Init: initializing centroids\n",
      "Init: initializing clusters\n",
      "Starting iterations...\n",
      "Run 3, iteration: 1/100, moves: 1226, cost: 32345.0\n",
      "Init: initializing centroids\n",
      "Init: initializing clusters\n",
      "Starting iterations...\n",
      "Run 4, iteration: 1/100, moves: 4382, cost: 28435.0\n",
      "Run 4, iteration: 2/100, moves: 480, cost: 28435.0\n",
      "Init: initializing centroids\n",
      "Init: initializing clusters\n",
      "Starting iterations...\n",
      "Run 5, iteration: 1/100, moves: 330, cost: 32485.0\n",
      "Best run was number 1\n"
     ]
    },
    {
     "data": {
      "image/png": "[encoded data removed]",
      "text/plain": [
       "<Figure size 400x400 with 1 Axes>"
      ]
     },
     "metadata": {},
     "output_type": "display_data"
    }
   ],
   "source": [
    "# Elbow curve to find optimal K\n",
    "cost = []\n",
    "K = range(1,5)\n",
    "for num_clusters in list(K):\n",
    "    kmode = KModes(n_clusters=num_clusters, init = \"random\", n_init = 5, verbose=1)\n",
    "    kmode.fit_predict(df_renew)\n",
    "    cost.append(kmode.cost_)\n",
    "    \n",
    "plt.plot(K, cost, 'bx-')\n",
    "plt.xlabel('No. of clusters')\n",
    "plt.ylabel('Cost')\n",
    "plt.title('Elbow Method For Optimal k')\n",
    "plt.show()"
   ]
  },
  {
   "cell_type": "code",
   "execution_count": 811,
   "id": "d664eb71",
   "metadata": {},
   "outputs": [
    {
     "name": "stdout",
     "output_type": "stream",
     "text": [
      "Init: initializing centroids\n",
      "Init: initializing clusters\n",
      "Starting iterations...\n",
      "Run 1, iteration: 1/100, moves: 0, cost: 180885.0\n",
      "Init: initializing centroids\n",
      "Init: initializing clusters\n",
      "Starting iterations...\n",
      "Run 2, iteration: 1/100, moves: 0, cost: 180885.0\n",
      "Init: initializing centroids\n",
      "Init: initializing clusters\n",
      "Starting iterations...\n",
      "Run 3, iteration: 1/100, moves: 0, cost: 180885.0\n",
      "Init: initializing centroids\n",
      "Init: initializing clusters\n",
      "Starting iterations...\n",
      "Run 4, iteration: 1/100, moves: 0, cost: 180885.0\n",
      "Init: initializing centroids\n",
      "Init: initializing clusters\n",
      "Starting iterations...\n",
      "Run 5, iteration: 1/100, moves: 0, cost: 180885.0\n",
      "Best run was number 1\n",
      "Init: initializing centroids\n",
      "Init: initializing clusters\n",
      "Starting iterations...\n",
      "Run 1, iteration: 1/100, moves: 7160, cost: 133473.0\n",
      "Run 1, iteration: 2/100, moves: 1718, cost: 133473.0\n",
      "Init: initializing centroids\n",
      "Init: initializing clusters\n",
      "Starting iterations...\n",
      "Run 2, iteration: 1/100, moves: 3259, cost: 163233.0\n",
      "Init: initializing centroids\n",
      "Init: initializing clusters\n",
      "Starting iterations...\n",
      "Run 3, iteration: 1/100, moves: 9235, cost: 133473.0\n",
      "Run 3, iteration: 2/100, moves: 222, cost: 133473.0\n",
      "Init: initializing centroids\n",
      "Init: initializing clusters\n",
      "Starting iterations...\n",
      "Run 4, iteration: 1/100, moves: 0, cost: 138373.0\n",
      "Init: initializing centroids\n",
      "Init: initializing clusters\n",
      "Starting iterations...\n",
      "Run 5, iteration: 1/100, moves: 3421, cost: 138373.0\n",
      "Best run was number 1\n",
      "Init: initializing centroids\n",
      "Init: initializing clusters\n",
      "Starting iterations...\n",
      "Run 1, iteration: 1/100, moves: 0, cost: 169636.0\n",
      "Init: initializing centroids\n",
      "Init: initializing clusters\n",
      "Starting iterations...\n",
      "Run 2, iteration: 1/100, moves: 15636, cost: 119790.0\n",
      "Init: initializing centroids\n",
      "Init: initializing clusters\n",
      "Starting iterations...\n",
      "Run 3, iteration: 1/100, moves: 6226, cost: 119115.0\n",
      "Init: initializing centroids\n",
      "Init: initializing clusters\n",
      "Starting iterations...\n",
      "Run 4, iteration: 1/100, moves: 4456, cost: 161611.0\n",
      "Init: initializing centroids\n",
      "Init: initializing clusters\n",
      "Starting iterations...\n",
      "Run 5, iteration: 1/100, moves: 1079, cost: 132716.0\n",
      "Best run was number 3\n",
      "Init: initializing centroids\n",
      "Init: initializing clusters\n",
      "Starting iterations...\n",
      "Run 1, iteration: 1/100, moves: 17474, cost: 104152.0\n",
      "Run 1, iteration: 2/100, moves: 3, cost: 104152.0\n",
      "Init: initializing centroids\n",
      "Init: initializing clusters\n",
      "Starting iterations...\n",
      "Run 2, iteration: 1/100, moves: 9814, cost: 108369.0\n",
      "Run 2, iteration: 2/100, moves: 13977, cost: 105219.0\n",
      "Run 2, iteration: 3/100, moves: 0, cost: 105219.0\n",
      "Init: initializing centroids\n",
      "Init: initializing clusters\n",
      "Starting iterations...\n",
      "Run 3, iteration: 1/100, moves: 9870, cost: 106526.0\n",
      "Init: initializing centroids\n",
      "Init: initializing clusters\n",
      "Starting iterations...\n",
      "Run 4, iteration: 1/100, moves: 22081, cost: 111354.0\n",
      "Run 4, iteration: 2/100, moves: 12262, cost: 111354.0\n",
      "Init: initializing centroids\n",
      "Init: initializing clusters\n",
      "Starting iterations...\n",
      "Run 5, iteration: 1/100, moves: 32106, cost: 111087.0\n",
      "Run 5, iteration: 2/100, moves: 2774, cost: 111087.0\n",
      "Best run was number 1\n"
     ]
    },
    {
     "data": {
      "image/png": "[encoded data removed]",
      "text/plain": [
       "<Figure size 400x400 with 1 Axes>"
      ]
     },
     "metadata": {},
     "output_type": "display_data"
    }
   ],
   "source": [
    "# Elbow curve to find optimal K\n",
    "cost = []\n",
    "K = range(1,5)\n",
    "for num_clusters in list(K):\n",
    "    kmode = KModes(n_clusters=num_clusters, init = \"random\", n_init = 5, verbose=1)\n",
    "    kmode.fit_predict(df_not_renew)\n",
    "    cost.append(kmode.cost_)\n",
    "    \n",
    "plt.plot(K, cost, 'bx-')\n",
    "plt.xlabel('No. of clusters')\n",
    "plt.ylabel('Cost')\n",
    "plt.title('Elbow Method For Optimal k')\n",
    "plt.show()"
   ]
  },
  {
   "cell_type": "code",
   "execution_count": 812,
   "id": "e2d70324",
   "metadata": {},
   "outputs": [
    {
     "name": "stdout",
     "output_type": "stream",
     "text": [
      "Init: initializing centroids\n",
      "Init: initializing clusters\n",
      "Starting iterations...\n",
      "Run 1, iteration: 1/100, moves: 6410, cost: 31337.0\n",
      "Run 1, iteration: 2/100, moves: 656, cost: 31337.0\n",
      "Init: initializing centroids\n",
      "Init: initializing clusters\n",
      "Starting iterations...\n",
      "Run 2, iteration: 1/100, moves: 4486, cost: 29126.0\n",
      "Init: initializing centroids\n",
      "Init: initializing clusters\n",
      "Starting iterations...\n",
      "Run 3, iteration: 1/100, moves: 3327, cost: 31027.0\n",
      "Run 3, iteration: 2/100, moves: 2294, cost: 29994.0\n",
      "Run 3, iteration: 3/100, moves: 636, cost: 29994.0\n",
      "Init: initializing centroids\n",
      "Init: initializing clusters\n",
      "Starting iterations...\n",
      "Run 4, iteration: 1/100, moves: 1964, cost: 32931.0\n",
      "Run 4, iteration: 2/100, moves: 508, cost: 32931.0\n",
      "Init: initializing centroids\n",
      "Init: initializing clusters\n",
      "Starting iterations...\n",
      "Run 5, iteration: 1/100, moves: 3727, cost: 36453.0\n",
      "Run 5, iteration: 2/100, moves: 1135, cost: 36453.0\n",
      "Best run was number 2\n"
     ]
    },
    {
     "data": {
      "text/html": [
       "<div>\n",
       "<style scoped>\n",
       "    .dataframe tbody tr th:only-of-type {\n",
       "        vertical-align: middle;\n",
       "    }\n",
       "\n",
       "    .dataframe tbody tr th {\n",
       "        vertical-align: top;\n",
       "    }\n",
       "\n",
       "    .dataframe thead th {\n",
       "        text-align: right;\n",
       "    }\n",
       "</style>\n",
       "<table border=\"1\" class=\"dataframe\">\n",
       "  <thead>\n",
       "    <tr style=\"text-align: right;\">\n",
       "      <th></th>\n",
       "      <th>Cluster</th>\n",
       "      <th>no_rent_change</th>\n",
       "      <th>rent_change_10</th>\n",
       "      <th>rent_change_20</th>\n",
       "      <th>lease_length_2</th>\n",
       "      <th>lease_length_3</th>\n",
       "      <th>lease_length_1</th>\n",
       "      <th>age_range_under_24</th>\n",
       "      <th>age_range_24_29</th>\n",
       "      <th>age_range_30_39</th>\n",
       "      <th>age_range_40_49</th>\n",
       "      <th>age_range_50_59</th>\n",
       "      <th>age_range_60</th>\n",
       "      <th>NoFinesViolations</th>\n",
       "      <th>PositiveSurvey</th>\n",
       "      <th>LatePayments</th>\n",
       "      <th>HOA_mandatory</th>\n",
       "    </tr>\n",
       "  </thead>\n",
       "  <tbody>\n",
       "    <tr>\n",
       "      <th>0</th>\n",
       "      <td>2</td>\n",
       "      <td>No</td>\n",
       "      <td>No</td>\n",
       "      <td>No</td>\n",
       "      <td>No</td>\n",
       "      <td>No</td>\n",
       "      <td>No</td>\n",
       "      <td>No</td>\n",
       "      <td>No</td>\n",
       "      <td>No</td>\n",
       "      <td>No</td>\n",
       "      <td>No</td>\n",
       "      <td>No</td>\n",
       "      <td>No</td>\n",
       "      <td>Yes</td>\n",
       "      <td>Yes</td>\n",
       "      <td>No</td>\n",
       "    </tr>\n",
       "    <tr>\n",
       "      <th>30</th>\n",
       "      <td>2</td>\n",
       "      <td>No</td>\n",
       "      <td>No</td>\n",
       "      <td>No</td>\n",
       "      <td>No</td>\n",
       "      <td>No</td>\n",
       "      <td>No</td>\n",
       "      <td>No</td>\n",
       "      <td>No</td>\n",
       "      <td>No</td>\n",
       "      <td>No</td>\n",
       "      <td>No</td>\n",
       "      <td>No</td>\n",
       "      <td>No</td>\n",
       "      <td>Yes</td>\n",
       "      <td>No</td>\n",
       "      <td>Yes</td>\n",
       "    </tr>\n",
       "    <tr>\n",
       "      <th>42</th>\n",
       "      <td>2</td>\n",
       "      <td>No</td>\n",
       "      <td>No</td>\n",
       "      <td>No</td>\n",
       "      <td>No</td>\n",
       "      <td>No</td>\n",
       "      <td>No</td>\n",
       "      <td>No</td>\n",
       "      <td>No</td>\n",
       "      <td>No</td>\n",
       "      <td>No</td>\n",
       "      <td>No</td>\n",
       "      <td>No</td>\n",
       "      <td>No</td>\n",
       "      <td>Yes</td>\n",
       "      <td>No</td>\n",
       "      <td>No</td>\n",
       "    </tr>\n",
       "    <tr>\n",
       "      <th>47</th>\n",
       "      <td>2</td>\n",
       "      <td>No</td>\n",
       "      <td>No</td>\n",
       "      <td>No</td>\n",
       "      <td>No</td>\n",
       "      <td>No</td>\n",
       "      <td>No</td>\n",
       "      <td>No</td>\n",
       "      <td>No</td>\n",
       "      <td>No</td>\n",
       "      <td>No</td>\n",
       "      <td>No</td>\n",
       "      <td>No</td>\n",
       "      <td>Yes</td>\n",
       "      <td>Yes</td>\n",
       "      <td>Yes</td>\n",
       "      <td>No</td>\n",
       "    </tr>\n",
       "    <tr>\n",
       "      <th>61</th>\n",
       "      <td>2</td>\n",
       "      <td>No</td>\n",
       "      <td>No</td>\n",
       "      <td>No</td>\n",
       "      <td>No</td>\n",
       "      <td>No</td>\n",
       "      <td>No</td>\n",
       "      <td>No</td>\n",
       "      <td>No</td>\n",
       "      <td>No</td>\n",
       "      <td>No</td>\n",
       "      <td>No</td>\n",
       "      <td>No</td>\n",
       "      <td>No</td>\n",
       "      <td>Yes</td>\n",
       "      <td>Yes</td>\n",
       "      <td>No</td>\n",
       "    </tr>\n",
       "    <tr>\n",
       "      <th>...</th>\n",
       "      <td>...</td>\n",
       "      <td>...</td>\n",
       "      <td>...</td>\n",
       "      <td>...</td>\n",
       "      <td>...</td>\n",
       "      <td>...</td>\n",
       "      <td>...</td>\n",
       "      <td>...</td>\n",
       "      <td>...</td>\n",
       "      <td>...</td>\n",
       "      <td>...</td>\n",
       "      <td>...</td>\n",
       "      <td>...</td>\n",
       "      <td>...</td>\n",
       "      <td>...</td>\n",
       "      <td>...</td>\n",
       "      <td>...</td>\n",
       "    </tr>\n",
       "    <tr>\n",
       "      <th>79785</th>\n",
       "      <td>1</td>\n",
       "      <td>No</td>\n",
       "      <td>No</td>\n",
       "      <td>Yes</td>\n",
       "      <td>No</td>\n",
       "      <td>No</td>\n",
       "      <td>Yes</td>\n",
       "      <td>No</td>\n",
       "      <td>Yes</td>\n",
       "      <td>No</td>\n",
       "      <td>No</td>\n",
       "      <td>No</td>\n",
       "      <td>No</td>\n",
       "      <td>No</td>\n",
       "      <td>No</td>\n",
       "      <td>No</td>\n",
       "      <td>No</td>\n",
       "    </tr>\n",
       "    <tr>\n",
       "      <th>79791</th>\n",
       "      <td>1</td>\n",
       "      <td>No</td>\n",
       "      <td>No</td>\n",
       "      <td>Yes</td>\n",
       "      <td>No</td>\n",
       "      <td>No</td>\n",
       "      <td>Yes</td>\n",
       "      <td>No</td>\n",
       "      <td>No</td>\n",
       "      <td>No</td>\n",
       "      <td>No</td>\n",
       "      <td>Yes</td>\n",
       "      <td>No</td>\n",
       "      <td>Yes</td>\n",
       "      <td>No</td>\n",
       "      <td>Yes</td>\n",
       "      <td>No</td>\n",
       "    </tr>\n",
       "    <tr>\n",
       "      <th>79813</th>\n",
       "      <td>0</td>\n",
       "      <td>No</td>\n",
       "      <td>No</td>\n",
       "      <td>Yes</td>\n",
       "      <td>Yes</td>\n",
       "      <td>No</td>\n",
       "      <td>No</td>\n",
       "      <td>No</td>\n",
       "      <td>No</td>\n",
       "      <td>Yes</td>\n",
       "      <td>No</td>\n",
       "      <td>No</td>\n",
       "      <td>No</td>\n",
       "      <td>No</td>\n",
       "      <td>Yes</td>\n",
       "      <td>Yes</td>\n",
       "      <td>No</td>\n",
       "    </tr>\n",
       "    <tr>\n",
       "      <th>79841</th>\n",
       "      <td>0</td>\n",
       "      <td>No</td>\n",
       "      <td>Yes</td>\n",
       "      <td>No</td>\n",
       "      <td>Yes</td>\n",
       "      <td>No</td>\n",
       "      <td>No</td>\n",
       "      <td>No</td>\n",
       "      <td>No</td>\n",
       "      <td>Yes</td>\n",
       "      <td>No</td>\n",
       "      <td>No</td>\n",
       "      <td>No</td>\n",
       "      <td>No</td>\n",
       "      <td>No</td>\n",
       "      <td>Yes</td>\n",
       "      <td>No</td>\n",
       "    </tr>\n",
       "    <tr>\n",
       "      <th>79848</th>\n",
       "      <td>1</td>\n",
       "      <td>No</td>\n",
       "      <td>No</td>\n",
       "      <td>Yes</td>\n",
       "      <td>No</td>\n",
       "      <td>No</td>\n",
       "      <td>Yes</td>\n",
       "      <td>No</td>\n",
       "      <td>No</td>\n",
       "      <td>Yes</td>\n",
       "      <td>No</td>\n",
       "      <td>No</td>\n",
       "      <td>No</td>\n",
       "      <td>Yes</td>\n",
       "      <td>No</td>\n",
       "      <td>Yes</td>\n",
       "      <td>No</td>\n",
       "    </tr>\n",
       "  </tbody>\n",
       "</table>\n",
       "<p>15642 rows × 17 columns</p>\n",
       "</div>"
      ],
      "text/plain": [
       "       Cluster no_rent_change rent_change_10 rent_change_20 lease_length_2  \\\n",
       "0            2             No             No             No             No   \n",
       "30           2             No             No             No             No   \n",
       "42           2             No             No             No             No   \n",
       "47           2             No             No             No             No   \n",
       "61           2             No             No             No             No   \n",
       "...        ...            ...            ...            ...            ...   \n",
       "79785        1             No             No            Yes             No   \n",
       "79791        1             No             No            Yes             No   \n",
       "79813        0             No             No            Yes            Yes   \n",
       "79841        0             No            Yes             No            Yes   \n",
       "79848        1             No             No            Yes             No   \n",
       "\n",
       "      lease_length_3 lease_length_1 age_range_under_24 age_range_24_29  \\\n",
       "0                 No             No                 No              No   \n",
       "30                No             No                 No              No   \n",
       "42                No             No                 No              No   \n",
       "47                No             No                 No              No   \n",
       "61                No             No                 No              No   \n",
       "...              ...            ...                ...             ...   \n",
       "79785             No            Yes                 No             Yes   \n",
       "79791             No            Yes                 No              No   \n",
       "79813             No             No                 No              No   \n",
       "79841             No             No                 No              No   \n",
       "79848             No            Yes                 No              No   \n",
       "\n",
       "      age_range_30_39 age_range_40_49 age_range_50_59 age_range_60  \\\n",
       "0                  No              No              No           No   \n",
       "30                 No              No              No           No   \n",
       "42                 No              No              No           No   \n",
       "47                 No              No              No           No   \n",
       "61                 No              No              No           No   \n",
       "...               ...             ...             ...          ...   \n",
       "79785              No              No              No           No   \n",
       "79791              No              No             Yes           No   \n",
       "79813             Yes              No              No           No   \n",
       "79841             Yes              No              No           No   \n",
       "79848             Yes              No              No           No   \n",
       "\n",
       "      NoFinesViolations PositiveSurvey LatePayments HOA_mandatory  \n",
       "0                    No            Yes          Yes            No  \n",
       "30                   No            Yes           No           Yes  \n",
       "42                   No            Yes           No            No  \n",
       "47                  Yes            Yes          Yes            No  \n",
       "61                   No            Yes          Yes            No  \n",
       "...                 ...            ...          ...           ...  \n",
       "79785                No             No           No            No  \n",
       "79791               Yes             No          Yes            No  \n",
       "79813                No            Yes          Yes            No  \n",
       "79841                No             No          Yes            No  \n",
       "79848               Yes             No          Yes            No  \n",
       "\n",
       "[15642 rows x 17 columns]"
      ]
     },
     "execution_count": 812,
     "metadata": {},
     "output_type": "execute_result"
    }
   ],
   "source": [
    "# Building the model with 3 clusters\n",
    "kmode = KModes(n_clusters=3, init = \"random\", n_init = 5, verbose=1)\n",
    "clusters = kmode.fit_predict(df_renew)\n",
    "clusters\n",
    "# Finally, insert the predicted cluster values in our original dataset.\n",
    "\n",
    "df_renew.insert(0, \"Cluster\", clusters, True)\n",
    "df_renew"
   ]
  },
  {
   "cell_type": "code",
   "execution_count": 813,
   "id": "9450da0a",
   "metadata": {},
   "outputs": [
    {
     "name": "stdout",
     "output_type": "stream",
     "text": [
      "Init: initializing centroids\n",
      "Init: initializing clusters\n",
      "Starting iterations...\n",
      "Run 1, iteration: 1/100, moves: 1904, cost: 173437.0\n",
      "Init: initializing centroids\n",
      "Init: initializing clusters\n",
      "Starting iterations...\n",
      "Run 2, iteration: 1/100, moves: 3091, cost: 163233.0\n",
      "Init: initializing centroids\n",
      "Init: initializing clusters\n",
      "Starting iterations...\n",
      "Run 3, iteration: 1/100, moves: 25818, cost: 138373.0\n",
      "Run 3, iteration: 2/100, moves: 6762, cost: 138373.0\n",
      "Init: initializing centroids\n",
      "Init: initializing clusters\n",
      "Starting iterations...\n",
      "Run 4, iteration: 1/100, moves: 12386, cost: 163233.0\n",
      "Init: initializing centroids\n",
      "Init: initializing clusters\n",
      "Starting iterations...\n",
      "Run 5, iteration: 1/100, moves: 4707, cost: 169277.0\n",
      "Best run was number 3\n"
     ]
    },
    {
     "data": {
      "text/html": [
       "<div>\n",
       "<style scoped>\n",
       "    .dataframe tbody tr th:only-of-type {\n",
       "        vertical-align: middle;\n",
       "    }\n",
       "\n",
       "    .dataframe tbody tr th {\n",
       "        vertical-align: top;\n",
       "    }\n",
       "\n",
       "    .dataframe thead th {\n",
       "        text-align: right;\n",
       "    }\n",
       "</style>\n",
       "<table border=\"1\" class=\"dataframe\">\n",
       "  <thead>\n",
       "    <tr style=\"text-align: right;\">\n",
       "      <th></th>\n",
       "      <th>Cluster</th>\n",
       "      <th>no_rent_change</th>\n",
       "      <th>rent_change_10</th>\n",
       "      <th>rent_change_20</th>\n",
       "      <th>lease_length_2</th>\n",
       "      <th>lease_length_3</th>\n",
       "      <th>lease_length_1</th>\n",
       "      <th>age_range_under_24</th>\n",
       "      <th>age_range_24_29</th>\n",
       "      <th>age_range_30_39</th>\n",
       "      <th>age_range_40_49</th>\n",
       "      <th>age_range_50_59</th>\n",
       "      <th>age_range_60</th>\n",
       "      <th>NoFinesViolations</th>\n",
       "      <th>PositiveSurvey</th>\n",
       "      <th>LatePayments</th>\n",
       "      <th>HOA_mandatory</th>\n",
       "    </tr>\n",
       "  </thead>\n",
       "  <tbody>\n",
       "    <tr>\n",
       "      <th>1</th>\n",
       "      <td>1</td>\n",
       "      <td>No</td>\n",
       "      <td>No</td>\n",
       "      <td>No</td>\n",
       "      <td>No</td>\n",
       "      <td>No</td>\n",
       "      <td>No</td>\n",
       "      <td>No</td>\n",
       "      <td>No</td>\n",
       "      <td>No</td>\n",
       "      <td>No</td>\n",
       "      <td>No</td>\n",
       "      <td>No</td>\n",
       "      <td>No</td>\n",
       "      <td>No</td>\n",
       "      <td>No</td>\n",
       "      <td>No</td>\n",
       "    </tr>\n",
       "    <tr>\n",
       "      <th>2</th>\n",
       "      <td>1</td>\n",
       "      <td>No</td>\n",
       "      <td>No</td>\n",
       "      <td>No</td>\n",
       "      <td>No</td>\n",
       "      <td>No</td>\n",
       "      <td>No</td>\n",
       "      <td>No</td>\n",
       "      <td>No</td>\n",
       "      <td>No</td>\n",
       "      <td>No</td>\n",
       "      <td>No</td>\n",
       "      <td>No</td>\n",
       "      <td>No</td>\n",
       "      <td>Yes</td>\n",
       "      <td>No</td>\n",
       "      <td>No</td>\n",
       "    </tr>\n",
       "    <tr>\n",
       "      <th>3</th>\n",
       "      <td>1</td>\n",
       "      <td>No</td>\n",
       "      <td>No</td>\n",
       "      <td>No</td>\n",
       "      <td>No</td>\n",
       "      <td>No</td>\n",
       "      <td>No</td>\n",
       "      <td>No</td>\n",
       "      <td>No</td>\n",
       "      <td>No</td>\n",
       "      <td>No</td>\n",
       "      <td>No</td>\n",
       "      <td>No</td>\n",
       "      <td>No</td>\n",
       "      <td>Yes</td>\n",
       "      <td>Yes</td>\n",
       "      <td>No</td>\n",
       "    </tr>\n",
       "    <tr>\n",
       "      <th>4</th>\n",
       "      <td>1</td>\n",
       "      <td>No</td>\n",
       "      <td>No</td>\n",
       "      <td>No</td>\n",
       "      <td>No</td>\n",
       "      <td>No</td>\n",
       "      <td>No</td>\n",
       "      <td>No</td>\n",
       "      <td>No</td>\n",
       "      <td>No</td>\n",
       "      <td>No</td>\n",
       "      <td>No</td>\n",
       "      <td>No</td>\n",
       "      <td>No</td>\n",
       "      <td>No</td>\n",
       "      <td>No</td>\n",
       "      <td>No</td>\n",
       "    </tr>\n",
       "    <tr>\n",
       "      <th>5</th>\n",
       "      <td>1</td>\n",
       "      <td>No</td>\n",
       "      <td>No</td>\n",
       "      <td>No</td>\n",
       "      <td>No</td>\n",
       "      <td>No</td>\n",
       "      <td>No</td>\n",
       "      <td>No</td>\n",
       "      <td>No</td>\n",
       "      <td>No</td>\n",
       "      <td>No</td>\n",
       "      <td>No</td>\n",
       "      <td>No</td>\n",
       "      <td>No</td>\n",
       "      <td>No</td>\n",
       "      <td>No</td>\n",
       "      <td>No</td>\n",
       "    </tr>\n",
       "    <tr>\n",
       "      <th>...</th>\n",
       "      <td>...</td>\n",
       "      <td>...</td>\n",
       "      <td>...</td>\n",
       "      <td>...</td>\n",
       "      <td>...</td>\n",
       "      <td>...</td>\n",
       "      <td>...</td>\n",
       "      <td>...</td>\n",
       "      <td>...</td>\n",
       "      <td>...</td>\n",
       "      <td>...</td>\n",
       "      <td>...</td>\n",
       "      <td>...</td>\n",
       "      <td>...</td>\n",
       "      <td>...</td>\n",
       "      <td>...</td>\n",
       "      <td>...</td>\n",
       "    </tr>\n",
       "    <tr>\n",
       "      <th>79844</th>\n",
       "      <td>1</td>\n",
       "      <td>Yes</td>\n",
       "      <td>No</td>\n",
       "      <td>No</td>\n",
       "      <td>Yes</td>\n",
       "      <td>No</td>\n",
       "      <td>No</td>\n",
       "      <td>No</td>\n",
       "      <td>No</td>\n",
       "      <td>Yes</td>\n",
       "      <td>No</td>\n",
       "      <td>No</td>\n",
       "      <td>No</td>\n",
       "      <td>Yes</td>\n",
       "      <td>No</td>\n",
       "      <td>Yes</td>\n",
       "      <td>No</td>\n",
       "    </tr>\n",
       "    <tr>\n",
       "      <th>79845</th>\n",
       "      <td>0</td>\n",
       "      <td>No</td>\n",
       "      <td>No</td>\n",
       "      <td>Yes</td>\n",
       "      <td>No</td>\n",
       "      <td>No</td>\n",
       "      <td>Yes</td>\n",
       "      <td>No</td>\n",
       "      <td>No</td>\n",
       "      <td>No</td>\n",
       "      <td>Yes</td>\n",
       "      <td>No</td>\n",
       "      <td>No</td>\n",
       "      <td>No</td>\n",
       "      <td>No</td>\n",
       "      <td>Yes</td>\n",
       "      <td>No</td>\n",
       "    </tr>\n",
       "    <tr>\n",
       "      <th>79846</th>\n",
       "      <td>0</td>\n",
       "      <td>No</td>\n",
       "      <td>No</td>\n",
       "      <td>Yes</td>\n",
       "      <td>No</td>\n",
       "      <td>No</td>\n",
       "      <td>Yes</td>\n",
       "      <td>No</td>\n",
       "      <td>Yes</td>\n",
       "      <td>No</td>\n",
       "      <td>No</td>\n",
       "      <td>No</td>\n",
       "      <td>No</td>\n",
       "      <td>No</td>\n",
       "      <td>Yes</td>\n",
       "      <td>Yes</td>\n",
       "      <td>Yes</td>\n",
       "    </tr>\n",
       "    <tr>\n",
       "      <th>79847</th>\n",
       "      <td>0</td>\n",
       "      <td>No</td>\n",
       "      <td>No</td>\n",
       "      <td>Yes</td>\n",
       "      <td>No</td>\n",
       "      <td>No</td>\n",
       "      <td>Yes</td>\n",
       "      <td>No</td>\n",
       "      <td>Yes</td>\n",
       "      <td>No</td>\n",
       "      <td>No</td>\n",
       "      <td>No</td>\n",
       "      <td>No</td>\n",
       "      <td>No</td>\n",
       "      <td>No</td>\n",
       "      <td>Yes</td>\n",
       "      <td>Yes</td>\n",
       "    </tr>\n",
       "    <tr>\n",
       "      <th>79849</th>\n",
       "      <td>0</td>\n",
       "      <td>No</td>\n",
       "      <td>No</td>\n",
       "      <td>Yes</td>\n",
       "      <td>No</td>\n",
       "      <td>No</td>\n",
       "      <td>Yes</td>\n",
       "      <td>No</td>\n",
       "      <td>No</td>\n",
       "      <td>Yes</td>\n",
       "      <td>No</td>\n",
       "      <td>No</td>\n",
       "      <td>No</td>\n",
       "      <td>No</td>\n",
       "      <td>No</td>\n",
       "      <td>No</td>\n",
       "      <td>No</td>\n",
       "    </tr>\n",
       "  </tbody>\n",
       "</table>\n",
       "<p>64208 rows × 17 columns</p>\n",
       "</div>"
      ],
      "text/plain": [
       "       Cluster no_rent_change rent_change_10 rent_change_20 lease_length_2  \\\n",
       "1            1             No             No             No             No   \n",
       "2            1             No             No             No             No   \n",
       "3            1             No             No             No             No   \n",
       "4            1             No             No             No             No   \n",
       "5            1             No             No             No             No   \n",
       "...        ...            ...            ...            ...            ...   \n",
       "79844        1            Yes             No             No            Yes   \n",
       "79845        0             No             No            Yes             No   \n",
       "79846        0             No             No            Yes             No   \n",
       "79847        0             No             No            Yes             No   \n",
       "79849        0             No             No            Yes             No   \n",
       "\n",
       "      lease_length_3 lease_length_1 age_range_under_24 age_range_24_29  \\\n",
       "1                 No             No                 No              No   \n",
       "2                 No             No                 No              No   \n",
       "3                 No             No                 No              No   \n",
       "4                 No             No                 No              No   \n",
       "5                 No             No                 No              No   \n",
       "...              ...            ...                ...             ...   \n",
       "79844             No             No                 No              No   \n",
       "79845             No            Yes                 No              No   \n",
       "79846             No            Yes                 No             Yes   \n",
       "79847             No            Yes                 No             Yes   \n",
       "79849             No            Yes                 No              No   \n",
       "\n",
       "      age_range_30_39 age_range_40_49 age_range_50_59 age_range_60  \\\n",
       "1                  No              No              No           No   \n",
       "2                  No              No              No           No   \n",
       "3                  No              No              No           No   \n",
       "4                  No              No              No           No   \n",
       "5                  No              No              No           No   \n",
       "...               ...             ...             ...          ...   \n",
       "79844             Yes              No              No           No   \n",
       "79845              No             Yes              No           No   \n",
       "79846              No              No              No           No   \n",
       "79847              No              No              No           No   \n",
       "79849             Yes              No              No           No   \n",
       "\n",
       "      NoFinesViolations PositiveSurvey LatePayments HOA_mandatory  \n",
       "1                    No             No           No            No  \n",
       "2                    No            Yes           No            No  \n",
       "3                    No            Yes          Yes            No  \n",
       "4                    No             No           No            No  \n",
       "5                    No             No           No            No  \n",
       "...                 ...            ...          ...           ...  \n",
       "79844               Yes             No          Yes            No  \n",
       "79845                No             No          Yes            No  \n",
       "79846                No            Yes          Yes           Yes  \n",
       "79847                No             No          Yes           Yes  \n",
       "79849                No             No           No            No  \n",
       "\n",
       "[64208 rows x 17 columns]"
      ]
     },
     "execution_count": 813,
     "metadata": {},
     "output_type": "execute_result"
    }
   ],
   "source": [
    "# Building the model with 3 clusters\n",
    "kmode = KModes(n_clusters=2, init = \"random\", n_init = 5, verbose=1)\n",
    "clusters = kmode.fit_predict(df_not_renew)\n",
    "clusters\n",
    "# Finally, insert the predicted cluster values in our original dataset.\n",
    "\n",
    "df_not_renew.insert(0, \"Cluster\", clusters, True)\n",
    "df_not_renew"
   ]
  },
  {
   "cell_type": "code",
   "execution_count": 827,
   "id": "95909185",
   "metadata": {},
   "outputs": [],
   "source": [
    "df_renew_0=df_renew[df_renew['Cluster']==0]\n",
    "df_renew_0=df_renew_0.drop(columns=['Cluster'])\n",
    "\n",
    "df_renew_1=df_renew[df_renew['Cluster']==1]\n",
    "df_renew_1=df_renew_1.drop(columns=['Cluster'])\n",
    "\n",
    "df_renew_2=df_renew[df_renew['Cluster']==2]\n",
    "df_renew_2=df_renew_2.drop(columns=['Cluster'])\n",
    "\n",
    "df_not_renew_0=df_not_renew[df_not_renew['Cluster']==0]\n",
    "df_not_renew_0=df_not_renew_0.drop(columns=['Cluster'])\n",
    "\n",
    "df_not_renew_1=df_not_renew[df_not_renew['Cluster']==1]\n",
    "df_not_renew_1=df_not_renew_1.drop(columns=['Cluster'])"
   ]
  },
  {
   "cell_type": "code",
   "execution_count": 836,
   "id": "e130e419",
   "metadata": {},
   "outputs": [],
   "source": [
    "## checking the cluster properties\n",
    "df_list=[df_renew_0, df_renew_1, df_renew_2, df_not_renew_0, df_not_renew_0]\n",
    "value=[]\n",
    "for i in df_list:\n",
    "    yes_percent=[]\n",
    "    no_percent=[]\n",
    "    for j in i.columns:\n",
    "#         print(j)\n",
    "        total_count=len(i)\n",
    "        yes_count=len(i[i[j]=='Yes'])\n",
    "        no_count=len(i[i[j]=='No'])\n",
    "        yes_percentage=round(yes_count/total_count,2)*100\n",
    "        no_percentage=round(no_count/total_count,2)*100\n",
    "        yes_percent.append(yes_percentage)\n",
    "        no_percent.append(no_percentage)\n",
    "    value.append(yes_percent)\n",
    "    value.append(no_percent)\n",
    "#     print(\"_______\")"
   ]
  },
  {
   "cell_type": "code",
   "execution_count": 839,
   "id": "352c8a79",
   "metadata": {},
   "outputs": [
    {
     "data": {
      "text/html": [
       "<div>\n",
       "<style scoped>\n",
       "    .dataframe tbody tr th:only-of-type {\n",
       "        vertical-align: middle;\n",
       "    }\n",
       "\n",
       "    .dataframe tbody tr th {\n",
       "        vertical-align: top;\n",
       "    }\n",
       "\n",
       "    .dataframe thead th {\n",
       "        text-align: right;\n",
       "    }\n",
       "</style>\n",
       "<table border=\"1\" class=\"dataframe\">\n",
       "  <thead>\n",
       "    <tr style=\"text-align: right;\">\n",
       "      <th></th>\n",
       "      <th>Feature</th>\n",
       "      <th>Yes %</th>\n",
       "      <th>No %</th>\n",
       "    </tr>\n",
       "  </thead>\n",
       "  <tbody>\n",
       "    <tr>\n",
       "      <th>0</th>\n",
       "      <td>no_rent_change</td>\n",
       "      <td>79.0</td>\n",
       "      <td>21.0</td>\n",
       "    </tr>\n",
       "    <tr>\n",
       "      <th>1</th>\n",
       "      <td>rent_change_10</td>\n",
       "      <td>3.0</td>\n",
       "      <td>97.0</td>\n",
       "    </tr>\n",
       "    <tr>\n",
       "      <th>2</th>\n",
       "      <td>rent_change_20</td>\n",
       "      <td>18.0</td>\n",
       "      <td>82.0</td>\n",
       "    </tr>\n",
       "    <tr>\n",
       "      <th>3</th>\n",
       "      <td>lease_length_2</td>\n",
       "      <td>72.0</td>\n",
       "      <td>28.0</td>\n",
       "    </tr>\n",
       "    <tr>\n",
       "      <th>4</th>\n",
       "      <td>lease_length_3</td>\n",
       "      <td>10.0</td>\n",
       "      <td>90.0</td>\n",
       "    </tr>\n",
       "    <tr>\n",
       "      <th>5</th>\n",
       "      <td>lease_length_1</td>\n",
       "      <td>18.0</td>\n",
       "      <td>82.0</td>\n",
       "    </tr>\n",
       "    <tr>\n",
       "      <th>6</th>\n",
       "      <td>age_range_under_24</td>\n",
       "      <td>1.0</td>\n",
       "      <td>99.0</td>\n",
       "    </tr>\n",
       "    <tr>\n",
       "      <th>7</th>\n",
       "      <td>age_range_24_29</td>\n",
       "      <td>10.0</td>\n",
       "      <td>90.0</td>\n",
       "    </tr>\n",
       "    <tr>\n",
       "      <th>8</th>\n",
       "      <td>age_range_30_39</td>\n",
       "      <td>25.0</td>\n",
       "      <td>75.0</td>\n",
       "    </tr>\n",
       "    <tr>\n",
       "      <th>9</th>\n",
       "      <td>age_range_40_49</td>\n",
       "      <td>17.0</td>\n",
       "      <td>83.0</td>\n",
       "    </tr>\n",
       "    <tr>\n",
       "      <th>10</th>\n",
       "      <td>age_range_50_59</td>\n",
       "      <td>7.0</td>\n",
       "      <td>93.0</td>\n",
       "    </tr>\n",
       "    <tr>\n",
       "      <th>11</th>\n",
       "      <td>age_range_60</td>\n",
       "      <td>2.0</td>\n",
       "      <td>98.0</td>\n",
       "    </tr>\n",
       "    <tr>\n",
       "      <th>12</th>\n",
       "      <td>NoFinesViolations</td>\n",
       "      <td>22.0</td>\n",
       "      <td>78.0</td>\n",
       "    </tr>\n",
       "    <tr>\n",
       "      <th>13</th>\n",
       "      <td>PositiveSurvey</td>\n",
       "      <td>22.0</td>\n",
       "      <td>78.0</td>\n",
       "    </tr>\n",
       "    <tr>\n",
       "      <th>14</th>\n",
       "      <td>LatePayments</td>\n",
       "      <td>94.0</td>\n",
       "      <td>6.0</td>\n",
       "    </tr>\n",
       "    <tr>\n",
       "      <th>15</th>\n",
       "      <td>HOA_mandatory</td>\n",
       "      <td>6.0</td>\n",
       "      <td>94.0</td>\n",
       "    </tr>\n",
       "  </tbody>\n",
       "</table>\n",
       "</div>"
      ],
      "text/plain": [
       "               Feature  Yes %  No %\n",
       "0       no_rent_change   79.0  21.0\n",
       "1       rent_change_10    3.0  97.0\n",
       "2       rent_change_20   18.0  82.0\n",
       "3       lease_length_2   72.0  28.0\n",
       "4       lease_length_3   10.0  90.0\n",
       "5       lease_length_1   18.0  82.0\n",
       "6   age_range_under_24    1.0  99.0\n",
       "7      age_range_24_29   10.0  90.0\n",
       "8      age_range_30_39   25.0  75.0\n",
       "9      age_range_40_49   17.0  83.0\n",
       "10     age_range_50_59    7.0  93.0\n",
       "11        age_range_60    2.0  98.0\n",
       "12   NoFinesViolations   22.0  78.0\n",
       "13      PositiveSurvey   22.0  78.0\n",
       "14        LatePayments   94.0   6.0\n",
       "15       HOA_mandatory    6.0  94.0"
      ]
     },
     "execution_count": 839,
     "metadata": {},
     "output_type": "execute_result"
    }
   ],
   "source": [
    "df_renew_0_stat=pd.DataFrame({'Feature':list(df_renew_0.columns),\n",
    "    'Yes %': value[0],\n",
    "     'No %': value[1]\n",
    "    })\n",
    "df_renew_0_stat"
   ]
  },
  {
   "cell_type": "code",
   "execution_count": 840,
   "id": "c12ba54e",
   "metadata": {},
   "outputs": [
    {
     "data": {
      "text/html": [
       "<div>\n",
       "<style scoped>\n",
       "    .dataframe tbody tr th:only-of-type {\n",
       "        vertical-align: middle;\n",
       "    }\n",
       "\n",
       "    .dataframe tbody tr th {\n",
       "        vertical-align: top;\n",
       "    }\n",
       "\n",
       "    .dataframe thead th {\n",
       "        text-align: right;\n",
       "    }\n",
       "</style>\n",
       "<table border=\"1\" class=\"dataframe\">\n",
       "  <thead>\n",
       "    <tr style=\"text-align: right;\">\n",
       "      <th></th>\n",
       "      <th>Feature</th>\n",
       "      <th>Yes %</th>\n",
       "      <th>No %</th>\n",
       "    </tr>\n",
       "  </thead>\n",
       "  <tbody>\n",
       "    <tr>\n",
       "      <th>0</th>\n",
       "      <td>no_rent_change</td>\n",
       "      <td>0.0</td>\n",
       "      <td>100.0</td>\n",
       "    </tr>\n",
       "    <tr>\n",
       "      <th>1</th>\n",
       "      <td>rent_change_10</td>\n",
       "      <td>0.0</td>\n",
       "      <td>100.0</td>\n",
       "    </tr>\n",
       "    <tr>\n",
       "      <th>2</th>\n",
       "      <td>rent_change_20</td>\n",
       "      <td>99.0</td>\n",
       "      <td>1.0</td>\n",
       "    </tr>\n",
       "    <tr>\n",
       "      <th>3</th>\n",
       "      <td>lease_length_2</td>\n",
       "      <td>0.0</td>\n",
       "      <td>100.0</td>\n",
       "    </tr>\n",
       "    <tr>\n",
       "      <th>4</th>\n",
       "      <td>lease_length_3</td>\n",
       "      <td>1.0</td>\n",
       "      <td>99.0</td>\n",
       "    </tr>\n",
       "    <tr>\n",
       "      <th>5</th>\n",
       "      <td>lease_length_1</td>\n",
       "      <td>98.0</td>\n",
       "      <td>2.0</td>\n",
       "    </tr>\n",
       "    <tr>\n",
       "      <th>6</th>\n",
       "      <td>age_range_under_24</td>\n",
       "      <td>3.0</td>\n",
       "      <td>97.0</td>\n",
       "    </tr>\n",
       "    <tr>\n",
       "      <th>7</th>\n",
       "      <td>age_range_24_29</td>\n",
       "      <td>14.0</td>\n",
       "      <td>86.0</td>\n",
       "    </tr>\n",
       "    <tr>\n",
       "      <th>8</th>\n",
       "      <td>age_range_30_39</td>\n",
       "      <td>22.0</td>\n",
       "      <td>78.0</td>\n",
       "    </tr>\n",
       "    <tr>\n",
       "      <th>9</th>\n",
       "      <td>age_range_40_49</td>\n",
       "      <td>13.0</td>\n",
       "      <td>87.0</td>\n",
       "    </tr>\n",
       "    <tr>\n",
       "      <th>10</th>\n",
       "      <td>age_range_50_59</td>\n",
       "      <td>6.0</td>\n",
       "      <td>94.0</td>\n",
       "    </tr>\n",
       "    <tr>\n",
       "      <th>11</th>\n",
       "      <td>age_range_60</td>\n",
       "      <td>1.0</td>\n",
       "      <td>99.0</td>\n",
       "    </tr>\n",
       "    <tr>\n",
       "      <th>12</th>\n",
       "      <td>NoFinesViolations</td>\n",
       "      <td>32.0</td>\n",
       "      <td>68.0</td>\n",
       "    </tr>\n",
       "    <tr>\n",
       "      <th>13</th>\n",
       "      <td>PositiveSurvey</td>\n",
       "      <td>36.0</td>\n",
       "      <td>64.0</td>\n",
       "    </tr>\n",
       "    <tr>\n",
       "      <th>14</th>\n",
       "      <td>LatePayments</td>\n",
       "      <td>57.0</td>\n",
       "      <td>43.0</td>\n",
       "    </tr>\n",
       "    <tr>\n",
       "      <th>15</th>\n",
       "      <td>HOA_mandatory</td>\n",
       "      <td>18.0</td>\n",
       "      <td>82.0</td>\n",
       "    </tr>\n",
       "  </tbody>\n",
       "</table>\n",
       "</div>"
      ],
      "text/plain": [
       "               Feature  Yes %   No %\n",
       "0       no_rent_change    0.0  100.0\n",
       "1       rent_change_10    0.0  100.0\n",
       "2       rent_change_20   99.0    1.0\n",
       "3       lease_length_2    0.0  100.0\n",
       "4       lease_length_3    1.0   99.0\n",
       "5       lease_length_1   98.0    2.0\n",
       "6   age_range_under_24    3.0   97.0\n",
       "7      age_range_24_29   14.0   86.0\n",
       "8      age_range_30_39   22.0   78.0\n",
       "9      age_range_40_49   13.0   87.0\n",
       "10     age_range_50_59    6.0   94.0\n",
       "11        age_range_60    1.0   99.0\n",
       "12   NoFinesViolations   32.0   68.0\n",
       "13      PositiveSurvey   36.0   64.0\n",
       "14        LatePayments   57.0   43.0\n",
       "15       HOA_mandatory   18.0   82.0"
      ]
     },
     "execution_count": 840,
     "metadata": {},
     "output_type": "execute_result"
    }
   ],
   "source": [
    "df_renew_1_stat=pd.DataFrame({'Feature':list(df_renew_1.columns),\n",
    "    'Yes %': value[2],\n",
    "     'No %': value[3]\n",
    "    })\n",
    "df_renew_1_stat"
   ]
  },
  {
   "cell_type": "code",
   "execution_count": 841,
   "id": "2bf840e5",
   "metadata": {},
   "outputs": [
    {
     "data": {
      "text/html": [
       "<div>\n",
       "<style scoped>\n",
       "    .dataframe tbody tr th:only-of-type {\n",
       "        vertical-align: middle;\n",
       "    }\n",
       "\n",
       "    .dataframe tbody tr th {\n",
       "        vertical-align: top;\n",
       "    }\n",
       "\n",
       "    .dataframe thead th {\n",
       "        text-align: right;\n",
       "    }\n",
       "</style>\n",
       "<table border=\"1\" class=\"dataframe\">\n",
       "  <thead>\n",
       "    <tr style=\"text-align: right;\">\n",
       "      <th></th>\n",
       "      <th>Feature</th>\n",
       "      <th>Yes %</th>\n",
       "      <th>No %</th>\n",
       "    </tr>\n",
       "  </thead>\n",
       "  <tbody>\n",
       "    <tr>\n",
       "      <th>0</th>\n",
       "      <td>no_rent_change</td>\n",
       "      <td>9.0</td>\n",
       "      <td>91.0</td>\n",
       "    </tr>\n",
       "    <tr>\n",
       "      <th>1</th>\n",
       "      <td>rent_change_10</td>\n",
       "      <td>8.0</td>\n",
       "      <td>92.0</td>\n",
       "    </tr>\n",
       "    <tr>\n",
       "      <th>2</th>\n",
       "      <td>rent_change_20</td>\n",
       "      <td>14.0</td>\n",
       "      <td>86.0</td>\n",
       "    </tr>\n",
       "    <tr>\n",
       "      <th>3</th>\n",
       "      <td>lease_length_2</td>\n",
       "      <td>13.0</td>\n",
       "      <td>87.0</td>\n",
       "    </tr>\n",
       "    <tr>\n",
       "      <th>4</th>\n",
       "      <td>lease_length_3</td>\n",
       "      <td>10.0</td>\n",
       "      <td>90.0</td>\n",
       "    </tr>\n",
       "    <tr>\n",
       "      <th>5</th>\n",
       "      <td>lease_length_1</td>\n",
       "      <td>8.0</td>\n",
       "      <td>92.0</td>\n",
       "    </tr>\n",
       "    <tr>\n",
       "      <th>6</th>\n",
       "      <td>age_range_under_24</td>\n",
       "      <td>0.0</td>\n",
       "      <td>100.0</td>\n",
       "    </tr>\n",
       "    <tr>\n",
       "      <th>7</th>\n",
       "      <td>age_range_24_29</td>\n",
       "      <td>3.0</td>\n",
       "      <td>97.0</td>\n",
       "    </tr>\n",
       "    <tr>\n",
       "      <th>8</th>\n",
       "      <td>age_range_30_39</td>\n",
       "      <td>8.0</td>\n",
       "      <td>92.0</td>\n",
       "    </tr>\n",
       "    <tr>\n",
       "      <th>9</th>\n",
       "      <td>age_range_40_49</td>\n",
       "      <td>6.0</td>\n",
       "      <td>94.0</td>\n",
       "    </tr>\n",
       "    <tr>\n",
       "      <th>10</th>\n",
       "      <td>age_range_50_59</td>\n",
       "      <td>3.0</td>\n",
       "      <td>97.0</td>\n",
       "    </tr>\n",
       "    <tr>\n",
       "      <th>11</th>\n",
       "      <td>age_range_60</td>\n",
       "      <td>1.0</td>\n",
       "      <td>99.0</td>\n",
       "    </tr>\n",
       "    <tr>\n",
       "      <th>12</th>\n",
       "      <td>NoFinesViolations</td>\n",
       "      <td>12.0</td>\n",
       "      <td>88.0</td>\n",
       "    </tr>\n",
       "    <tr>\n",
       "      <th>13</th>\n",
       "      <td>PositiveSurvey</td>\n",
       "      <td>13.0</td>\n",
       "      <td>87.0</td>\n",
       "    </tr>\n",
       "    <tr>\n",
       "      <th>14</th>\n",
       "      <td>LatePayments</td>\n",
       "      <td>22.0</td>\n",
       "      <td>78.0</td>\n",
       "    </tr>\n",
       "    <tr>\n",
       "      <th>15</th>\n",
       "      <td>HOA_mandatory</td>\n",
       "      <td>5.0</td>\n",
       "      <td>95.0</td>\n",
       "    </tr>\n",
       "  </tbody>\n",
       "</table>\n",
       "</div>"
      ],
      "text/plain": [
       "               Feature  Yes %   No %\n",
       "0       no_rent_change    9.0   91.0\n",
       "1       rent_change_10    8.0   92.0\n",
       "2       rent_change_20   14.0   86.0\n",
       "3       lease_length_2   13.0   87.0\n",
       "4       lease_length_3   10.0   90.0\n",
       "5       lease_length_1    8.0   92.0\n",
       "6   age_range_under_24    0.0  100.0\n",
       "7      age_range_24_29    3.0   97.0\n",
       "8      age_range_30_39    8.0   92.0\n",
       "9      age_range_40_49    6.0   94.0\n",
       "10     age_range_50_59    3.0   97.0\n",
       "11        age_range_60    1.0   99.0\n",
       "12   NoFinesViolations   12.0   88.0\n",
       "13      PositiveSurvey   13.0   87.0\n",
       "14        LatePayments   22.0   78.0\n",
       "15       HOA_mandatory    5.0   95.0"
      ]
     },
     "execution_count": 841,
     "metadata": {},
     "output_type": "execute_result"
    }
   ],
   "source": [
    "df_renew_2_stat=pd.DataFrame({'Feature':list(df_renew_2.columns),\n",
    "    'Yes %': value[4],\n",
    "     'No %': value[5]\n",
    "    })\n",
    "df_renew_2_stat"
   ]
  },
  {
   "cell_type": "code",
   "execution_count": 843,
   "id": "511cc80a",
   "metadata": {},
   "outputs": [
    {
     "data": {
      "text/html": [
       "<div>\n",
       "<style scoped>\n",
       "    .dataframe tbody tr th:only-of-type {\n",
       "        vertical-align: middle;\n",
       "    }\n",
       "\n",
       "    .dataframe tbody tr th {\n",
       "        vertical-align: top;\n",
       "    }\n",
       "\n",
       "    .dataframe thead th {\n",
       "        text-align: right;\n",
       "    }\n",
       "</style>\n",
       "<table border=\"1\" class=\"dataframe\">\n",
       "  <thead>\n",
       "    <tr style=\"text-align: right;\">\n",
       "      <th></th>\n",
       "      <th>Feature</th>\n",
       "      <th>Yes %</th>\n",
       "      <th>No %</th>\n",
       "    </tr>\n",
       "  </thead>\n",
       "  <tbody>\n",
       "    <tr>\n",
       "      <th>0</th>\n",
       "      <td>no_rent_change</td>\n",
       "      <td>7.0</td>\n",
       "      <td>93.0</td>\n",
       "    </tr>\n",
       "    <tr>\n",
       "      <th>1</th>\n",
       "      <td>rent_change_10</td>\n",
       "      <td>0.0</td>\n",
       "      <td>100.0</td>\n",
       "    </tr>\n",
       "    <tr>\n",
       "      <th>2</th>\n",
       "      <td>rent_change_20</td>\n",
       "      <td>92.0</td>\n",
       "      <td>8.0</td>\n",
       "    </tr>\n",
       "    <tr>\n",
       "      <th>3</th>\n",
       "      <td>lease_length_2</td>\n",
       "      <td>16.0</td>\n",
       "      <td>84.0</td>\n",
       "    </tr>\n",
       "    <tr>\n",
       "      <th>4</th>\n",
       "      <td>lease_length_3</td>\n",
       "      <td>1.0</td>\n",
       "      <td>99.0</td>\n",
       "    </tr>\n",
       "    <tr>\n",
       "      <th>5</th>\n",
       "      <td>lease_length_1</td>\n",
       "      <td>82.0</td>\n",
       "      <td>18.0</td>\n",
       "    </tr>\n",
       "    <tr>\n",
       "      <th>6</th>\n",
       "      <td>age_range_under_24</td>\n",
       "      <td>6.0</td>\n",
       "      <td>94.0</td>\n",
       "    </tr>\n",
       "    <tr>\n",
       "      <th>7</th>\n",
       "      <td>age_range_24_29</td>\n",
       "      <td>11.0</td>\n",
       "      <td>89.0</td>\n",
       "    </tr>\n",
       "    <tr>\n",
       "      <th>8</th>\n",
       "      <td>age_range_30_39</td>\n",
       "      <td>15.0</td>\n",
       "      <td>85.0</td>\n",
       "    </tr>\n",
       "    <tr>\n",
       "      <th>9</th>\n",
       "      <td>age_range_40_49</td>\n",
       "      <td>11.0</td>\n",
       "      <td>89.0</td>\n",
       "    </tr>\n",
       "    <tr>\n",
       "      <th>10</th>\n",
       "      <td>age_range_50_59</td>\n",
       "      <td>7.0</td>\n",
       "      <td>93.0</td>\n",
       "    </tr>\n",
       "    <tr>\n",
       "      <th>11</th>\n",
       "      <td>age_range_60</td>\n",
       "      <td>2.0</td>\n",
       "      <td>98.0</td>\n",
       "    </tr>\n",
       "    <tr>\n",
       "      <th>12</th>\n",
       "      <td>NoFinesViolations</td>\n",
       "      <td>13.0</td>\n",
       "      <td>87.0</td>\n",
       "    </tr>\n",
       "    <tr>\n",
       "      <th>13</th>\n",
       "      <td>PositiveSurvey</td>\n",
       "      <td>33.0</td>\n",
       "      <td>67.0</td>\n",
       "    </tr>\n",
       "    <tr>\n",
       "      <th>14</th>\n",
       "      <td>LatePayments</td>\n",
       "      <td>54.0</td>\n",
       "      <td>46.0</td>\n",
       "    </tr>\n",
       "    <tr>\n",
       "      <th>15</th>\n",
       "      <td>HOA_mandatory</td>\n",
       "      <td>22.0</td>\n",
       "      <td>78.0</td>\n",
       "    </tr>\n",
       "  </tbody>\n",
       "</table>\n",
       "</div>"
      ],
      "text/plain": [
       "               Feature  Yes %   No %\n",
       "0       no_rent_change    7.0   93.0\n",
       "1       rent_change_10    0.0  100.0\n",
       "2       rent_change_20   92.0    8.0\n",
       "3       lease_length_2   16.0   84.0\n",
       "4       lease_length_3    1.0   99.0\n",
       "5       lease_length_1   82.0   18.0\n",
       "6   age_range_under_24    6.0   94.0\n",
       "7      age_range_24_29   11.0   89.0\n",
       "8      age_range_30_39   15.0   85.0\n",
       "9      age_range_40_49   11.0   89.0\n",
       "10     age_range_50_59    7.0   93.0\n",
       "11        age_range_60    2.0   98.0\n",
       "12   NoFinesViolations   13.0   87.0\n",
       "13      PositiveSurvey   33.0   67.0\n",
       "14        LatePayments   54.0   46.0\n",
       "15       HOA_mandatory   22.0   78.0"
      ]
     },
     "execution_count": 843,
     "metadata": {},
     "output_type": "execute_result"
    }
   ],
   "source": [
    "df_not_renew_0_stat=pd.DataFrame({'Feature':list(df_not_renew_0.columns),\n",
    "    'Yes %': value[6],\n",
    "     'No %': value[7]\n",
    "    })\n",
    "df_not_renew_0_stat"
   ]
  },
  {
   "cell_type": "code",
   "execution_count": 844,
   "id": "1f119dff",
   "metadata": {},
   "outputs": [
    {
     "data": {
      "text/html": [
       "<div>\n",
       "<style scoped>\n",
       "    .dataframe tbody tr th:only-of-type {\n",
       "        vertical-align: middle;\n",
       "    }\n",
       "\n",
       "    .dataframe tbody tr th {\n",
       "        vertical-align: top;\n",
       "    }\n",
       "\n",
       "    .dataframe thead th {\n",
       "        text-align: right;\n",
       "    }\n",
       "</style>\n",
       "<table border=\"1\" class=\"dataframe\">\n",
       "  <thead>\n",
       "    <tr style=\"text-align: right;\">\n",
       "      <th></th>\n",
       "      <th>Feature</th>\n",
       "      <th>Yes %</th>\n",
       "      <th>No %</th>\n",
       "    </tr>\n",
       "  </thead>\n",
       "  <tbody>\n",
       "    <tr>\n",
       "      <th>0</th>\n",
       "      <td>no_rent_change</td>\n",
       "      <td>7.0</td>\n",
       "      <td>93.0</td>\n",
       "    </tr>\n",
       "    <tr>\n",
       "      <th>1</th>\n",
       "      <td>rent_change_10</td>\n",
       "      <td>0.0</td>\n",
       "      <td>100.0</td>\n",
       "    </tr>\n",
       "    <tr>\n",
       "      <th>2</th>\n",
       "      <td>rent_change_20</td>\n",
       "      <td>92.0</td>\n",
       "      <td>8.0</td>\n",
       "    </tr>\n",
       "    <tr>\n",
       "      <th>3</th>\n",
       "      <td>lease_length_2</td>\n",
       "      <td>16.0</td>\n",
       "      <td>84.0</td>\n",
       "    </tr>\n",
       "    <tr>\n",
       "      <th>4</th>\n",
       "      <td>lease_length_3</td>\n",
       "      <td>1.0</td>\n",
       "      <td>99.0</td>\n",
       "    </tr>\n",
       "    <tr>\n",
       "      <th>5</th>\n",
       "      <td>lease_length_1</td>\n",
       "      <td>82.0</td>\n",
       "      <td>18.0</td>\n",
       "    </tr>\n",
       "    <tr>\n",
       "      <th>6</th>\n",
       "      <td>age_range_under_24</td>\n",
       "      <td>6.0</td>\n",
       "      <td>94.0</td>\n",
       "    </tr>\n",
       "    <tr>\n",
       "      <th>7</th>\n",
       "      <td>age_range_24_29</td>\n",
       "      <td>11.0</td>\n",
       "      <td>89.0</td>\n",
       "    </tr>\n",
       "    <tr>\n",
       "      <th>8</th>\n",
       "      <td>age_range_30_39</td>\n",
       "      <td>15.0</td>\n",
       "      <td>85.0</td>\n",
       "    </tr>\n",
       "    <tr>\n",
       "      <th>9</th>\n",
       "      <td>age_range_40_49</td>\n",
       "      <td>11.0</td>\n",
       "      <td>89.0</td>\n",
       "    </tr>\n",
       "    <tr>\n",
       "      <th>10</th>\n",
       "      <td>age_range_50_59</td>\n",
       "      <td>7.0</td>\n",
       "      <td>93.0</td>\n",
       "    </tr>\n",
       "    <tr>\n",
       "      <th>11</th>\n",
       "      <td>age_range_60</td>\n",
       "      <td>2.0</td>\n",
       "      <td>98.0</td>\n",
       "    </tr>\n",
       "    <tr>\n",
       "      <th>12</th>\n",
       "      <td>NoFinesViolations</td>\n",
       "      <td>13.0</td>\n",
       "      <td>87.0</td>\n",
       "    </tr>\n",
       "    <tr>\n",
       "      <th>13</th>\n",
       "      <td>PositiveSurvey</td>\n",
       "      <td>33.0</td>\n",
       "      <td>67.0</td>\n",
       "    </tr>\n",
       "    <tr>\n",
       "      <th>14</th>\n",
       "      <td>LatePayments</td>\n",
       "      <td>54.0</td>\n",
       "      <td>46.0</td>\n",
       "    </tr>\n",
       "    <tr>\n",
       "      <th>15</th>\n",
       "      <td>HOA_mandatory</td>\n",
       "      <td>22.0</td>\n",
       "      <td>78.0</td>\n",
       "    </tr>\n",
       "  </tbody>\n",
       "</table>\n",
       "</div>"
      ],
      "text/plain": [
       "               Feature  Yes %   No %\n",
       "0       no_rent_change    7.0   93.0\n",
       "1       rent_change_10    0.0  100.0\n",
       "2       rent_change_20   92.0    8.0\n",
       "3       lease_length_2   16.0   84.0\n",
       "4       lease_length_3    1.0   99.0\n",
       "5       lease_length_1   82.0   18.0\n",
       "6   age_range_under_24    6.0   94.0\n",
       "7      age_range_24_29   11.0   89.0\n",
       "8      age_range_30_39   15.0   85.0\n",
       "9      age_range_40_49   11.0   89.0\n",
       "10     age_range_50_59    7.0   93.0\n",
       "11        age_range_60    2.0   98.0\n",
       "12   NoFinesViolations   13.0   87.0\n",
       "13      PositiveSurvey   33.0   67.0\n",
       "14        LatePayments   54.0   46.0\n",
       "15       HOA_mandatory   22.0   78.0"
      ]
     },
     "execution_count": 844,
     "metadata": {},
     "output_type": "execute_result"
    }
   ],
   "source": [
    "df_not_renew_1_stat=pd.DataFrame({'Feature':list(df_not_renew_1.columns),\n",
    "    'Yes %': value[8],\n",
    "     'No %': value[9]\n",
    "    })\n",
    "df_not_renew_1_stat"
   ]
  },
  {
   "cell_type": "markdown",
   "id": "f64f4772",
   "metadata": {},
   "source": [
    "## Using above table for cluster analysis :-\n",
    "### The three cluster who had renwed lease had following details:-"
   ]
  },
  {
   "cell_type": "markdown",
   "id": "802cf156",
   "metadata": {},
   "source": [
    "#### Cluster 1:-"
   ]
  },
  {
   "cell_type": "code",
   "execution_count": 848,
   "id": "25150c8f",
   "metadata": {},
   "outputs": [
    {
     "data": {
      "text/html": [
       "<div>\n",
       "<style scoped>\n",
       "    .dataframe tbody tr th:only-of-type {\n",
       "        vertical-align: middle;\n",
       "    }\n",
       "\n",
       "    .dataframe tbody tr th {\n",
       "        vertical-align: top;\n",
       "    }\n",
       "\n",
       "    .dataframe thead th {\n",
       "        text-align: right;\n",
       "    }\n",
       "</style>\n",
       "<table border=\"1\" class=\"dataframe\">\n",
       "  <thead>\n",
       "    <tr style=\"text-align: right;\">\n",
       "      <th></th>\n",
       "      <th>Feature</th>\n",
       "      <th>Yes %</th>\n",
       "      <th>No %</th>\n",
       "    </tr>\n",
       "  </thead>\n",
       "  <tbody>\n",
       "    <tr>\n",
       "      <th>0</th>\n",
       "      <td>no_rent_change</td>\n",
       "      <td>79.0</td>\n",
       "      <td>21.0</td>\n",
       "    </tr>\n",
       "    <tr>\n",
       "      <th>3</th>\n",
       "      <td>lease_length_2</td>\n",
       "      <td>72.0</td>\n",
       "      <td>28.0</td>\n",
       "    </tr>\n",
       "    <tr>\n",
       "      <th>14</th>\n",
       "      <td>LatePayments</td>\n",
       "      <td>94.0</td>\n",
       "      <td>6.0</td>\n",
       "    </tr>\n",
       "  </tbody>\n",
       "</table>\n",
       "</div>"
      ],
      "text/plain": [
       "           Feature  Yes %  No %\n",
       "0   no_rent_change   79.0  21.0\n",
       "3   lease_length_2   72.0  28.0\n",
       "14    LatePayments   94.0   6.0"
      ]
     },
     "execution_count": 848,
     "metadata": {},
     "output_type": "execute_result"
    }
   ],
   "source": [
    "df_renew_0_stat[df_renew_0_stat[\"Yes %\"]>50.0]"
   ]
  },
  {
   "cell_type": "markdown",
   "id": "9322dc8e",
   "metadata": {},
   "source": [
    "#### Cluster 2:-"
   ]
  },
  {
   "cell_type": "code",
   "execution_count": 849,
   "id": "4321b417",
   "metadata": {},
   "outputs": [
    {
     "data": {
      "text/html": [
       "<div>\n",
       "<style scoped>\n",
       "    .dataframe tbody tr th:only-of-type {\n",
       "        vertical-align: middle;\n",
       "    }\n",
       "\n",
       "    .dataframe tbody tr th {\n",
       "        vertical-align: top;\n",
       "    }\n",
       "\n",
       "    .dataframe thead th {\n",
       "        text-align: right;\n",
       "    }\n",
       "</style>\n",
       "<table border=\"1\" class=\"dataframe\">\n",
       "  <thead>\n",
       "    <tr style=\"text-align: right;\">\n",
       "      <th></th>\n",
       "      <th>Feature</th>\n",
       "      <th>Yes %</th>\n",
       "      <th>No %</th>\n",
       "    </tr>\n",
       "  </thead>\n",
       "  <tbody>\n",
       "    <tr>\n",
       "      <th>2</th>\n",
       "      <td>rent_change_20</td>\n",
       "      <td>99.0</td>\n",
       "      <td>1.0</td>\n",
       "    </tr>\n",
       "    <tr>\n",
       "      <th>5</th>\n",
       "      <td>lease_length_1</td>\n",
       "      <td>98.0</td>\n",
       "      <td>2.0</td>\n",
       "    </tr>\n",
       "    <tr>\n",
       "      <th>14</th>\n",
       "      <td>LatePayments</td>\n",
       "      <td>57.0</td>\n",
       "      <td>43.0</td>\n",
       "    </tr>\n",
       "  </tbody>\n",
       "</table>\n",
       "</div>"
      ],
      "text/plain": [
       "           Feature  Yes %  No %\n",
       "2   rent_change_20   99.0   1.0\n",
       "5   lease_length_1   98.0   2.0\n",
       "14    LatePayments   57.0  43.0"
      ]
     },
     "execution_count": 849,
     "metadata": {},
     "output_type": "execute_result"
    }
   ],
   "source": [
    "df_renew_1_stat[df_renew_1_stat[\"Yes %\"]>50.0]"
   ]
  },
  {
   "cell_type": "markdown",
   "id": "0a0d5e0c",
   "metadata": {},
   "source": [
    "#### Cluster 3:-"
   ]
  },
  {
   "cell_type": "code",
   "execution_count": 854,
   "id": "947bcae2",
   "metadata": {},
   "outputs": [
    {
     "data": {
      "text/html": [
       "<div>\n",
       "<style scoped>\n",
       "    .dataframe tbody tr th:only-of-type {\n",
       "        vertical-align: middle;\n",
       "    }\n",
       "\n",
       "    .dataframe tbody tr th {\n",
       "        vertical-align: top;\n",
       "    }\n",
       "\n",
       "    .dataframe thead th {\n",
       "        text-align: right;\n",
       "    }\n",
       "</style>\n",
       "<table border=\"1\" class=\"dataframe\">\n",
       "  <thead>\n",
       "    <tr style=\"text-align: right;\">\n",
       "      <th></th>\n",
       "      <th>Feature</th>\n",
       "      <th>Yes %</th>\n",
       "      <th>No %</th>\n",
       "    </tr>\n",
       "  </thead>\n",
       "  <tbody>\n",
       "    <tr>\n",
       "      <th>14</th>\n",
       "      <td>LatePayments</td>\n",
       "      <td>22.0</td>\n",
       "      <td>78.0</td>\n",
       "    </tr>\n",
       "  </tbody>\n",
       "</table>\n",
       "</div>"
      ],
      "text/plain": [
       "         Feature  Yes %  No %\n",
       "14  LatePayments   22.0  78.0"
      ]
     },
     "execution_count": 854,
     "metadata": {},
     "output_type": "execute_result"
    }
   ],
   "source": [
    "df_renew_2_stat[df_renew_2_stat[\"Yes %\"]>20.0]"
   ]
  },
  {
   "cell_type": "markdown",
   "id": "dd189e79",
   "metadata": {},
   "source": [
    "### Two cluster who had not renewed lease:- "
   ]
  },
  {
   "cell_type": "markdown",
   "id": "6433bef1",
   "metadata": {},
   "source": [
    "#### Cluster 1:-"
   ]
  },
  {
   "cell_type": "code",
   "execution_count": 856,
   "id": "a0c645cc",
   "metadata": {},
   "outputs": [
    {
     "data": {
      "text/html": [
       "<div>\n",
       "<style scoped>\n",
       "    .dataframe tbody tr th:only-of-type {\n",
       "        vertical-align: middle;\n",
       "    }\n",
       "\n",
       "    .dataframe tbody tr th {\n",
       "        vertical-align: top;\n",
       "    }\n",
       "\n",
       "    .dataframe thead th {\n",
       "        text-align: right;\n",
       "    }\n",
       "</style>\n",
       "<table border=\"1\" class=\"dataframe\">\n",
       "  <thead>\n",
       "    <tr style=\"text-align: right;\">\n",
       "      <th></th>\n",
       "      <th>Feature</th>\n",
       "      <th>Yes %</th>\n",
       "      <th>No %</th>\n",
       "    </tr>\n",
       "  </thead>\n",
       "  <tbody>\n",
       "    <tr>\n",
       "      <th>2</th>\n",
       "      <td>rent_change_20</td>\n",
       "      <td>92.0</td>\n",
       "      <td>8.0</td>\n",
       "    </tr>\n",
       "    <tr>\n",
       "      <th>5</th>\n",
       "      <td>lease_length_1</td>\n",
       "      <td>82.0</td>\n",
       "      <td>18.0</td>\n",
       "    </tr>\n",
       "    <tr>\n",
       "      <th>14</th>\n",
       "      <td>LatePayments</td>\n",
       "      <td>54.0</td>\n",
       "      <td>46.0</td>\n",
       "    </tr>\n",
       "  </tbody>\n",
       "</table>\n",
       "</div>"
      ],
      "text/plain": [
       "           Feature  Yes %  No %\n",
       "2   rent_change_20   92.0   8.0\n",
       "5   lease_length_1   82.0  18.0\n",
       "14    LatePayments   54.0  46.0"
      ]
     },
     "execution_count": 856,
     "metadata": {},
     "output_type": "execute_result"
    }
   ],
   "source": [
    "df_not_renew_0_stat[df_not_renew_0_stat[\"Yes %\"]>50]"
   ]
  },
  {
   "cell_type": "markdown",
   "id": "1002baf8",
   "metadata": {},
   "source": [
    "#### Cluster 2:-"
   ]
  },
  {
   "cell_type": "code",
   "execution_count": 857,
   "id": "cd13e6e0",
   "metadata": {},
   "outputs": [
    {
     "data": {
      "text/html": [
       "<div>\n",
       "<style scoped>\n",
       "    .dataframe tbody tr th:only-of-type {\n",
       "        vertical-align: middle;\n",
       "    }\n",
       "\n",
       "    .dataframe tbody tr th {\n",
       "        vertical-align: top;\n",
       "    }\n",
       "\n",
       "    .dataframe thead th {\n",
       "        text-align: right;\n",
       "    }\n",
       "</style>\n",
       "<table border=\"1\" class=\"dataframe\">\n",
       "  <thead>\n",
       "    <tr style=\"text-align: right;\">\n",
       "      <th></th>\n",
       "      <th>Feature</th>\n",
       "      <th>Yes %</th>\n",
       "      <th>No %</th>\n",
       "    </tr>\n",
       "  </thead>\n",
       "  <tbody>\n",
       "    <tr>\n",
       "      <th>2</th>\n",
       "      <td>rent_change_20</td>\n",
       "      <td>92.0</td>\n",
       "      <td>8.0</td>\n",
       "    </tr>\n",
       "    <tr>\n",
       "      <th>5</th>\n",
       "      <td>lease_length_1</td>\n",
       "      <td>82.0</td>\n",
       "      <td>18.0</td>\n",
       "    </tr>\n",
       "    <tr>\n",
       "      <th>14</th>\n",
       "      <td>LatePayments</td>\n",
       "      <td>54.0</td>\n",
       "      <td>46.0</td>\n",
       "    </tr>\n",
       "  </tbody>\n",
       "</table>\n",
       "</div>"
      ],
      "text/plain": [
       "           Feature  Yes %  No %\n",
       "2   rent_change_20   92.0   8.0\n",
       "5   lease_length_1   82.0  18.0\n",
       "14    LatePayments   54.0  46.0"
      ]
     },
     "execution_count": 857,
     "metadata": {},
     "output_type": "execute_result"
    }
   ],
   "source": [
    "df_not_renew_1_stat[df_not_renew_1_stat[\"Yes %\"]>50]"
   ]
  },
  {
   "cell_type": "markdown",
   "id": "41f5a438",
   "metadata": {},
   "source": [
    "### Using this analysis we can derive some solid conclusion regarding customer behaviour but as all the given data is consisting of categorical variable , some numerical variable will required to make any business decision."
   ]
  },
  {
   "cell_type": "code",
   "execution_count": null,
   "id": "17884f5c",
   "metadata": {},
   "outputs": [],
   "source": []
  }
 ],
 "metadata": {
  "kernelspec": {
   "display_name": "Python 3 (ipykernel)",
   "language": "python",
   "name": "python3"
  },
  "language_info": {
   "codemirror_mode": {
    "name": "ipython",
    "version": 3
   },
   "file_extension": ".py",
   "mimetype": "text/x-python",
   "name": "python",
   "nbconvert_exporter": "python",
   "pygments_lexer": "ipython3",
   "version": "3.9.13"
  }
 },
 "nbformat": 4,
 "nbformat_minor": 5
}
